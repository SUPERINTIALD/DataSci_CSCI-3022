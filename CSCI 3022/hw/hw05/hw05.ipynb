{
 "cells": [
  {
   "cell_type": "code",
   "execution_count": 1,
   "id": "94a7a00c",
   "metadata": {
    "deletable": false,
    "editable": false
   },
   "outputs": [],
   "source": [
    "# Initialize Otter\n",
    "import otter\n",
    "grader = otter.Notebook(\"hw05.ipynb\")"
   ]
  },
  {
   "cell_type": "markdown",
   "id": "0a41ef94",
   "metadata": {},
   "source": [
    "# Homework 5\n",
    "\n",
    "## Due Date: Thursday, September 28 by 11:59 PM MT on Gradescope\n",
    "\n",
    "\n",
    "## Collaboration Policy\n",
    "\n",
    "Data science is a collaborative activity.  However a key step in learning and retention is **creating solutions on your own.**  \n",
    "\n",
    "Below are examples of acceptable vs unacceptable use of resources and collaboration when doing HW assignments in CSCI 3022.\n",
    "\n",
    "\n",
    "The following would be some **examples of cheating** when working on HW assignments in CSCI 3022.  Any of these constitute a **violation of the course's collaboration policy and will result in an F in the course and a trip to the honor council**.   \n",
    "\n",
    "\n",
    " - Consulting web pages that may have a solution to a given homework problem or one similar is cheating.  However, consulting the class notes, and web pages that explain the material taught in class but do NOT show a solution to the homework problem in question are permissible to view.  Clearly, there's a fuzzy line here between a valid use of resources and cheating. To avoid this line, one should merely consult the course notes, the course textbook, and references that contain syntax and/or formulas.\n",
    " - Copying a segment of code or math solution of three lines or more from another student from a printout, handwritten copy, or by looking at their computer screen \n",
    " - Allowing another student to copy a segment of your code or math solution of three lines or more\n",
    " - Taking a copy of another student's work (or a solution found online) and then editing that copy\n",
    " - Reading someone else’s solution to a problem on the HW before writing your own.\n",
    " - Asking someone to write all or part of a program or solution for you.\n",
    " - Asking someone else for the code necessary to fix the error for you, other than for simple syntactical errors\n",
    " \n",
    "\n",
    "\n",
    "On the other hand, the following are some **examples of things which would NOT usually be\n",
    "considered to be cheating**:\n",
    " - Working on a HW problem on your own first and then discussing with a classmate a particular part in the problem solution where you are stuck.  After clarifying any questions you should then continue to write your solution independently.\n",
    " - Asking someone (or searching online) how a particular construct in the language works.\n",
    " - Asking someone (or searching online) how to formulate a particular construct in the language.\n",
    " - Asking someone for help in finding an error in your program.  \n",
    " - Asking someone why a particular construct does not work as you expected in a given program.\n",
    "   \n",
    "\n",
    "To test whether you are truly doing your own work and retaining what you've learned you should be able to easily reproduce from scratch and explain a HW solution that was your own when asked in office hours by a TA/Instructor or on a quiz/exam.   \n",
    "\n",
    "\n",
    "If you have difficulty in formulating the general solution to a problem on your own, or\n",
    "you have difficulty in translating that general solution into a program, it is advisable to see\n",
    "your instructor or teaching assistant rather than another student as this situation can easily\n",
    "lead to a, possibly inadvertent, cheating situation.\n",
    "\n",
    "We are here to help!  Visit HW Hours and/or post questions on Piazza!\n"
   ]
  },
  {
   "cell_type": "markdown",
   "id": "e4d8a09d",
   "metadata": {},
   "source": [
    "If while completing this assignment you reference any websites other than those linked in this assignment or provided on Canvas please list those references here:\n",
    "\n",
    "**External references**:  *list any websites you referenced"
   ]
  },
  {
   "cell_type": "markdown",
   "id": "24b45ac0",
   "metadata": {},
   "source": [
    "#### Grading\n",
    "Grading is broken down into autograded answers and manually graded answers. \n",
    "\n",
    "For autograded answers, the results of your code are compared to provided and/or hidden tests.\n",
    "\n",
    "For manually graded answers you must show and explain all steps.  Graders will evaluate how well you answered the question and/or fulfilled the requirements of the question.\n",
    "\n",
    "\n",
    "### Score breakdown\n",
    "\n",
    "\n",
    "\n",
    "Question | Points | Grading Type\n",
    "--- | --- | ---\n",
    "Question 1 | 4 | autograded\n",
    "Question 2 | 4 | manual\n",
    "Question 3 | 6 | manual\n",
    "Question 4a | 3 | manual\n",
    "Question 4bi-iii | 5 | autograded\n",
    "Question 4biii | 4 | manual\n",
    "Question 5 | 8 | manual\n",
    "Question 6 | 10 | manual\n",
    "Question 7 | 6 | manual\n",
    "|Total | 50"
   ]
  },
  {
   "cell_type": "markdown",
   "id": "c0eec3bc",
   "metadata": {},
   "source": [
    "<a id='top'></a>\n",
    "---\n",
    "**Shortcuts:**  [Problem 2](#p2) | [Problem 3](#p3) | [Problem 4](#p4) | [Problem 5](#p5) |  [Problem 6](#p6) | [Problem 7](#p7) | \n",
    "---\n",
    "<hr style=\"border: 5px solid #003262;\" />\n",
    "<hr style=\"border: 1px solid #fdb515;\" />\n",
    "\n"
   ]
  },
  {
   "cell_type": "markdown",
   "id": "20206110",
   "metadata": {},
   "source": [
    "In this homework you'll investigate probability. You'll also use probability simulations to estimate probabilities, gain intuition about random processes and to check your pencil and paper work.   \n"
   ]
  },
  {
   "cell_type": "code",
   "execution_count": 2,
   "id": "931c6bb1",
   "metadata": {
    "scrolled": true
   },
   "outputs": [],
   "source": [
    "import pandas as pd\n",
    "import numpy as np\n",
    "import matplotlib.pylab as plt\n",
    "%matplotlib inline"
   ]
  },
  {
   "cell_type": "markdown",
   "id": "638ea3bb",
   "metadata": {},
   "source": [
    "### Problem 1: Roulette!\n",
    "\n",
    "\n",
    "A Nevada roulette wheel has 38 pockets and a small ball that rests on the wheel. When the wheel is spun, the ball comes to rest in one of the 38 pockets. That pocket is declared the winner. \n",
    "\n",
    "The pockets are labeled 0, 00, 1, 2, 3, 4, ... , 36. Pockets 0 and 00 are green, and the other pockets are alternately red and black. Below is an example of a roulette wheel!"
   ]
  },
  {
   "cell_type": "markdown",
   "id": "141c584c",
   "metadata": {},
   "source": [
    "<img src=\"img/roulette_wheel.jpeg\" width=\"330px\">"
   ]
  },
  {
   "cell_type": "markdown",
   "id": "ffd92b12",
   "metadata": {},
   "source": [
    "\n",
    "\n",
    "\n"
   ]
  },
  {
   "cell_type": "markdown",
   "id": "a2774291",
   "metadata": {},
   "source": [
    "\n",
    "On each spin of a roulette wheel, all 38 pockets are equally likely to be the winner regardless of the results of other spins. Among the 38 pockets, 18 are red, 18 black, and 2 green. "
   ]
  },
  {
   "cell_type": "markdown",
   "id": "ccb712bb",
   "metadata": {
    "deletable": false,
    "editable": false
   },
   "source": [
    "**In each part below, write code that evaluates to the chance of the event described.**\n",
    "\n",
    "**Part 1A (1 pt).**  What is the probability the winning pocket is black on all of the first three spins?\n"
   ]
  },
  {
   "cell_type": "code",
   "execution_count": 3,
   "id": "21341f68",
   "metadata": {
    "tags": []
   },
   "outputs": [],
   "source": [
    "first_three_black = (18/38) * (18/38) * (18/38)"
   ]
  },
  {
   "cell_type": "code",
   "execution_count": 4,
   "id": "a5ada309",
   "metadata": {
    "deletable": false,
    "editable": false
   },
   "outputs": [
    {
     "data": {
      "text/html": [
       "<p><strong><pre style='display: inline;'>q1a</pre></strong> passed! 🚀</p>"
      ],
      "text/plain": [
       "q1a results: All test cases passed!"
      ]
     },
     "execution_count": 4,
     "metadata": {},
     "output_type": "execute_result"
    }
   ],
   "source": [
    "grader.check(\"q1a\")"
   ]
  },
  {
   "cell_type": "markdown",
   "id": "7c7ee8be",
   "metadata": {
    "deletable": false,
    "editable": false
   },
   "source": [
    "**Part 1B (1 pt)**  What is the probability the color green never wins in the first 10 spins?"
   ]
  },
  {
   "cell_type": "code",
   "execution_count": 5,
   "id": "4fdbbb20",
   "metadata": {
    "tags": []
   },
   "outputs": [],
   "source": [
    "no_green = (36/38)*(36/38)*(36/38)*(36/38)*(36/38)*(36/38)*(36/38)*(36/38)*(36/38)*(36/38)"
   ]
  },
  {
   "cell_type": "code",
   "execution_count": 6,
   "id": "9f3ce661",
   "metadata": {
    "deletable": false,
    "editable": false
   },
   "outputs": [
    {
     "data": {
      "text/html": [
       "<p><strong><pre style='display: inline;'>q1b</pre></strong> passed! 🍀</p>"
      ],
      "text/plain": [
       "q1b results: All test cases passed!"
      ]
     },
     "execution_count": 6,
     "metadata": {},
     "output_type": "execute_result"
    }
   ],
   "source": [
    "grader.check(\"q1b\")"
   ]
  },
  {
   "cell_type": "markdown",
   "id": "1f4a6e57",
   "metadata": {
    "deletable": false,
    "editable": false
   },
   "source": [
    "**Part 1C (1 pt)** What is the probability the color green wins at least once on the first 10 spins?\n"
   ]
  },
  {
   "cell_type": "code",
   "execution_count": 7,
   "id": "de76de56",
   "metadata": {
    "tags": []
   },
   "outputs": [],
   "source": [
    "at_least_one_green = 1 - (36/38)*(36/38)*(36/38)*(36/38)*(36/38)*(36/38)*(36/38)*(36/38)*(36/38)*(36/38)"
   ]
  },
  {
   "cell_type": "code",
   "execution_count": 8,
   "id": "6c6da3e2",
   "metadata": {
    "deletable": false,
    "editable": false
   },
   "outputs": [
    {
     "data": {
      "text/html": [
       "<p><strong><pre style='display: inline;'>q1c</pre></strong> passed! 🙌</p>"
      ],
      "text/plain": [
       "q1c results: All test cases passed!"
      ]
     },
     "execution_count": 8,
     "metadata": {},
     "output_type": "execute_result"
    }
   ],
   "source": [
    "grader.check(\"q1c\")"
   ]
  },
  {
   "cell_type": "markdown",
   "id": "d4001160",
   "metadata": {
    "deletable": false,
    "editable": false
   },
   "source": [
    "**Part 1D (1 pts).** What is the probability two of the three colors never win in the first 10 spins?\n",
    "\n"
   ]
  },
  {
   "cell_type": "code",
   "execution_count": 9,
   "id": "2932ea73",
   "metadata": {
    "tags": []
   },
   "outputs": [],
   "source": [
    "lone_winners = (2/38)**10 + (18/38)**10 + (18/38)**10"
   ]
  },
  {
   "cell_type": "code",
   "execution_count": 10,
   "id": "e845359d",
   "metadata": {
    "deletable": false,
    "editable": false
   },
   "outputs": [
    {
     "data": {
      "text/html": [
       "<p><strong><pre style='display: inline;'>q14</pre></strong> passed! 🚀</p>"
      ],
      "text/plain": [
       "q14 results: All test cases passed!"
      ]
     },
     "execution_count": 10,
     "metadata": {},
     "output_type": "execute_result"
    }
   ],
   "source": [
    "grader.check(\"q14\")"
   ]
  },
  {
   "cell_type": "markdown",
   "id": "cdeb51fe",
   "metadata": {
    "deletable": false,
    "editable": false
   },
   "source": [
    "<!-- BEGIN QUESTION -->\n",
    "\n",
    "***\n",
    "\n",
    "[Back to top](#top)\n",
    "\n",
    "<a id='p2'></a>\n",
    "\n",
    "### Problem 2\n",
    "\n",
    "Let $A$ and $B$ be events in a sample space $\\Omega$.  \n",
    "\n",
    "Suppose that the probability that $A$ occurs is $0.2$, the probability that $B$ occurs is $0.6$, and the probability that $\\textbf{neither}$ $A$ $\\textbf{nor}$ $B$ occur is $0.3$.  \n",
    "\n",
    "\n",
    "**2a) (2 pts)**  What is $P(A, B)$?\n",
    "\n",
    "**2b) (2 pts)**  What is $P(B\\mid A')$?\n",
    "\n",
    "\n",
    "Write up your full solution to both questions in the SAME box below using LaTeX (not code).  Show all steps fully justifying your answers.  \n"
   ]
  },
  {
   "cell_type": "markdown",
   "id": "94cbccdc",
   "metadata": {},
   "source": [
    "2a)\n",
    "\n",
    "\n",
    "\n",
    "$P(A, B) = P(A) + P(B) - (A \\cup B)$\n",
    "\n",
    "\n",
    "Where  $(A \\cup B) = 1 - P(A' \\cap B')$\n",
    "\n",
    "\n",
    "$P(A, B) = P(A) + P(B) -(1 - P(A' \\cap B'))$\n",
    "\n",
    "\n",
    "$P(A, B) = 0.2 + 0.6 - (1 - 0.3) = 0.1$\n",
    "\n",
    "2b)\n",
    "\n",
    "\n",
    "$P(B\\mid A') = \\frac{P(B \\cap A')}{P(A')}$\n",
    "\n",
    "\n",
    "Where $P(A') = 1 - P(A) = 1 - 0.2 = 0.8$\n",
    "\n",
    "and $P(B \\cap A') = P(B) - P(A \\cap B)$ \n",
    "\n",
    "We know that $P(A \\cap B) = 0.1$ from $2a)$\n",
    "\n",
    "Thus $P(B \\cap A') = P(B) - P(A \\cap B) = 0.6 - 0.1 = 0.5$\n",
    "\n",
    "Finally,  $P(B\\mid A') = \\frac{P(B \\cap A')}{P(A')} = \\frac{0.5}{0.8} = \\frac{5}{8}$"
   ]
  },
  {
   "cell_type": "markdown",
   "id": "0e170d08",
   "metadata": {
    "deletable": false,
    "editable": false
   },
   "source": [
    "<!-- END QUESTION -->\n",
    "\n",
    "To check your answer for Problem 2a, enter the answer you came up with (just the number) in the cell below. Note that this is just a public test. Full credit requires that you show all your work written in LaTeX fully justifying your answer in the cell above.  "
   ]
  },
  {
   "cell_type": "code",
   "execution_count": 11,
   "id": "73372c9e",
   "metadata": {
    "tags": []
   },
   "outputs": [],
   "source": [
    "q2a_answer = 0.1"
   ]
  },
  {
   "cell_type": "code",
   "execution_count": 12,
   "id": "3199e738",
   "metadata": {
    "deletable": false,
    "editable": false
   },
   "outputs": [
    {
     "data": {
      "text/html": [
       "<p><strong><pre style='display: inline;'>q2acheck</pre></strong> passed! 🚀</p>"
      ],
      "text/plain": [
       "q2acheck results: All test cases passed!"
      ]
     },
     "execution_count": 12,
     "metadata": {},
     "output_type": "execute_result"
    }
   ],
   "source": [
    "grader.check(\"q2acheck\")"
   ]
  },
  {
   "cell_type": "markdown",
   "id": "f4fdf61c",
   "metadata": {
    "deletable": false,
    "editable": false
   },
   "source": [
    "To check your answer for Problem 2b, enter the answer you came up with (just the number) in the cell below. Note that this is just a public test. Full credit requires that you show all your work written in LaTeX fully justifying your answer in the Markdown cell provided above.  "
   ]
  },
  {
   "cell_type": "code",
   "execution_count": 13,
   "id": "b454f3d3",
   "metadata": {
    "tags": []
   },
   "outputs": [],
   "source": [
    "q2b_answer = 5/8"
   ]
  },
  {
   "cell_type": "code",
   "execution_count": 14,
   "id": "975fa655",
   "metadata": {
    "deletable": false,
    "editable": false
   },
   "outputs": [
    {
     "data": {
      "text/html": [
       "<p><strong><pre style='display: inline;'>q2bcheck</pre></strong> passed! 💯</p>"
      ],
      "text/plain": [
       "q2bcheck results: All test cases passed!"
      ]
     },
     "execution_count": 14,
     "metadata": {},
     "output_type": "execute_result"
    }
   ],
   "source": [
    "grader.check(\"q2bcheck\")"
   ]
  },
  {
   "cell_type": "markdown",
   "id": "2ba3c6c2",
   "metadata": {
    "deletable": false,
    "editable": false
   },
   "source": [
    "<!-- BEGIN QUESTION -->\n",
    "\n",
    "[Back to top](#top)\n",
    "\n",
    "<a id='p3'></a>\n",
    "\n",
    "### Problem 3\n",
    "\n",
    "The accuracy of a diagnostic test is often described using the following terms:\n",
    "\n",
    " - Test Sensitivity: Ability to detect a positive case (i.e. probability that the test is positive given that the person actually has the virus).\n",
    "\n",
    " - Test Specificity:  Ability to determine a negative case (i.e. the probability that a person tests negative given that they don't have the virus)).\n",
    "\n",
    "\n",
    "Suppose a  diagnostic test for a virus is reported to have $90\\%$ sensitivity and $92\\%$ specificity.\n",
    "\n",
    "Suppose $2\\%$ of the population has the virus in question.  \n",
    "\n",
    "Answer the following questions all in ONE cell below using LaTeX.  Show all steps.\n",
    "\n",
    "**3a) (5 pts)**.  If a person is chosen at random from the population and the diagnostic test indicates that they have the virus, what is the conditional probability that they do, in fact, have the virus?    Write up your full solution using LaTeX.\n",
    "\n",
    "**3b) (1 pt)**.  Terminology: What is the prior and what is the likelihood in this scenario?\n"
   ]
  },
  {
   "cell_type": "markdown",
   "id": "e0eebb96",
   "metadata": {},
   "source": [
    "3a) \n",
    "$P(Virus|Positive) = \\frac{P(Positive|Virus)\\cdot P(Virus)}{P(Positive|Virus) \\cdot P(Virus) + P(Positive|No Virus) \\cdot P(No Virus)}$\n",
    "\n",
    "The ability to detect a positive case is 90%. Ability to detect negative case is 92. However we need a (Positive|No Virus) which will be 1 - 0.92 = 0.08. We see that 2% of the population has virus. And that 98% don't have a virus.\n",
    "\n",
    "We plug these values in\n",
    "\n",
    "\n",
    "$P(Virus|Positive) = \\frac{0.9 \\cdot 0.02}{0.9 \\cdot 0.02 + 0.98 * 0.08}$\n",
    "\n",
    "\n",
    "3b)\n",
    "\n",
    "Prior is what the population has virus before the test result. Thus the Prior is 2%\n",
    "\n",
    "\n",
    "The likelihood is the probability of getting the positive test result that the person actually has the virus. Thus the likelihood is 90%"
   ]
  },
  {
   "cell_type": "markdown",
   "id": "2e62757b",
   "metadata": {
    "deletable": false,
    "editable": false
   },
   "source": [
    "<!-- END QUESTION -->\n",
    "\n",
    "To check your answer for Problem 3a, enter the answer you came up with (just the probability) in the cell below. Note that this is just a public test. Full credit requires that you show all your work written in LaTeX and fully justifying your answer above."
   ]
  },
  {
   "cell_type": "code",
   "execution_count": 15,
   "id": "dc7d990f",
   "metadata": {
    "tags": []
   },
   "outputs": [],
   "source": [
    "q3a_answer = (0.9 * 0.02)/(0.9*0.02 + 0.98*0.08)"
   ]
  },
  {
   "cell_type": "code",
   "execution_count": 16,
   "id": "74742e41",
   "metadata": {
    "deletable": false,
    "editable": false
   },
   "outputs": [
    {
     "data": {
      "text/html": [
       "<p><strong><pre style='display: inline;'>q3check</pre></strong> passed! 🚀</p>"
      ],
      "text/plain": [
       "q3check results: All test cases passed!"
      ]
     },
     "execution_count": 16,
     "metadata": {},
     "output_type": "execute_result"
    }
   ],
   "source": [
    "grader.check(\"q3check\")"
   ]
  },
  {
   "cell_type": "markdown",
   "id": "7357582c",
   "metadata": {
    "deletable": false,
    "editable": false
   },
   "source": [
    "<!-- BEGIN QUESTION -->\n",
    "\n",
    "***\n",
    "[Back to top](#top)\n",
    "\n",
    "<a id='p4'></a>\n",
    "\n",
    "### Problem 4: Poker!\n",
    "\n",
    "A common example for discrete counting and probability questions are poker hands.  Consider using a standard 52-card playing deck, with card ranks `[A,2,3,4,5,6,7,8,9,10,J,Q,K]` across the standard 4 suits: `[C,D,H,S]`.\n",
    "\n",
    "**Part 4A (3 pts)** \n",
    "\n",
    "Suppose we draw 5 cards at random from the deck without replacement.  \n",
    "\n",
    "In Poker, \"Three of a Kind\" is defined as a hand that contains three cards of one rank and two cards of two other ranks.  Notice that in this definition a Full House (a hand that contains three cards of one rank and two cards of another rank) is NOT classified as \"three of a kind\".  https://en.wikipedia.org/wiki/List_of_poker_hands#Three_of_a_kind\n",
    "\n",
    "\n",
    "<img src=\"img/three.png\" width=\"330px\">\n",
    "\n",
    "What is the probability of drawing 5 cards (without replacement) that are \"three of a kind?\" \n",
    "\n",
    "Typeset your work using LaTeX below.  Show work justifying all steps.  You may leave your answer in terms of a ratio of products, but you should simplify away any combinatoric notation such as ${n \\choose k}$ or $P(n,k)$.\n"
   ]
  },
  {
   "cell_type": "markdown",
   "id": "bf66c184",
   "metadata": {},
   "source": [
    "First we see that a deck has 52 cards, 13 ranks from A to K. We need to choose one of the 13 ranks for the three cards. \n",
    "\n",
    "After choosing a rank, we need to choose 4 out of that 3 for \"three of a kind\" For the remaining 2 cards, we choose one card from each rank out of the 12 to choose from 2 times. When we choose those cards, we need to choose 4 out of 1 for just one of a kind. It is not 13 and it is 12 because then we may get \"4 of a kind.\"\n",
    "Finally we divide the above with ($52 \\choose 5$)\n",
    "\n",
    "Thus we can contruct a formula,\n",
    "\n",
    "$\\frac{{13 \\choose 1}\\cdot {4 \\choose 3} \\cdot {12 \\choose 2} \\cdot {4 \\choose 1} \\cdot {4 \\choose 1}}{{52\\choose 5}}$\n"
   ]
  },
  {
   "cell_type": "markdown",
   "id": "95b8f59d",
   "metadata": {
    "deletable": false,
    "editable": false
   },
   "source": [
    "<!-- END QUESTION -->\n",
    "\n",
    "To check your answer for 4a, enter the answer you came up with (just the probability) in the cell below. Note that this is just a public test. Full credit requires that you show all your work written in LaTeX and fully justifying your answer in the cell above."
   ]
  },
  {
   "cell_type": "code",
   "execution_count": 17,
   "id": "4928731e",
   "metadata": {
    "tags": []
   },
   "outputs": [],
   "source": [
    "q4a_answer = 13 * 4 * np.math.factorial(12)/(np.math.factorial(2)*np.math.factorial(10)) * 4 * 4/ (np.math.factorial(52) / (np.math.factorial(5) * np.math.factorial(47)))\n"
   ]
  },
  {
   "cell_type": "code",
   "execution_count": 18,
   "id": "6f5b6ccf",
   "metadata": {
    "deletable": false,
    "editable": false
   },
   "outputs": [
    {
     "data": {
      "text/html": [
       "<p><strong><pre style='display: inline;'>q4acheck</pre></strong> passed! 🚀</p>"
      ],
      "text/plain": [
       "q4acheck results: All test cases passed!"
      ]
     },
     "execution_count": 18,
     "metadata": {},
     "output_type": "execute_result"
    }
   ],
   "source": [
    "grader.check(\"q4acheck\")"
   ]
  },
  {
   "cell_type": "markdown",
   "id": "c93830f5",
   "metadata": {
    "deletable": false,
    "editable": false
   },
   "source": [
    "\n",
    "\n",
    "\n",
    "\n",
    "One of the big payoffs of simulation is that it can let us answer some probability questions that are otherwise quite difficult.  We can instead just simulate the process and get approximate results based on simulation.\n",
    "\n",
    "\n",
    "\n",
    "In lecture we have outlined several ways to draw random samples using Python:\n",
    "\n",
    "\n",
    "- `np.random.choice(a)` draws a random sample from a population whose elements are in an array `a`. The output is an array consisting of the sampled elements.\n",
    "\n",
    "- `df.sample(n)` draws a random sample of `n` rows from the DataFrame `df`. The output is a DataFrame consisting of the sampled rows. \n",
    "\n",
    "**Part 4B**  Poker with computers!\n",
    "\n",
    "To simulate the scenario you calculated theoretically in part 4a, you will use the steps below to write code to simulate draws of a hand of 5 cards from a standard 52-card deck.  You'll repeat the simulation 10000 times, and report how many \"three of a kind\" hands were observed.  If your simulation code is correct, your answer should be very close to your theoretical answer from part 4a. \n",
    "\n",
    "**4bi)(2 pts)**.  Create a Python `list` called `cards` of 52 strings that represent a full deck of cards (see documentation for Python `list` here: https://docs.python.org/3/library/stdtypes.html#list).  \n",
    "\n",
    "For suits use the labeling `[C,D,H,S]` and for ranks use the labeling `[A,2,3,4,5,6,7,8,9,10,J,Q,K]`. \n",
    "\n",
    "In the string describing the card give the suit first and the rank second.  For example to represent the 3 of hearts use the string 'H3'. To represent the queen of hearts use the string 'HQ`.   \n",
    "Your deck should have 52 distinct cards.\n"
   ]
  },
  {
   "cell_type": "code",
   "execution_count": 19,
   "id": "3a290aa1",
   "metadata": {
    "tags": []
   },
   "outputs": [],
   "source": [
    "cards = ['CA','DA','HA','SA','C2','D2','H2','S2','C3','D3','H3','S3','C4','D4','H4','S4','C5','D5','H5','S5','C6','D6','H6','S6','C7','D7','H7','S7','C8','D8','H8','S8','C9','D9','H9','S9','C10','D10','H10','S10','CJ','DJ','HJ','SJ','CQ','DQ','HQ','SQ','CK','DK','HK','SK']\n",
    "\n",
    "# 4bi).  Write code to create a list called `cards` representing a 52-card deck above this line.\n"
   ]
  },
  {
   "cell_type": "code",
   "execution_count": 20,
   "id": "67e84619",
   "metadata": {
    "deletable": false,
    "editable": false
   },
   "outputs": [
    {
     "data": {
      "text/html": [
       "<p><strong><pre style='display: inline;'>q4i</pre></strong> passed! 💯</p>"
      ],
      "text/plain": [
       "q4i results: All test cases passed!"
      ]
     },
     "execution_count": 20,
     "metadata": {},
     "output_type": "execute_result"
    }
   ],
   "source": [
    "grader.check(\"q4i\")"
   ]
  },
  {
   "cell_type": "markdown",
   "id": "2e721039-2f1e-4f47-bd2d-00e630b3db63",
   "metadata": {
    "deletable": false,
    "editable": false
   },
   "source": [
    "**4bii)(3 pts)**.  Define a function named `three_kind` to take a Python `list` of 5 cards as input (where the cards are given as strings such as `H3`) and check if the cards are Three of a Kind.  Your function should return `True` if the input is 3 of a kind and `False` otherwise. \n",
    "\n",
    "HINT: The function `np.unique` can make checking hands easier. \n"
   ]
  },
  {
   "cell_type": "code",
   "execution_count": 21,
   "id": "f5bddc33",
   "metadata": {
    "tags": []
   },
   "outputs": [],
   "source": [
    "\n",
    "def three_kind(hand):\n",
    "    r = [card[1:] for card in hand]\n",
    "    rCounts = np.unique(r, return_counts=True)\n",
    "    if len(rCounts[1]) == 3 and np.any(rCounts[1] == 3):\n",
    "        return True\n",
    "    return False\n",
    "# 4bii).Write a function (above this line) 'three_kind' to check a list of 5 cards to see if it is 3 of a kind "
   ]
  },
  {
   "cell_type": "code",
   "execution_count": 22,
   "id": "764008d3",
   "metadata": {
    "deletable": false,
    "editable": false
   },
   "outputs": [
    {
     "data": {
      "text/html": [
       "<p><strong><pre style='display: inline;'>q4ii</pre></strong> passed! 🎉</p>"
      ],
      "text/plain": [
       "q4ii results: All test cases passed!"
      ]
     },
     "execution_count": 22,
     "metadata": {},
     "output_type": "execute_result"
    }
   ],
   "source": [
    "grader.check(\"q4ii\")"
   ]
  },
  {
   "cell_type": "markdown",
   "id": "5a82bca1-a6bc-49e5-9c35-5d54a45b9a1b",
   "metadata": {
    "deletable": false,
    "editable": false
   },
   "source": [
    "<!-- BEGIN QUESTION -->\n",
    "\n",
    "**4biii)(4 pts)**. \n",
    "\n",
    "Write code in the space below that completes the following steps:\n",
    "\n",
    "Step 1:  Write a function to simulate 10,000 random draws from `cards` of 5 cards each, and check if each draw is Three of a Kind. The function should return the overall proportion of random hands (out of the 10,000) in which Three of a Kind was observed. If you have coded your simulation correctly, your answer to this part should be very close to your theoretical answer from Part 4A.  \n",
    "\n",
    "Step 2:  Let's visualize how this simulation converges to the theoretical probability.   In class, we plotted a running estimate of the probability of an event as a function of the number of trials in our simulation.  Write code that completes 10,000 random draws of 5 cards each, but this time outputs a plot of a running estimate of the proportion of hands that are Three of a Kind as a function of the number of trials (from 1 to 10,000) in your simulation.  **Include a red horizontal line on your plot with the theoretical probability that you calculated in part 4A.**  Be sure to include a title on your plot and be sure to label both your axes on the plot.\n",
    "\n",
    "\n",
    "\n",
    "\n"
   ]
  },
  {
   "cell_type": "code",
   "execution_count": 23,
   "id": "88cd2f2c",
   "metadata": {
    "tags": []
   },
   "outputs": [
    {
     "data": {
      "text/plain": [
       "0.0189"
      ]
     },
     "execution_count": 23,
     "metadata": {},
     "output_type": "execute_result"
    }
   ],
   "source": [
    "p=[]\n",
    "def sim(count):\n",
    "    n = 0\n",
    "    for i in range(count):\n",
    "        randomHand = np.random.shuffle(cards)\n",
    "        randomHand = cards[:5]\n",
    "        if three_kind(randomHand) == True:\n",
    "           n += 1\n",
    "                   \n",
    "        into_p = n/(i+1)\n",
    "        p.append(into_p)\n",
    "    result = n/count\n",
    "    return result\n",
    "    \n",
    "sim(10000)\n",
    "#4biii).Write your code for Step 1 above this line"
   ]
  },
  {
   "cell_type": "code",
   "execution_count": 24,
   "id": "8be0968b-f024-4e32-8970-37c2d8d86297",
   "metadata": {
    "tags": []
   },
   "outputs": [
    {
     "data": {
      "text/plain": [
       "Text(0, 0.5, 'Probability of getting three of a kind')"
      ]
     },
     "execution_count": 24,
     "metadata": {},
     "output_type": "execute_result"
    },
    {
     "data": {
      "image/png": "[encoded data removed]",
      "text/plain": [
       "<Figure size 640x480 with 1 Axes>"
      ]
     },
     "metadata": {},
     "output_type": "display_data"
    }
   ],
   "source": [
    "fig, ax = plt.subplots()\n",
    "ax.axhline(y=54912/2598960, color = \"red\")\n",
    "ax.plot(p)\n",
    "plt.title('Simulation of Getting a Three of a Kind')\n",
    "plt.xlabel('Draws')\n",
    "plt.ylabel('Probability of getting three of a kind')\n",
    "# 4biii) Write your code for Step 2 above this line"
   ]
  },
  {
   "cell_type": "markdown",
   "id": "656bc114",
   "metadata": {
    "deletable": false,
    "editable": false
   },
   "source": [
    "<!-- END QUESTION -->\n",
    "\n",
    "<!-- BEGIN QUESTION -->\n",
    "\n",
    "***\n",
    "[Back to top](#top)\n",
    "\n",
    "<a id='p5'></a>\n",
    "\n",
    "### Problem 5\n",
    "\n",
    "To play a game, you have a bag containing 28 fair [four-sided dice](https://en.wikipedia.org/wiki/Four-sided_die), with faces `{1,2,3,4}`.  This bag also contains 9 fair six-sided dice (faces `{1,2,3,4,5,6}`) and 3 fair twenty-sided dice (faces `{1,2,3,4,...,19,20}`).  Call these 3 classes of die \"Four\", \"Six\" and \"Twenty\" (or $D_4$, $D_6$, and $D_{20}$, for short).  You grab one die at random from the box.  \n",
    "\n",
    "Work the following problems by hand and write up your full solution using LaTeX unless otherwise stated (but don't be afraid to simulate to check your result!). "
   ]
  },
  {
   "cell_type": "markdown",
   "id": "fc16aa75",
   "metadata": {
    "deletable": false,
    "editable": false
   },
   "source": [
    "**Part 5A (3 pts)**: You grab one die at random from the box and roll it one time.  What is the probability of the event $R_5$, that you roll a 5? Explain your reasoning mathematically (using LaTeX).   "
   ]
  },
  {
   "cell_type": "markdown",
   "id": "faf34940",
   "metadata": {},
   "source": [
    "We see that grabbing the die is independent, and the number we get from the die is dependent. This is the die we pick has different probabilties when we role it. \n",
    "\n",
    "To calculate the probability of $P(R_5)$ we can use the multiplication rule:\n",
    "\n",
    "\n",
    "First we can exclude $(D_4)$ as there is no 5 in it. Thus the probability would be 0.\n",
    "When we grab a die and the probability for $(D_{6}) = \\frac{9}{40}$\n",
    "If we role a die for $(D_6)$ the probability is $\\frac{1}{6}$ \n",
    "Thus the total probability for $(D_6)$ is $\\frac{1}{6} \\cdot \\frac{9}{40} = \\frac{9}{240}$\n",
    "\n",
    "\n",
    "\n",
    "When we grab a die and the probability for $(D_{20}) = \\frac{3}{40}$\n",
    "If we role a die for $(D_{20})$ the probability is $\\frac{1}{20}$ \n",
    "Thus the total probability for $(D_{20})$ is $\\frac{1}{20} \\cdot \\frac{3}{40} = \\frac{3}{800}$\n",
    "\n",
    "\n",
    "\n",
    "We can then add these two results to find that the probability of rolling the event $R_5$ is $D_6 + D_{20} = \\frac{9}{240} + \\frac{3}{800}= \\frac{33}{800}$\n"
   ]
  },
  {
   "cell_type": "markdown",
   "id": "295114bf",
   "metadata": {
    "deletable": false,
    "editable": false
   },
   "source": [
    "<!-- END QUESTION -->\n",
    "\n",
    "To check your answer for 5a, enter the answer you came up with (just the probability) in the cell below. Note that this is just a public test. Full credit requires that you show all your work written in LaTeX and fully justifying your answer in part 5a above."
   ]
  },
  {
   "cell_type": "code",
   "execution_count": 25,
   "id": "74b46d0f",
   "metadata": {
    "tags": []
   },
   "outputs": [],
   "source": [
    "q5a_answer = 33/800"
   ]
  },
  {
   "cell_type": "code",
   "execution_count": 26,
   "id": "16cbf235",
   "metadata": {
    "deletable": false,
    "editable": false
   },
   "outputs": [
    {
     "data": {
      "text/html": [
       "<p><strong><pre style='display: inline;'>q5acheck</pre></strong> passed! 🌟</p>"
      ],
      "text/plain": [
       "q5acheck results: All test cases passed!"
      ]
     },
     "execution_count": 26,
     "metadata": {},
     "output_type": "execute_result"
    }
   ],
   "source": [
    "grader.check(\"q5acheck\")"
   ]
  },
  {
   "cell_type": "markdown",
   "id": "b1bef844",
   "metadata": {
    "deletable": false,
    "editable": false
   },
   "source": [
    "<!-- BEGIN QUESTION -->\n",
    "\n",
    "**Part 5B (3 pts)**: Suppose you roll a 5.  Given this information, what is the probability that the die you chose from the box is a Six-sided die? Write up your full solution using LaTeX. Show all steps.  "
   ]
  },
  {
   "cell_type": "markdown",
   "id": "6803a0cd",
   "metadata": {},
   "source": [
    "$P(A|B) = \\frac{P(A) \\cdot P(B|A)}{P(B)}$\n",
    "\n",
    "Where $P(A) = \\frac{9}{240}$\n",
    "\n",
    "\n",
    "$P(B) = \\frac{33}{800}$\n",
    "\n",
    "\n",
    "$P(B|A) = \\frac{1}{6}$\n",
    "\n",
    "\n",
    "When we plug all the values in we get\n",
    "\n",
    "\n",
    "$P(A|B) =\\frac{ \\frac{9}{240} \\cdot  \\frac{1}{6} }{ \\frac{33}{800}} = \\frac{2400}{2640} = \\frac{10}{11}$"
   ]
  },
  {
   "cell_type": "markdown",
   "id": "f0dcffd4",
   "metadata": {
    "deletable": false,
    "editable": false
   },
   "source": [
    "<!-- END QUESTION -->\n",
    "\n",
    "To check your answer for 5b, enter the answer you came up with (just the probability) in the cell below. Note that this is just a public test. Full credit requires that you show all your work written in LaTeX and fully justifying your answer in part 5b above."
   ]
  },
  {
   "cell_type": "code",
   "execution_count": 27,
   "id": "4347169f",
   "metadata": {
    "tags": []
   },
   "outputs": [],
   "source": [
    "q5b_answer = 10/11"
   ]
  },
  {
   "cell_type": "code",
   "execution_count": 28,
   "id": "578ca950",
   "metadata": {
    "deletable": false,
    "editable": false
   },
   "outputs": [
    {
     "data": {
      "text/html": [
       "<p><strong><pre style='display: inline;'>q5bcheck</pre></strong> passed! 🍀</p>"
      ],
      "text/plain": [
       "q5bcheck results: All test cases passed!"
      ]
     },
     "execution_count": 28,
     "metadata": {},
     "output_type": "execute_result"
    }
   ],
   "source": [
    "grader.check(\"q5bcheck\")"
   ]
  },
  {
   "cell_type": "markdown",
   "id": "58bcab0a",
   "metadata": {
    "deletable": false,
    "editable": false
   },
   "source": [
    "<!-- BEGIN QUESTION -->\n",
    "\n",
    "**Part 5C (2 pts):**  Are the events $R_5$ and $D_6$ independent?  Write up your full solution using LaTeX. Show all steps. Justify your answer **using the mathematical definition of independence**."
   ]
  },
  {
   "cell_type": "markdown",
   "id": "d0d1eb05",
   "metadata": {},
   "source": [
    "#### We see that to prove independency that it needs to be\n",
    "\n",
    "We know for $P(D_6)$ which is probability of rolling the die, is $\\frac{9}{40}$. \n",
    "\n",
    "\n",
    "We calculated $P(D_6|R_5) = \\frac{10}{11}$  \n",
    "\n",
    "Thus from the first step, we see that $P(D_6|R_5) \\neq P(R_5)$.\n",
    "\n",
    "Thus we know these events are dependent of each other."
   ]
  },
  {
   "cell_type": "markdown",
   "id": "24638e4a",
   "metadata": {
    "deletable": false,
    "editable": false
   },
   "source": [
    "<!-- END QUESTION -->\n",
    "\n",
    "To check your answer for 5c, enter the answer you came up with as a string (e.g., `'in/dependent'`) in the cell below. Note that this is just a public test. Full credit requires that you show all your work written in LaTeX and fully justifying your answer in part 5c above."
   ]
  },
  {
   "cell_type": "code",
   "execution_count": 29,
   "id": "c2fb3f78",
   "metadata": {
    "tags": []
   },
   "outputs": [],
   "source": [
    "q5c_answer = 'dependent'"
   ]
  },
  {
   "cell_type": "code",
   "execution_count": 30,
   "id": "f59cb57c",
   "metadata": {
    "deletable": false,
    "editable": false
   },
   "outputs": [
    {
     "data": {
      "text/html": [
       "<p><strong><pre style='display: inline;'>q5ccheck</pre></strong> passed! 🌟</p>"
      ],
      "text/plain": [
       "q5ccheck results: All test cases passed!"
      ]
     },
     "execution_count": 30,
     "metadata": {},
     "output_type": "execute_result"
    }
   ],
   "source": [
    "grader.check(\"q5ccheck\")"
   ]
  },
  {
   "cell_type": "markdown",
   "id": "11fbdb39",
   "metadata": {
    "deletable": false,
    "editable": false
   },
   "source": [
    "<!-- BEGIN QUESTION -->\n",
    "\n",
    "***\n",
    "[Back to top](#top)\n",
    "\n",
    "<a id='p6'></a>\n",
    "\n",
    "### Problem 6\n",
    "\n",
    "Suppose you roll two fair six-sided dice.  Let $C$ be the event that the two rolls are _close_ to one another in value, in the sense that they're either equal or differ by only 1.  \n",
    "\n",
    "**Part 6A (3 pts)**: Compute $P(C)$ by hand.  Show all steps using LaTeX.\n"
   ]
  },
  {
   "cell_type": "markdown",
   "id": "ec3d9f19",
   "metadata": {},
   "source": [
    "First we roll the first die. When we throw the second, we have the 6 possibilies where both dice roll the same. (1,1), (2,2), (3,3), (4,4), (5,5), (6,6). The other could differ by 1. (1,2), (2,1), (2,3),(3,2), (3,4),(4,3), (4,5), (5,4), (5,6),(6,5). We see the total count to be 16 different possibilites. Now we divide this over by the total probability which is 36.\n",
    "\n",
    "Thus we see the $P(C) = \\frac{16}{36} = \\frac{4}{9}$"
   ]
  },
  {
   "cell_type": "markdown",
   "id": "e914779b",
   "metadata": {
    "deletable": false,
    "editable": false
   },
   "source": [
    "<!-- END QUESTION -->\n",
    "\n",
    "To check your answer for 6a, enter the answer you came up with (just the probability) in the cell below. Note that this is just a public test. Full credit requires that you show all your work written in LaTeX and fully justifying your answer in part 6a above."
   ]
  },
  {
   "cell_type": "code",
   "execution_count": 31,
   "id": "95ffa14f",
   "metadata": {
    "tags": []
   },
   "outputs": [
    {
     "data": {
      "text/plain": [
       "0.4444444444444444"
      ]
     },
     "execution_count": 31,
     "metadata": {},
     "output_type": "execute_result"
    }
   ],
   "source": [
    "q6a_answer = 4/9\n",
    "q6a_answer"
   ]
  },
  {
   "cell_type": "code",
   "execution_count": 32,
   "id": "21bea195",
   "metadata": {
    "deletable": false,
    "editable": false
   },
   "outputs": [
    {
     "data": {
      "text/html": [
       "<p><strong><pre style='display: inline;'>q6acheck</pre></strong> passed! 🙌</p>"
      ],
      "text/plain": [
       "q6acheck results: All test cases passed!"
      ]
     },
     "execution_count": 32,
     "metadata": {},
     "output_type": "execute_result"
    }
   ],
   "source": [
    "grader.check(\"q6acheck\")"
   ]
  },
  {
   "cell_type": "markdown",
   "id": "74cc8948",
   "metadata": {
    "deletable": false,
    "editable": false
   },
   "source": [
    "<!-- BEGIN QUESTION -->\n",
    "\n",
    "**Part 6B (3 pts)**: \n",
    "Write a simulation to run 10,000 trials of rolling a pair of dice and estimate the value of $P(C)$ you calculated in **Part A**.  Your estimate should agree with the exact calculation you did in **Part A**.  If it doesn't, try increasing the number of trials in your simulation. "
   ]
  },
  {
   "cell_type": "code",
   "execution_count": 33,
   "id": "a22a53f9",
   "metadata": {
    "tags": []
   },
   "outputs": [
    {
     "data": {
      "text/plain": [
       "(0.4442,\n",
       " [0.0,\n",
       "  0.0,\n",
       "  0.3333333333333333,\n",
       "  0.25,\n",
       "  0.4,\n",
       "  0.3333333333333333,\n",
       "  0.42857142857142855,\n",
       "  0.375,\n",
       "  0.3333333333333333,\n",
       "  0.3,\n",
       "  0.2727272727272727,\n",
       "  0.3333333333333333,\n",
       "  0.38461538461538464,\n",
       "  0.35714285714285715,\n",
       "  0.4,\n",
       "  0.4375,\n",
       "  0.4117647058823529,\n",
       "  0.4444444444444444,\n",
       "  0.47368421052631576,\n",
       "  0.5,\n",
       "  0.47619047619047616,\n",
       "  0.45454545454545453,\n",
       "  0.43478260869565216,\n",
       "  0.4583333333333333,\n",
       "  0.44,\n",
       "  0.4230769230769231,\n",
       "  0.4444444444444444,\n",
       "  0.42857142857142855,\n",
       "  0.41379310344827586,\n",
       "  0.4,\n",
       "  0.3870967741935484,\n",
       "  0.375,\n",
       "  0.36363636363636365,\n",
       "  0.38235294117647056,\n",
       "  0.4,\n",
       "  0.4166666666666667,\n",
       "  0.40540540540540543,\n",
       "  0.42105263157894735,\n",
       "  0.4358974358974359,\n",
       "  0.45,\n",
       "  0.4634146341463415,\n",
       "  0.47619047619047616,\n",
       "  0.4883720930232558,\n",
       "  0.4772727272727273,\n",
       "  0.4888888888888889,\n",
       "  0.4782608695652174,\n",
       "  0.48936170212765956,\n",
       "  0.4791666666666667,\n",
       "  0.46938775510204084,\n",
       "  0.46,\n",
       "  0.47058823529411764,\n",
       "  0.4807692307692308,\n",
       "  0.4716981132075472,\n",
       "  0.46296296296296297,\n",
       "  0.45454545454545453,\n",
       "  0.44642857142857145,\n",
       "  0.45614035087719296,\n",
       "  0.46551724137931033,\n",
       "  0.4745762711864407,\n",
       "  0.4666666666666667,\n",
       "  0.45901639344262296,\n",
       "  0.45161290322580644,\n",
       "  0.4444444444444444,\n",
       "  0.4375,\n",
       "  0.4461538461538462,\n",
       "  0.4393939393939394,\n",
       "  0.43283582089552236,\n",
       "  0.4264705882352941,\n",
       "  0.43478260869565216,\n",
       "  0.44285714285714284,\n",
       "  0.43661971830985913,\n",
       "  0.4305555555555556,\n",
       "  0.4383561643835616,\n",
       "  0.44594594594594594,\n",
       "  0.44,\n",
       "  0.4473684210526316,\n",
       "  0.44155844155844154,\n",
       "  0.4358974358974359,\n",
       "  0.43037974683544306,\n",
       "  0.4375,\n",
       "  0.4444444444444444,\n",
       "  0.43902439024390244,\n",
       "  0.4457831325301205,\n",
       "  0.44047619047619047,\n",
       "  0.43529411764705883,\n",
       "  0.43023255813953487,\n",
       "  0.42528735632183906,\n",
       "  0.4318181818181818,\n",
       "  0.43820224719101125,\n",
       "  0.4444444444444444,\n",
       "  0.43956043956043955,\n",
       "  0.43478260869565216,\n",
       "  0.43010752688172044,\n",
       "  0.43617021276595747,\n",
       "  0.43157894736842106,\n",
       "  0.4375,\n",
       "  0.44329896907216493,\n",
       "  0.4489795918367347,\n",
       "  0.4444444444444444,\n",
       "  0.45,\n",
       "  0.45544554455445546,\n",
       "  0.45098039215686275,\n",
       "  0.44660194174757284,\n",
       "  0.4423076923076923,\n",
       "  0.44761904761904764,\n",
       "  0.4528301886792453,\n",
       "  0.4485981308411215,\n",
       "  0.4444444444444444,\n",
       "  0.44036697247706424,\n",
       "  0.44545454545454544,\n",
       "  0.45045045045045046,\n",
       "  0.45535714285714285,\n",
       "  0.45132743362831856,\n",
       "  0.45614035087719296,\n",
       "  0.4608695652173913,\n",
       "  0.45689655172413796,\n",
       "  0.452991452991453,\n",
       "  0.4491525423728814,\n",
       "  0.44537815126050423,\n",
       "  0.44166666666666665,\n",
       "  0.4380165289256198,\n",
       "  0.4426229508196721,\n",
       "  0.43902439024390244,\n",
       "  0.43548387096774194,\n",
       "  0.432,\n",
       "  0.42857142857142855,\n",
       "  0.4330708661417323,\n",
       "  0.4296875,\n",
       "  0.4263565891472868,\n",
       "  0.4230769230769231,\n",
       "  0.42748091603053434,\n",
       "  0.4318181818181818,\n",
       "  0.42857142857142855,\n",
       "  0.4253731343283582,\n",
       "  0.42962962962962964,\n",
       "  0.4338235294117647,\n",
       "  0.4306569343065693,\n",
       "  0.43478260869565216,\n",
       "  0.43884892086330934,\n",
       "  0.44285714285714284,\n",
       "  0.4397163120567376,\n",
       "  0.43661971830985913,\n",
       "  0.43356643356643354,\n",
       "  0.4305555555555556,\n",
       "  0.42758620689655175,\n",
       "  0.4246575342465753,\n",
       "  0.42857142857142855,\n",
       "  0.43243243243243246,\n",
       "  0.42953020134228187,\n",
       "  0.4266666666666667,\n",
       "  0.423841059602649,\n",
       "  0.4276315789473684,\n",
       "  0.43137254901960786,\n",
       "  0.43506493506493504,\n",
       "  0.432258064516129,\n",
       "  0.42948717948717946,\n",
       "  0.4267515923566879,\n",
       "  0.43037974683544306,\n",
       "  0.4276729559748428,\n",
       "  0.43125,\n",
       "  0.43478260869565216,\n",
       "  0.43209876543209874,\n",
       "  0.4294478527607362,\n",
       "  0.4329268292682927,\n",
       "  0.4303030303030303,\n",
       "  0.43373493975903615,\n",
       "  0.437125748502994,\n",
       "  0.44047619047619047,\n",
       "  0.4378698224852071,\n",
       "  0.4411764705882353,\n",
       "  0.43859649122807015,\n",
       "  0.436046511627907,\n",
       "  0.43352601156069365,\n",
       "  0.43103448275862066,\n",
       "  0.42857142857142855,\n",
       "  0.42613636363636365,\n",
       "  0.4293785310734463,\n",
       "  0.42696629213483145,\n",
       "  0.4245810055865922,\n",
       "  0.4222222222222222,\n",
       "  0.4198895027624309,\n",
       "  0.4175824175824176,\n",
       "  0.4207650273224044,\n",
       "  0.42391304347826086,\n",
       "  0.42162162162162165,\n",
       "  0.41935483870967744,\n",
       "  0.42245989304812837,\n",
       "  0.425531914893617,\n",
       "  0.42328042328042326,\n",
       "  0.4263157894736842,\n",
       "  0.4293193717277487,\n",
       "  0.4322916666666667,\n",
       "  0.43523316062176165,\n",
       "  0.4329896907216495,\n",
       "  0.4307692307692308,\n",
       "  0.4336734693877551,\n",
       "  0.43147208121827413,\n",
       "  0.4292929292929293,\n",
       "  0.4321608040201005,\n",
       "  0.435,\n",
       "  0.43283582089552236,\n",
       "  0.4306930693069307,\n",
       "  0.42857142857142855,\n",
       "  0.43137254901960786,\n",
       "  0.43414634146341463,\n",
       "  0.4368932038834951,\n",
       "  0.4396135265700483,\n",
       "  0.4423076923076923,\n",
       "  0.4449760765550239,\n",
       "  0.44761904761904764,\n",
       "  0.44549763033175355,\n",
       "  0.44339622641509435,\n",
       "  0.4413145539906103,\n",
       "  0.4392523364485981,\n",
       "  0.4372093023255814,\n",
       "  0.4351851851851852,\n",
       "  0.4377880184331797,\n",
       "  0.43577981651376146,\n",
       "  0.4337899543378995,\n",
       "  0.43636363636363634,\n",
       "  0.4343891402714932,\n",
       "  0.4369369369369369,\n",
       "  0.43946188340807174,\n",
       "  0.4375,\n",
       "  0.43555555555555553,\n",
       "  0.4336283185840708,\n",
       "  0.43171806167400884,\n",
       "  0.4298245614035088,\n",
       "  0.4279475982532751,\n",
       "  0.4260869565217391,\n",
       "  0.42857142857142855,\n",
       "  0.4267241379310345,\n",
       "  0.4248927038626609,\n",
       "  0.4230769230769231,\n",
       "  0.425531914893617,\n",
       "  0.4279661016949153,\n",
       "  0.42616033755274263,\n",
       "  0.42436974789915966,\n",
       "  0.4225941422594142,\n",
       "  0.42083333333333334,\n",
       "  0.4190871369294606,\n",
       "  0.4214876033057851,\n",
       "  0.41975308641975306,\n",
       "  0.42213114754098363,\n",
       "  0.4204081632653061,\n",
       "  0.42276422764227645,\n",
       "  0.4251012145748988,\n",
       "  0.42338709677419356,\n",
       "  0.42168674698795183,\n",
       "  0.424,\n",
       "  0.42231075697211157,\n",
       "  0.42063492063492064,\n",
       "  0.4189723320158103,\n",
       "  0.41732283464566927,\n",
       "  0.41568627450980394,\n",
       "  0.41796875,\n",
       "  0.42023346303501946,\n",
       "  0.4186046511627907,\n",
       "  0.42084942084942084,\n",
       "  0.41923076923076924,\n",
       "  0.41762452107279696,\n",
       "  0.41603053435114506,\n",
       "  0.4144486692015209,\n",
       "  0.4166666666666667,\n",
       "  0.41509433962264153,\n",
       "  0.41729323308270677,\n",
       "  0.4157303370786517,\n",
       "  0.4141791044776119,\n",
       "  0.41263940520446096,\n",
       "  0.4148148148148148,\n",
       "  0.4132841328413284,\n",
       "  0.4117647058823529,\n",
       "  0.41025641025641024,\n",
       "  0.40875912408759124,\n",
       "  0.4072727272727273,\n",
       "  0.4057971014492754,\n",
       "  0.4043321299638989,\n",
       "  0.4028776978417266,\n",
       "  0.4014336917562724,\n",
       "  0.4,\n",
       "  0.398576512455516,\n",
       "  0.3971631205673759,\n",
       "  0.3992932862190813,\n",
       "  0.397887323943662,\n",
       "  0.4,\n",
       "  0.3986013986013986,\n",
       "  0.397212543554007,\n",
       "  0.3958333333333333,\n",
       "  0.3944636678200692,\n",
       "  0.39655172413793105,\n",
       "  0.3951890034364261,\n",
       "  0.3972602739726027,\n",
       "  0.3993174061433447,\n",
       "  0.3979591836734694,\n",
       "  0.39661016949152544,\n",
       "  0.3952702702702703,\n",
       "  0.39730639730639733,\n",
       "  0.39932885906040266,\n",
       "  0.4013377926421405,\n",
       "  0.4033333333333333,\n",
       "  0.4019933554817276,\n",
       "  0.40066225165562913,\n",
       "  0.39933993399339934,\n",
       "  0.40131578947368424,\n",
       "  0.40327868852459015,\n",
       "  0.4019607843137255,\n",
       "  0.4006514657980456,\n",
       "  0.39935064935064934,\n",
       "  0.40129449838187703,\n",
       "  0.4,\n",
       "  0.40192926045016075,\n",
       "  0.40064102564102566,\n",
       "  0.3993610223642173,\n",
       "  0.4012738853503185,\n",
       "  0.4,\n",
       "  0.40189873417721517,\n",
       "  0.4037854889589905,\n",
       "  0.4056603773584906,\n",
       "  0.4043887147335423,\n",
       "  0.40625,\n",
       "  0.40809968847352024,\n",
       "  0.40993788819875776,\n",
       "  0.4086687306501548,\n",
       "  0.4074074074074074,\n",
       "  0.40923076923076923,\n",
       "  0.40797546012269936,\n",
       "  0.40672782874617736,\n",
       "  0.4054878048780488,\n",
       "  0.4072948328267477,\n",
       "  0.40606060606060607,\n",
       "  0.4078549848942598,\n",
       "  0.4066265060240964,\n",
       "  0.4084084084084084,\n",
       "  0.4101796407185629,\n",
       "  0.41194029850746267,\n",
       "  0.41369047619047616,\n",
       "  0.41543026706231456,\n",
       "  0.41420118343195267,\n",
       "  0.415929203539823,\n",
       "  0.4147058823529412,\n",
       "  0.41642228739002934,\n",
       "  0.41812865497076024,\n",
       "  0.41690962099125367,\n",
       "  0.41569767441860467,\n",
       "  0.4144927536231884,\n",
       "  0.41329479768786126,\n",
       "  0.41210374639769454,\n",
       "  0.4109195402298851,\n",
       "  0.40974212034383956,\n",
       "  0.4114285714285714,\n",
       "  0.4131054131054131,\n",
       "  0.4119318181818182,\n",
       "  0.41359773371104813,\n",
       "  0.4124293785310734,\n",
       "  0.4140845070422535,\n",
       "  0.41292134831460675,\n",
       "  0.41456582633053224,\n",
       "  0.41620111731843573,\n",
       "  0.415041782729805,\n",
       "  0.4166666666666667,\n",
       "  0.4182825484764543,\n",
       "  0.4171270718232044,\n",
       "  0.418732782369146,\n",
       "  0.42032967032967034,\n",
       "  0.42191780821917807,\n",
       "  0.42349726775956287,\n",
       "  0.4223433242506812,\n",
       "  0.421195652173913,\n",
       "  0.42005420054200543,\n",
       "  0.4189189189189189,\n",
       "  0.42048517520215634,\n",
       "  0.41935483870967744,\n",
       "  0.42091152815013405,\n",
       "  0.42245989304812837,\n",
       "  0.424,\n",
       "  0.4228723404255319,\n",
       "  0.4217506631299735,\n",
       "  0.42063492063492064,\n",
       "  0.41952506596306066,\n",
       "  0.42105263157894735,\n",
       "  0.4199475065616798,\n",
       "  0.418848167539267,\n",
       "  0.4177545691906005,\n",
       "  0.4166666666666667,\n",
       "  0.41818181818181815,\n",
       "  0.4170984455958549,\n",
       "  0.4186046511627907,\n",
       "  0.42010309278350516,\n",
       "  0.42159383033419023,\n",
       "  0.4205128205128205,\n",
       "  0.4194373401534527,\n",
       "  0.42091836734693877,\n",
       "  0.4198473282442748,\n",
       "  0.41878172588832485,\n",
       "  0.4177215189873418,\n",
       "  0.4166666666666667,\n",
       "  0.4156171284634761,\n",
       "  0.41708542713567837,\n",
       "  0.41854636591478694,\n",
       "  0.4175,\n",
       "  0.4164588528678304,\n",
       "  0.417910447761194,\n",
       "  0.41935483870967744,\n",
       "  0.4183168316831683,\n",
       "  0.41975308641975306,\n",
       "  0.4211822660098522,\n",
       "  0.4201474201474201,\n",
       "  0.41911764705882354,\n",
       "  0.42053789731051344,\n",
       "  0.4195121951219512,\n",
       "  0.41849148418491483,\n",
       "  0.4174757281553398,\n",
       "  0.41646489104116224,\n",
       "  0.4178743961352657,\n",
       "  0.41686746987951806,\n",
       "  0.41586538461538464,\n",
       "  0.4172661870503597,\n",
       "  0.41866028708133973,\n",
       "  0.41766109785202865,\n",
       "  0.41904761904761906,\n",
       "  0.42042755344418054,\n",
       "  0.4194312796208531,\n",
       "  0.41843971631205673,\n",
       "  0.41745283018867924,\n",
       "  0.4164705882352941,\n",
       "  0.41784037558685444,\n",
       "  0.41920374707259955,\n",
       "  0.4205607476635514,\n",
       "  0.4195804195804196,\n",
       "  0.4186046511627907,\n",
       "  0.419953596287703,\n",
       "  0.41898148148148145,\n",
       "  0.418013856812933,\n",
       "  0.41935483870967744,\n",
       "  0.41839080459770117,\n",
       "  0.41743119266055045,\n",
       "  0.41876430205949655,\n",
       "  0.4178082191780822,\n",
       "  0.4168564920273349,\n",
       "  0.4159090909090909,\n",
       "  0.41723356009070295,\n",
       "  0.416289592760181,\n",
       "  0.417607223476298,\n",
       "  0.4166666666666667,\n",
       "  0.41797752808988764,\n",
       "  0.4170403587443946,\n",
       "  0.4161073825503356,\n",
       "  0.41517857142857145,\n",
       "  0.4142538975501114,\n",
       "  0.41333333333333333,\n",
       "  0.4146341463414634,\n",
       "  0.413716814159292,\n",
       "  0.41280353200883,\n",
       "  0.4118942731277533,\n",
       "  0.41098901098901097,\n",
       "  0.41228070175438597,\n",
       "  0.4135667396061269,\n",
       "  0.4148471615720524,\n",
       "  0.4139433551198257,\n",
       "  0.41304347826086957,\n",
       "  0.4121475054229935,\n",
       "  0.4134199134199134,\n",
       "  0.4146868250539957,\n",
       "  0.41594827586206895,\n",
       "  0.4172043010752688,\n",
       "  0.4184549356223176,\n",
       "  0.41755888650963596,\n",
       "  0.4166666666666667,\n",
       "  0.417910447761194,\n",
       "  0.41702127659574467,\n",
       "  0.416135881104034,\n",
       "  0.4152542372881356,\n",
       "  0.4164904862579281,\n",
       "  0.41561181434599154,\n",
       "  0.4147368421052632,\n",
       "  0.41386554621848737,\n",
       "  0.4129979035639413,\n",
       "  0.41422594142259417,\n",
       "  0.4154488517745303,\n",
       "  0.41458333333333336,\n",
       "  0.41372141372141374,\n",
       "  0.41286307053941906,\n",
       "  0.41200828157349895,\n",
       "  0.4132231404958678,\n",
       "  0.41237113402061853,\n",
       "  0.41358024691358025,\n",
       "  0.41478439425051333,\n",
       "  0.41598360655737704,\n",
       "  0.41513292433537835,\n",
       "  0.4142857142857143,\n",
       "  0.4134419551934827,\n",
       "  0.41260162601626016,\n",
       "  0.4117647058823529,\n",
       "  0.4109311740890688,\n",
       "  0.4121212121212121,\n",
       "  0.41330645161290325,\n",
       "  0.41448692152917505,\n",
       "  0.41365461847389556,\n",
       "  0.4148296593186373,\n",
       "  0.414,\n",
       "  0.4151696606786427,\n",
       "  0.4163346613545817,\n",
       "  0.41749502982107356,\n",
       "  0.4166666666666667,\n",
       "  0.4178217821782178,\n",
       "  0.41699604743083,\n",
       "  0.4161735700197239,\n",
       "  0.41732283464566927,\n",
       "  0.4165029469548134,\n",
       "  0.4176470588235294,\n",
       "  0.4187866927592955,\n",
       "  0.41796875,\n",
       "  0.4191033138401559,\n",
       "  0.42023346303501946,\n",
       "  0.41941747572815535,\n",
       "  0.4186046511627907,\n",
       "  0.41779497098646035,\n",
       "  0.416988416988417,\n",
       "  0.41811175337186895,\n",
       "  0.4173076923076923,\n",
       "  0.418426103646833,\n",
       "  0.41954022988505746,\n",
       "  0.42065009560229444,\n",
       "  0.4217557251908397,\n",
       "  0.4228571428571429,\n",
       "  0.4220532319391635,\n",
       "  0.42314990512333966,\n",
       "  0.42424242424242425,\n",
       "  0.42344045368620037,\n",
       "  0.4226415094339623,\n",
       "  0.423728813559322,\n",
       "  0.424812030075188,\n",
       "  0.425891181988743,\n",
       "  0.42696629213483145,\n",
       "  0.4280373831775701,\n",
       "  0.4291044776119403,\n",
       "  0.42830540037243947,\n",
       "  0.4275092936802974,\n",
       "  0.42857142857142855,\n",
       "  0.42777777777777776,\n",
       "  0.4269870609981516,\n",
       "  0.4280442804428044,\n",
       "  0.427255985267035,\n",
       "  0.4264705882352941,\n",
       "  0.42752293577981654,\n",
       "  0.4267399267399267,\n",
       "  0.4259597806215722,\n",
       "  0.4251824817518248,\n",
       "  0.4262295081967213,\n",
       "  0.4254545454545455,\n",
       "  0.4246823956442831,\n",
       "  0.42391304347826086,\n",
       "  0.4231464737793852,\n",
       "  0.4223826714801444,\n",
       "  0.42162162162162165,\n",
       "  0.420863309352518,\n",
       "  0.42190305206463197,\n",
       "  0.4229390681003584,\n",
       "  0.4221824686940966,\n",
       "  0.4232142857142857,\n",
       "  0.42245989304812837,\n",
       "  0.42170818505338076,\n",
       "  0.4227353463587922,\n",
       "  0.4219858156028369,\n",
       "  0.42123893805309737,\n",
       "  0.42226148409893993,\n",
       "  0.42151675485008816,\n",
       "  0.42077464788732394,\n",
       "  0.4200351493848858,\n",
       "  0.42105263157894735,\n",
       "  0.4203152364273205,\n",
       "  0.42132867132867136,\n",
       "  0.4205933682373473,\n",
       "  0.42160278745644597,\n",
       "  0.42086956521739133,\n",
       "  0.421875,\n",
       "  0.42287694974003465,\n",
       "  0.42214532871972316,\n",
       "  0.4231433506044905,\n",
       "  0.4224137931034483,\n",
       "  0.42168674698795183,\n",
       "  0.422680412371134,\n",
       "  0.4219554030874786,\n",
       "  0.4229452054794521,\n",
       "  0.4222222222222222,\n",
       "  0.4232081911262799,\n",
       "  0.42248722316865417,\n",
       "  0.4217687074829932,\n",
       "  0.42105263157894735,\n",
       "  0.42033898305084744,\n",
       "  0.4196277495769882,\n",
       "  0.4189189189189189,\n",
       "  0.41989881956155145,\n",
       "  0.41919191919191917,\n",
       "  0.42016806722689076,\n",
       "  0.41946308724832215,\n",
       "  0.4204355108877722,\n",
       "  0.4197324414715719,\n",
       "  0.42070116861435725,\n",
       "  0.4216666666666667,\n",
       "  0.4226289517470882,\n",
       "  0.4219269102990033,\n",
       "  0.42122719734660036,\n",
       "  0.42218543046357615,\n",
       "  0.4214876033057851,\n",
       "  0.42244224422442245,\n",
       "  0.42174629324546953,\n",
       "  0.42105263157894735,\n",
       "  0.4220032840722496,\n",
       "  0.42295081967213116,\n",
       "  0.42225859247135844,\n",
       "  0.4215686274509804,\n",
       "  0.42088091353996737,\n",
       "  0.4218241042345277,\n",
       "  0.4211382113821138,\n",
       "  0.42045454545454547,\n",
       "  0.4213938411669368,\n",
       "  0.42071197411003236,\n",
       "  0.42164781906300486,\n",
       "  0.42096774193548386,\n",
       "  0.4219001610305958,\n",
       "  0.4212218649517685,\n",
       "  0.420545746388443,\n",
       "  0.4198717948717949,\n",
       "  0.4192,\n",
       "  0.4185303514376997,\n",
       "  0.4194577352472089,\n",
       "  0.42038216560509556,\n",
       "  0.41971383147853736,\n",
       "  0.42063492063492064,\n",
       "  0.41996830427892234,\n",
       "  0.4208860759493671,\n",
       "  0.42022116903633494,\n",
       "  0.4195583596214511,\n",
       "  0.4204724409448819,\n",
       "  0.419811320754717,\n",
       "  0.4207221350078493,\n",
       "  0.4216300940438871,\n",
       "  0.4225352112676056,\n",
       "  0.4234375,\n",
       "  0.42277691107644305,\n",
       "  0.4221183800623053,\n",
       "  0.4214618973561431,\n",
       "  0.42080745341614906,\n",
       "  0.42170542635658914,\n",
       "  0.42105263157894735,\n",
       "  0.42194744976816073,\n",
       "  0.4228395061728395,\n",
       "  0.4221879815100154,\n",
       "  0.42153846153846153,\n",
       "  0.42242703533026116,\n",
       "  0.4217791411042945,\n",
       "  0.4211332312404288,\n",
       "  0.42201834862385323,\n",
       "  0.4213740458015267,\n",
       "  0.42073170731707316,\n",
       "  0.4216133942161339,\n",
       "  0.4209726443768997,\n",
       "  0.4218512898330804,\n",
       "  0.42272727272727273,\n",
       "  0.42208774583963693,\n",
       "  0.4214501510574018,\n",
       "  0.42081447963800905,\n",
       "  0.42018072289156627,\n",
       "  0.42105263157894735,\n",
       "  0.42042042042042044,\n",
       "  0.4197901049475262,\n",
       "  0.41916167664670656,\n",
       "  0.4200298953662182,\n",
       "  0.41940298507462687,\n",
       "  0.4187779433681073,\n",
       "  0.4181547619047619,\n",
       "  0.4175334323922734,\n",
       "  0.41839762611275966,\n",
       "  0.4192592592592593,\n",
       "  0.42011834319526625,\n",
       "  0.42097488921713444,\n",
       "  0.42035398230088494,\n",
       "  0.4212076583210604,\n",
       "  0.42058823529411765,\n",
       "  0.4199706314243759,\n",
       "  0.41935483870967744,\n",
       "  0.41874084919472915,\n",
       "  0.41812865497076024,\n",
       "  0.41897810218978104,\n",
       "  0.41836734693877553,\n",
       "  0.4192139737991266,\n",
       "  0.42005813953488375,\n",
       "  0.41944847605224966,\n",
       "  0.42028985507246375,\n",
       "  0.4196816208393632,\n",
       "  0.4190751445086705,\n",
       "  0.4184704184704185,\n",
       "  0.41786743515850144,\n",
       "  0.4172661870503597,\n",
       "  0.41810344827586204,\n",
       "  0.41750358680057387,\n",
       "  0.4169054441260745,\n",
       "  0.41630901287553645,\n",
       "  0.41714285714285715,\n",
       "  0.41797432239657634,\n",
       "  0.4188034188034188,\n",
       "  0.41963015647226176,\n",
       "  0.42045454545454547,\n",
       "  0.4198581560283688,\n",
       "  0.4192634560906516,\n",
       "  0.4200848656294201,\n",
       "  0.4194915254237288,\n",
       "  0.4203102961918195,\n",
       "  0.4197183098591549,\n",
       "  0.42053445850914206,\n",
       "  0.4199438202247191,\n",
       "  0.41935483870967744,\n",
       "  0.42016806722689076,\n",
       "  0.42097902097902096,\n",
       "  0.42178770949720673,\n",
       "  0.4211994421199442,\n",
       "  0.4206128133704735,\n",
       "  0.4200278164116829,\n",
       "  0.41944444444444445,\n",
       "  0.420249653259362,\n",
       "  0.42105263157894735,\n",
       "  0.4218533886583679,\n",
       "  0.4212707182320442,\n",
       "  0.4206896551724138,\n",
       "  0.4214876033057851,\n",
       "  0.422283356258597,\n",
       "  0.4230769230769231,\n",
       "  0.4224965706447188,\n",
       "  0.42191780821917807,\n",
       "  0.4213406292749658,\n",
       "  0.42213114754098363,\n",
       "  0.42155525238744884,\n",
       "  0.4209809264305177,\n",
       "  0.4204081632653061,\n",
       "  0.421195652173913,\n",
       "  0.4206241519674355,\n",
       "  0.42005420054200543,\n",
       "  0.4208389715832206,\n",
       "  0.42162162162162165,\n",
       "  0.42105263157894735,\n",
       "  0.42183288409703507,\n",
       "  0.42126514131897713,\n",
       "  0.4206989247311828,\n",
       "  0.42013422818791946,\n",
       "  0.4195710455764075,\n",
       "  0.4190093708165997,\n",
       "  0.4197860962566845,\n",
       "  0.4205607476635514,\n",
       "  0.42,\n",
       "  0.4194407456724368,\n",
       "  0.41888297872340424,\n",
       "  0.41832669322709165,\n",
       "  0.41909814323607425,\n",
       "  0.4198675496688742,\n",
       "  0.4193121693121693,\n",
       "  0.4187582562747688,\n",
       "  0.41952506596306066,\n",
       "  0.4189723320158103,\n",
       "  0.41842105263157897,\n",
       "  0.4191852825229961,\n",
       "  0.4199475065616798,\n",
       "  0.41939711664482304,\n",
       "  0.4201570680628272,\n",
       "  0.4196078431372549,\n",
       "  0.41906005221932113,\n",
       "  0.41851368970013036,\n",
       "  0.4192708333333333,\n",
       "  0.4187256176853056,\n",
       "  0.41948051948051945,\n",
       "  0.42023346303501946,\n",
       "  0.41968911917098445,\n",
       "  0.4191461836998706,\n",
       "  0.4198966408268734,\n",
       "  0.4206451612903226,\n",
       "  0.4213917525773196,\n",
       "  0.42084942084942084,\n",
       "  0.4203084832904884,\n",
       "  0.4197689345314506,\n",
       "  0.41923076923076924,\n",
       "  0.4186939820742638,\n",
       "  0.41815856777493604,\n",
       "  0.41890166028097064,\n",
       "  0.41836734693877553,\n",
       "  0.4178343949044586,\n",
       "  0.4173027989821883,\n",
       "  0.41804320203303685,\n",
       "  0.41751269035532995,\n",
       "  0.41825095057034223,\n",
       "  0.4189873417721519,\n",
       "  0.4197218710493047,\n",
       "  0.41919191919191917,\n",
       "  0.41866330390920553,\n",
       "  0.4193954659949622,\n",
       "  0.4188679245283019,\n",
       "  0.4183417085427136,\n",
       "  0.4178168130489335,\n",
       "  0.41854636591478694,\n",
       "  0.41802252816020025,\n",
       "  0.41875,\n",
       "  0.418227215980025,\n",
       "  0.4177057356608479,\n",
       "  0.41718555417185554,\n",
       "  0.4166666666666667,\n",
       "  0.41739130434782606,\n",
       "  0.41811414392059554,\n",
       "  0.41759603469640644,\n",
       "  0.4183168316831683,\n",
       "  0.4177997527812114,\n",
       "  0.4185185185185185,\n",
       "  0.4192355117139334,\n",
       "  0.4187192118226601,\n",
       "  0.4194341943419434,\n",
       "  0.4189189189189189,\n",
       "  0.4196319018404908,\n",
       "  0.42034313725490197,\n",
       "  0.41982864137086906,\n",
       "  0.42053789731051344,\n",
       "  0.42124542124542125,\n",
       "  0.4219512195121951,\n",
       "  0.42143727161997563,\n",
       "  0.4221411192214112,\n",
       "  0.42284325637910086,\n",
       "  0.42354368932038833,\n",
       "  0.42303030303030303,\n",
       "  0.423728813559322,\n",
       "  0.42321644498186217,\n",
       "  0.4227053140096618,\n",
       "  0.4234016887816647,\n",
       "  0.42409638554216866,\n",
       "  0.42358604091456076,\n",
       "  0.42427884615384615,\n",
       "  0.4249699879951981,\n",
       "  0.4244604316546763,\n",
       "  0.4251497005988024,\n",
       "  0.4258373205741627,\n",
       "  0.4253285543608124,\n",
       "  0.42482100238663484,\n",
       "  0.42431466030989273,\n",
       "  0.4238095238095238,\n",
       "  0.4233055885850178,\n",
       "  0.42280285035629456,\n",
       "  0.4223013048635824,\n",
       "  0.42298578199052134,\n",
       "  0.4236686390532544,\n",
       "  0.4243498817966903,\n",
       "  0.42384887839433294,\n",
       "  0.42452830188679247,\n",
       "  0.425206124852768,\n",
       "  0.4258823529411765,\n",
       "  0.42538190364277323,\n",
       "  0.42488262910798125,\n",
       "  0.4243845252051583,\n",
       "  0.42505854800936765,\n",
       "  0.4257309941520468,\n",
       "  0.4252336448598131,\n",
       "  0.425904317386231,\n",
       "  0.4254079254079254,\n",
       "  0.42491268917345754,\n",
       "  0.4255813953488372,\n",
       "  0.4250871080139373,\n",
       "  0.4245939675174014,\n",
       "  0.42526071842410196,\n",
       "  0.42592592592592593,\n",
       "  0.42658959537572255,\n",
       "  0.42609699769053117,\n",
       "  0.42560553633217996,\n",
       "  0.42626728110599077,\n",
       "  0.42577675489067895,\n",
       "  0.42528735632183906,\n",
       "  0.425947187141217,\n",
       "  0.42660550458715596,\n",
       "  0.4261168384879725,\n",
       "  0.425629290617849,\n",
       "  0.42514285714285716,\n",
       "  0.4246575342465753,\n",
       "  0.4241733181299886,\n",
       "  0.42369020501138954,\n",
       "  0.4243458475540387,\n",
       "  0.4238636363636364,\n",
       "  0.42338251986379116,\n",
       "  0.42290249433106575,\n",
       "  0.42242355605889015,\n",
       "  0.42194570135746606,\n",
       "  0.42259887005649716,\n",
       "  0.42325056433408575,\n",
       "  0.42390078917700114,\n",
       "  0.42342342342342343,\n",
       "  0.4229471316085489,\n",
       "  0.42247191011235957,\n",
       "  0.4219977553310887,\n",
       "  0.4226457399103139,\n",
       "  0.4221724524076148,\n",
       "  0.4228187919463087,\n",
       "  0.423463687150838,\n",
       "  0.42299107142857145,\n",
       "  0.4236343366778149,\n",
       "  0.42316258351893093,\n",
       "  0.42269187986651835,\n",
       "  0.4222222222222222,\n",
       "  0.42175360710321863,\n",
       "  0.4212860310421286,\n",
       "  0.4219269102990033,\n",
       "  0.4225663716814159,\n",
       "  0.42320441988950275,\n",
       "  0.4227373068432671,\n",
       "  0.422271223814774,\n",
       "  0.42180616740088106,\n",
       "  0.42244224422442245,\n",
       "  0.421978021978022,\n",
       "  0.4226125137211855,\n",
       "  0.42214912280701755,\n",
       "  0.42278203723986857,\n",
       "  0.4223194748358862,\n",
       "  0.42185792349726775,\n",
       "  0.42248908296943233,\n",
       "  0.42202835332606325,\n",
       "  0.4215686274509804,\n",
       "  0.4211099020674646,\n",
       "  0.4206521739130435,\n",
       "  0.4201954397394137,\n",
       "  0.4197396963123644,\n",
       "  0.419284940411701,\n",
       "  0.41883116883116883,\n",
       "  0.4183783783783784,\n",
       "  0.4190064794816415,\n",
       "  0.41963322545846815,\n",
       "  0.4191810344827586,\n",
       "  0.418729817007535,\n",
       "  0.41935483870967744,\n",
       "  0.4189044038668099,\n",
       "  0.4184549356223176,\n",
       "  0.4180064308681672,\n",
       "  0.41862955032119914,\n",
       "  0.4192513368983957,\n",
       "  0.4188034188034188,\n",
       "  0.4194236926360726,\n",
       "  0.4200426439232409,\n",
       "  0.41959531416400425,\n",
       "  0.41914893617021276,\n",
       "  0.41870350690754515,\n",
       "  0.4182590233545648,\n",
       "  0.4188759278897137,\n",
       "  0.4194915254237288,\n",
       "  0.41904761904761906,\n",
       "  0.4186046511627907,\n",
       "  0.41816261879619854,\n",
       "  0.41877637130801687,\n",
       "  0.4183350895679663,\n",
       "  0.41789473684210526,\n",
       "  0.4174553101997897,\n",
       "  0.4180672268907563,\n",
       "  0.4176285414480588,\n",
       "  0.4171907756813417,\n",
       "  0.4178010471204188,\n",
       "  0.41841004184100417,\n",
       "  0.41901776384535006,\n",
       "  0.418580375782881,\n",
       "  0.4191866527632951,\n",
       "  0.4197916666666667,\n",
       "  0.41935483870967744,\n",
       "  0.4189189189189189,\n",
       "  0.4195223260643821,\n",
       "  0.4190871369294606,\n",
       "  0.41865284974093264,\n",
       "  0.4192546583850932,\n",
       "  0.4188210961737332,\n",
       "  0.4194214876033058,\n",
       "  0.4200206398348813,\n",
       "  0.42061855670103093,\n",
       "  0.42018537590113286,\n",
       "  0.41975308641975306,\n",
       "  0.4193216855087359,\n",
       "  0.4188911704312115,\n",
       "  0.41846153846153844,\n",
       "  0.41905737704918034,\n",
       "  0.4186284544524053,\n",
       "  0.418200408997955,\n",
       "  0.4177732379979571,\n",
       "  0.4173469387755102,\n",
       "  0.4169215086646279,\n",
       "  0.4175152749490835,\n",
       "  0.41810783316378436,\n",
       "  0.4176829268292683,\n",
       "  0.4182741116751269,\n",
       "  0.41886409736308317,\n",
       "  0.4194528875379939,\n",
       "  0.4200404858299595,\n",
       "  0.4196157735085945,\n",
       "  0.4202020202020202,\n",
       "  0.41977800201816345,\n",
       "  0.42036290322580644,\n",
       "  0.4199395770392749,\n",
       "  0.41951710261569414,\n",
       "  0.4201005025125628,\n",
       "  0.4206827309236948,\n",
       "  0.42126379137412234,\n",
       "  0.42084168336673344,\n",
       "  0.42042042042042044,\n",
       "  0.421,\n",
       "  ...])"
      ]
     },
     "execution_count": 33,
     "metadata": {},
     "output_type": "execute_result"
    }
   ],
   "source": [
    "def sim(n):\n",
    "    count = 0\n",
    "    z = []\n",
    "    for i in range(n):\n",
    "        r1 = np.random.randint(1,7)\n",
    "        r2 = np.random.randint(1,7)\n",
    "        if((r1 == r2) or (r1 - r2) == 1 or (r2 - r1) == 1):\n",
    "           count += 1\n",
    "        z.append(count/(i+1))\n",
    "    result = count/n\n",
    "    return result,z\n",
    "\n",
    "sim(10000)\n",
    "#Your code above this line"
   ]
  },
  {
   "cell_type": "markdown",
   "id": "051be3a3",
   "metadata": {
    "deletable": false,
    "editable": false
   },
   "source": [
    "<!-- END QUESTION -->\n",
    "\n",
    "<!-- BEGIN QUESTION -->\n",
    "\n",
    "##### **Part 6C (3 pts)**:  \n",
    "In class we plotted a running estimate of the probability of an event as a function of the number of trials in our simulation.  Write code to run 5 independent simulations of 50,000 trials each to estimate $P(C)$ and plot their running estimate curves on the same set of axes. **Hint**: This is a lot of computation, so try to leverage Numpy as much as possible so that your code doesn't run forever. \n",
    "\n",
    "**Include a red horizontal line on your plot with the theoretical probability that you calculated in part 6A.**  Be sure to include a title on your plot and be sure to label both your axes on the plot."
   ]
  },
  {
   "cell_type": "code",
   "execution_count": 34,
   "id": "f9032ffe",
   "metadata": {
    "tags": []
   },
   "outputs": [
    {
     "data": {
      "text/plain": [
       "Text(0, 0.5, 'Probability of Close Rolls and Equal')"
      ]
     },
     "execution_count": 34,
     "metadata": {},
     "output_type": "execute_result"
    },
    {
     "data": {
      "image/png": "[encoded data removed]",
      "text/plain": [
       "<Figure size 1200x600 with 1 Axes>"
      ]
     },
     "metadata": {},
     "output_type": "display_data"
    }
   ],
   "source": [
    "fig, ax = plt.subplots(figsize=(12, 6))\n",
    "ax.axhline(y=16/36, color = \"red\", label = 'Theoretical Probability')\n",
    "a1 = sim(50000)[1]\n",
    "a2 = sim(50000)[1]\n",
    "a3 = sim(50000)[1]\n",
    "a4 = sim(50000)[1]\n",
    "a5 = sim(50000)[1]\n",
    "ax.plot(a1, color = 'pink')\n",
    "ax.plot(a2, color = 'yellow')\n",
    "ax.plot(a3, color = 'Magenta')\n",
    "ax.plot(a4, color = 'brown')\n",
    "ax.plot(a5, color = 'green')\n",
    "plt.title(\"50000 simulations for dice roll for equal or difference by 1\")\n",
    "plt.xlabel(\"Trials\")\n",
    "plt.ylabel(\"Probability of Close Rolls and Equal\")"
   ]
  },
  {
   "cell_type": "markdown",
   "id": "c1c71570",
   "metadata": {
    "deletable": false,
    "editable": false
   },
   "source": [
    "<!-- END QUESTION -->\n",
    "\n",
    "<!-- BEGIN QUESTION -->\n",
    "\n",
    "**Part 6D (1 pt)**: Describe the behavior of the running estimates as the number of trials increases.\n",
    "\n",
    "i).  What value(s) are they converging to?  \n",
    "ii).  How many trials does it take until they appear to converge?"
   ]
  },
  {
   "cell_type": "markdown",
   "id": "29bd37ec",
   "metadata": {},
   "source": [
    "i)\n",
    "\n",
    "They all converge to 4/9\n",
    "\n",
    "\n",
    "ii)\n",
    "\n",
    "It takes about 15000 trials until they seem to converge. This is why we run many simulations in order to remove any uncertainties."
   ]
  },
  {
   "cell_type": "markdown",
   "id": "cf1943b4",
   "metadata": {
    "deletable": false,
    "editable": false
   },
   "source": [
    "<!-- END QUESTION -->\n",
    "\n",
    "<!-- BEGIN QUESTION -->\n",
    "\n",
    "[Back to top](#top)\n",
    "\n",
    "<a id='p7'></a>\n",
    "\n",
    "## Problem 7    \n",
    "    \n",
    "Three brands of coffee, $X$, $Y$ and $Z$, are to be ranked according to taste by a single judge.  Define the following events:\n",
    "\n",
    "Event A: Brand $X$ is preferred to $Y$\n",
    "\n",
    "Event B: Brand $X$ is ranked best.\n",
    "\n",
    "Event C: Brand $X$ is ranked second best.\n",
    "\n",
    "Event D: Brand $X$ is ranked third best.\n",
    "\n",
    "If the judge actually has no taste preference and just randomly assigns ranks to the brands, which of the following events are independent and which are dependent?  Justify your answers using the mathematical definition of independence.  Write up your full solution using LaTeX.\n",
    "\n",
    "**Part 7a (2 pts)**.  Are events $A$ and $B$ independent or dependent?\n",
    "\n",
    "**Part 7b (2 pts)**. Are events $A$ and $C$ independent or dependent?\n",
    "\n",
    "**Part 7c (2 pts)**. Are events $A$ and $D$ independent or dependent?\n",
    "\n",
    "Answer all 3 parts using LaTeX in the ONE cell provided below.  "
   ]
  },
  {
   "cell_type": "markdown",
   "id": "4fa309cc-9094-42e6-aae0-bbe0a2286ad5",
   "metadata": {},
   "source": [
    "7a)\n",
    "\n",
    "We see that if by Event B, Brand X is ranked best, \n",
    "and that in Event A Brand X is preffered more than\n",
    "Brand Y, we see that it is dependent. \n",
    "Thus we need to show that $P(A) \\neq P(A|B)$ , where $P(A) = \\frac{1}{3}$, \n",
    "while $P(A|B) = 1$. Thus we show $P(A) \\neq P(A|B)$ and it is dependent.\n",
    "\n",
    "\n",
    "7b)\n",
    "\n",
    "The information in with A or C is vague. We know that Brand X is second best, but it doesn't tell anything compared to Brand Y. We can show its independency that $P(C|A) = P(C)$, where $P(C|A) = \\frac{1}{3}$ and $P(A) = \\frac{1}{3}$. Thus we show $P(C|A) = P(C)$ that it is independent\n",
    "\n",
    "7c)\n",
    "\n",
    "We know that Brand X is ranked third or last. This means that there is 0 chance that X is preferred to Y. Thus we see $P(D|A) = 0$ and $P(D) = \\frac{1}{3}$, that $P(D|A) \\neq P(D)$. Thus we can conclude they are dependent.\n",
    "\n",
    "\n"
   ]
  },
  {
   "cell_type": "markdown",
   "id": "dcde8c8b",
   "metadata": {
    "deletable": false,
    "editable": false
   },
   "source": [
    "<!-- END QUESTION -->\n",
    "\n",
    "To check your answer for Problem 7, enter the answer you came up as a list of strings (`['in/dependent', 'in/dependent', 'in/dependent']`) in the cell below. Note that this is just a public test. Full credit requires that you show all your work written in LaTeX and fully justifying your answer above."
   ]
  },
  {
   "cell_type": "code",
   "execution_count": 35,
   "id": "9d9b3549",
   "metadata": {
    "tags": []
   },
   "outputs": [],
   "source": [
    "q7_answer = ['dependent','independent','dependent']"
   ]
  },
  {
   "cell_type": "code",
   "execution_count": 36,
   "id": "92a94dee",
   "metadata": {
    "deletable": false,
    "editable": false
   },
   "outputs": [
    {
     "data": {
      "text/html": [
       "<p><strong><pre style='display: inline;'>q7check</pre></strong> passed! 🎉</p>"
      ],
      "text/plain": [
       "q7check results: All test cases passed!"
      ]
     },
     "execution_count": 36,
     "metadata": {},
     "output_type": "execute_result"
    }
   ],
   "source": [
    "grader.check(\"q7check\")"
   ]
  },
  {
   "cell_type": "markdown",
   "id": "169d7663",
   "metadata": {},
   "source": [
    "<br/><br/>\n",
    "<hr style=\"border: 5px solid #003262;\" />\n",
    "<hr style=\"border: 1px solid #fdb515;\" />\n",
    "\n",
    "## Congratulations! You have finished Homework 5!"
   ]
  },
  {
   "cell_type": "markdown",
   "id": "cc31acf9",
   "metadata": {},
   "source": [
    "If you discussed this assignment with any other students in the class (in a manner that is acceptable as described by the Collaboration policy above) please **include their names** here:\n",
    "\n",
    "**Collaborators**: *list collaborators here*"
   ]
  },
  {
   "cell_type": "markdown",
   "id": "46739932",
   "metadata": {},
   "source": [
    "### Submission Instructions\n",
    "\n",
    "Before proceeding any further, **save this notebook.**\n",
    "\n",
    "After running the `grader.export()` cell provided below, **2 files will be created**: a zip file and pdf file.  You can download them using the links provided below OR by finding them in the same folder where this juptyer notebook resides in your JuptyerHub.\n",
    "\n",
    "To receive credit on this assignment, **you must submit BOTH of these files\n",
    "to their respective Gradescope portals:** \n",
    "\n",
    "* **Homework 5 Autograded**: Submit the zip file that is output by the `grader.export()` cell below to the HW5 Autograded assignment in Gradescope.\n",
    "\n",
    "* **Homework 5 Manually Graded**: Submit your hw05.PDF to the HW1 Manually Graded assignment in Gradescope.  \n",
    "\n",
    "\n",
    "**You are responsible for ensuring your submission follows our requirements. We will not be granting regrade requests nor extensions to submissions that don't follow instructions.** If you encounter any difficulties with submission, please don't hesitate to reach out to staff prior to the deadline."
   ]
  },
  {
   "cell_type": "markdown",
   "id": "0a205cde",
   "metadata": {
    "deletable": false,
    "editable": false
   },
   "source": [
    "## Submission\n",
    "\n",
    "Make sure you have run all cells in your notebook in order before running the cell below, so that all images/graphs appear in the output. The cell below will generate a zip file for you to submit. **Please save before exporting!**\n",
    "\n",
    "AFTER running the cell below, click on <a href='hw05.pdf' download>this link to download the PDF </a> to upload to Gradescope.  There will be a separate link that appears after running the cell below with a link to download the zip file to upload to Gradescope."
   ]
  },
  {
   "cell_type": "code",
   "execution_count": 37,
   "id": "8dc7af21",
   "metadata": {
    "deletable": false,
    "editable": false
   },
   "outputs": [
    {
     "name": "stdout",
     "output_type": "stream",
     "text": [
      "Running your submission against local test cases...\n",
      "\n",
      "\n",
      "\n",
      "Your submission received the following results when run against available test cases:\n",
      "\n",
      "    q1a results: All test cases passed!\n",
      "\n",
      "    q1b results: All test cases passed!\n",
      "\n",
      "    q1c results: All test cases passed!\n",
      "\n",
      "    q14 results: All test cases passed!\n",
      "\n",
      "    q2acheck results: All test cases passed!\n",
      "\n",
      "    q2bcheck results: All test cases passed!\n",
      "\n",
      "    q3check results: All test cases passed!\n",
      "\n",
      "    q4acheck results: All test cases passed!\n",
      "\n",
      "    q4i results: All test cases passed!\n",
      "\n",
      "    q4ii results: All test cases passed!\n",
      "\n",
      "    q5acheck results: All test cases passed!\n",
      "\n",
      "    q5bcheck results: All test cases passed!\n",
      "\n",
      "    q5ccheck results: All test cases passed!\n",
      "\n",
      "    q6acheck results: All test cases passed!\n",
      "\n",
      "    q7check results: All test cases passed!\n"
     ]
    },
    {
     "data": {
      "text/html": [
       "\n",
       "                    <p>\n",
       "                        Your submission has been exported. Click\n",
       "                        <a href=\"hw05_2023_10_12T22_35_47_859239.zip\" download=\"hw05_2023_10_12T22_35_47_859239.zip\" target=\"_blank\">here</a> to download\n",
       "                        the zip file.\n",
       "                    </p>\n",
       "                "
      ],
      "text/plain": [
       "<IPython.core.display.HTML object>"
      ]
     },
     "metadata": {},
     "output_type": "display_data"
    }
   ],
   "source": [
    "# Save your notebook first, then run this cell to export your submission.\n",
    "grader.export(run_tests=True)"
   ]
  },
  {
   "cell_type": "markdown",
   "id": "099feed6",
   "metadata": {},
   "source": [
    " "
   ]
  },
  {
   "cell_type": "code",
   "execution_count": null,
   "id": "b86db93c-e9a5-4db8-8911-0dda90bb10f9",
   "metadata": {},
   "outputs": [],
   "source": []
  },
  {
   "cell_type": "code",
   "execution_count": null,
   "id": "c3304d52-96cd-4a2c-a9fb-bd2dd893884d",
   "metadata": {},
   "outputs": [],
   "source": []
  },
  {
   "cell_type": "code",
   "execution_count": null,
   "id": "28bdebfd-0d2c-4e25-9a03-cb854da06993",
   "metadata": {},
   "outputs": [],
   "source": []
  },
  {
   "cell_type": "code",
   "execution_count": null,
   "id": "c4ec150c-0553-4847-b58e-810489c0e7f5",
   "metadata": {},
   "outputs": [],
   "source": []
  },
  {
   "cell_type": "code",
   "execution_count": null,
   "id": "a498f2db-4c72-4ced-936f-412c59b50b57",
   "metadata": {},
   "outputs": [],
   "source": []
  },
  {
   "cell_type": "code",
   "execution_count": null,
   "id": "829d5c8c-abfc-44a0-926b-7ae028890800",
   "metadata": {},
   "outputs": [],
   "source": []
  },
  {
   "cell_type": "code",
   "execution_count": null,
   "id": "db4d418c-9429-4c87-b415-13f4d35e3afb",
   "metadata": {},
   "outputs": [],
   "source": []
  },
  {
   "cell_type": "code",
   "execution_count": null,
   "id": "4d861411-6ef3-4bfd-82b7-cd3cd4e0961e",
   "metadata": {},
   "outputs": [],
   "source": []
  },
  {
   "cell_type": "code",
   "execution_count": null,
   "id": "deecd68f-8934-453e-8f93-3754eb09ecf5",
   "metadata": {},
   "outputs": [],
   "source": []
  },
  {
   "cell_type": "code",
   "execution_count": null,
   "id": "bad0d3d7-b7ad-424e-b180-8e1604aa337d",
   "metadata": {},
   "outputs": [],
   "source": []
  },
  {
   "cell_type": "code",
   "execution_count": null,
   "id": "205633d7-6557-49ad-a811-945d4fb3a3be",
   "metadata": {},
   "outputs": [],
   "source": []
  }
 ],
 "metadata": {
  "kernelspec": {
   "display_name": "Python 3 (ipykernel)",
   "language": "python",
   "name": "python3"
  },
  "language_info": {
   "codemirror_mode": {
    "name": "ipython",
    "version": 3
   },
   "file_extension": ".py",
   "mimetype": "text/x-python",
   "name": "python",
   "nbconvert_exporter": "python",
   "pygments_lexer": "ipython3",
   "version": "3.10.8"
  },
  "otter": {
   "OK_FORMAT": true,
   "tests": {
    "q14": {
     "name": "q14",
     "points": 1,
     "suites": [
      {
       "cases": [
        {
         "code": ">>> assert np.isclose(lone_winners,(18/38)**10 + (18/38)**10 + (2/38)**10 )\n",
         "hidden": false,
         "locked": false
        }
       ],
       "scored": true,
       "setup": "",
       "teardown": "",
       "type": "doctest"
      }
     ]
    },
    "q1a": {
     "name": "q1a",
     "points": 1,
     "suites": [
      {
       "cases": [
        {
         "code": ">>> \n>>> assert np.isclose(first_three_black, (18/38)**3 )\n",
         "hidden": false,
         "locked": false
        }
       ],
       "scored": true,
       "setup": "",
       "teardown": "",
       "type": "doctest"
      }
     ]
    },
    "q1b": {
     "name": "q1b",
     "points": 1,
     "suites": [
      {
       "cases": [
        {
         "code": ">>> assert np.isclose(no_green, (36/38)**10)\n",
         "hidden": false,
         "locked": false
        }
       ],
       "scored": true,
       "setup": "",
       "teardown": "",
       "type": "doctest"
      }
     ]
    },
    "q1c": {
     "name": "q1c",
     "points": 1,
     "suites": [
      {
       "cases": [
        {
         "code": ">>> assert np.isclose(at_least_one_green, 1 - (36/38)**10)\n",
         "hidden": false,
         "locked": false
        }
       ],
       "scored": true,
       "setup": "",
       "teardown": "",
       "type": "doctest"
      }
     ]
    },
    "q2acheck": {
     "name": "q2acheck",
     "points": 0,
     "suites": [
      {
       "cases": [
        {
         "code": ">>> assert np.isclose(q2a_answer, 0.1)\n",
         "hidden": false,
         "locked": false
        }
       ],
       "scored": true,
       "setup": "",
       "teardown": "",
       "type": "doctest"
      }
     ]
    },
    "q2bcheck": {
     "name": "q2bcheck",
     "points": 0,
     "suites": [
      {
       "cases": [
        {
         "code": ">>> assert np.isclose(q2b_answer, 5/8)\n",
         "hidden": false,
         "locked": false
        }
       ],
       "scored": true,
       "setup": "",
       "teardown": "",
       "type": "doctest"
      }
     ]
    },
    "q3check": {
     "name": "q3check",
     "points": 0,
     "suites": [
      {
       "cases": [
        {
         "code": ">>> assert np.isclose(q3a_answer, 45/241)\n",
         "hidden": false,
         "locked": false
        }
       ],
       "scored": true,
       "setup": "",
       "teardown": "",
       "type": "doctest"
      }
     ]
    },
    "q4acheck": {
     "name": "q4acheck",
     "points": 0,
     "suites": [
      {
       "cases": [
        {
         "code": ">>> assert np.isclose(q4a_answer, 88/4165)\n",
         "hidden": false,
         "locked": false
        }
       ],
       "scored": true,
       "setup": "",
       "teardown": "",
       "type": "doctest"
      }
     ]
    },
    "q4i": {
     "name": "q4i",
     "points": 2,
     "suites": [
      {
       "cases": [
        {
         "code": ">>> assert len(cards) == 52\n",
         "hidden": false,
         "locked": false
        },
        {
         "code": ">>> a=set(cards)\n>>> \n>>> b=set(['C10','C2','C3','C4','C5','C6','C7','C8','C9','CA','CJ','CK','CQ','D10','D2','D3','D4','D5','D6','D7','D8','D9','DA','DJ','DK','DQ','H10','H2','H3','H4','H5','H6','H7','H8','H9','HA','HJ','HK','HQ','S10','S2','S3','S4','S5','S6','S7','S8','S9','SA','SJ','SK','SQ'])\n>>> \n>>> assert a==b\n",
         "hidden": false,
         "locked": false
        }
       ],
       "scored": true,
       "setup": "",
       "teardown": "",
       "type": "doctest"
      }
     ]
    },
    "q4ii": {
     "name": "q4ii",
     "points": 3,
     "suites": [
      {
       "cases": [
        {
         "code": ">>> assert (three_kind(['H3', 'S3', 'D3', 'H4', 'C5']) == True)\n",
         "hidden": false,
         "locked": false
        },
        {
         "code": ">>> assert (three_kind(['C4', 'D4', 'S4', 'H4', 'H2']) == False)\n",
         "hidden": false,
         "locked": false
        },
        {
         "code": ">>> assert (three_kind(['SA', 'S4', 'S4', 'H5', 'H2']) == False)\n",
         "hidden": false,
         "locked": false
        },
        {
         "code": ">>> assert (three_kind(['SA', 'DA', 'HA', 'C5', 'H5']) == False)\n",
         "hidden": false,
         "locked": false
        }
       ],
       "scored": true,
       "setup": "",
       "teardown": "",
       "type": "doctest"
      }
     ]
    },
    "q5acheck": {
     "name": "q5acheck",
     "points": 0,
     "suites": [
      {
       "cases": [
        {
         "code": ">>> assert np.isclose(q5a_answer, 33/800)\n",
         "hidden": false,
         "locked": false
        }
       ],
       "scored": true,
       "setup": "",
       "teardown": "",
       "type": "doctest"
      }
     ]
    },
    "q5bcheck": {
     "name": "q5bcheck",
     "points": 0,
     "suites": [
      {
       "cases": [
        {
         "code": ">>> assert np.isclose(q5b_answer, 10/11)\n",
         "hidden": false,
         "locked": false
        }
       ],
       "scored": true,
       "setup": "",
       "teardown": "",
       "type": "doctest"
      }
     ]
    },
    "q5ccheck": {
     "name": "q5ccheck",
     "points": 0,
     "suites": [
      {
       "cases": [
        {
         "code": ">>> assert q5c_answer.lower() == 'dependent'\n",
         "hidden": false,
         "locked": false
        }
       ],
       "scored": true,
       "setup": "",
       "teardown": "",
       "type": "doctest"
      }
     ]
    },
    "q6acheck": {
     "name": "q6acheck",
     "points": 0,
     "suites": [
      {
       "cases": [
        {
         "code": ">>> assert np.isclose(q6a_answer, 16/36)\n",
         "hidden": false,
         "locked": false
        }
       ],
       "scored": true,
       "setup": "",
       "teardown": "",
       "type": "doctest"
      }
     ]
    },
    "q7check": {
     "name": "q7check",
     "points": 0,
     "suites": [
      {
       "cases": [
        {
         "code": ">>> assert [x.lower() for x in q7_answer] == ['dependent', 'independent', 'dependent']\n",
         "hidden": false,
         "locked": false
        }
       ],
       "scored": true,
       "setup": "",
       "teardown": "",
       "type": "doctest"
      }
     ]
    }
   }
  }
 },
 "nbformat": 4,
 "nbformat_minor": 5
}
