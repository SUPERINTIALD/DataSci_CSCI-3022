{
 "cells": [
  {
   "cell_type": "code",
   "execution_count": 312,
   "id": "94a7a00c",
   "metadata": {
    "deletable": false,
    "editable": false
   },
   "outputs": [],
   "source": [
    "# Initialize Otter\n",
    "import otter\n",
    "grader = otter.Notebook(\"hw05.ipynb\")"
   ]
  },
  {
   "cell_type": "markdown",
   "id": "0a41ef94",
   "metadata": {},
   "source": [
    "# Homework 5\n",
    "\n",
    "## Due Date: Thursday, September 28 by 11:59 PM MT on Gradescope\n",
    "\n",
    "\n",
    "## Collaboration Policy\n",
    "\n",
    "Data science is a collaborative activity.  However a key step in learning and retention is **creating solutions on your own.**  \n",
    "\n",
    "Below are examples of acceptable vs unacceptable use of resources and collaboration when doing HW assignments in CSCI 3022.\n",
    "\n",
    "\n",
    "The following would be some **examples of cheating** when working on HW assignments in CSCI 3022.  Any of these constitute a **violation of the course's collaboration policy and will result in an F in the course and a trip to the honor council**.   \n",
    "\n",
    "\n",
    " - Consulting web pages that may have a solution to a given homework problem or one similar is cheating.  However, consulting the class notes, and web pages that explain the material taught in class but do NOT show a solution to the homework problem in question are permissible to view.  Clearly, there's a fuzzy line here between a valid use of resources and cheating. To avoid this line, one should merely consult the course notes, the course textbook, and references that contain syntax and/or formulas.\n",
    " - Copying a segment of code or math solution of three lines or more from another student from a printout, handwritten copy, or by looking at their computer screen \n",
    " - Allowing another student to copy a segment of your code or math solution of three lines or more\n",
    " - Taking a copy of another student's work (or a solution found online) and then editing that copy\n",
    " - Reading someone else’s solution to a problem on the HW before writing your own.\n",
    " - Asking someone to write all or part of a program or solution for you.\n",
    " - Asking someone else for the code necessary to fix the error for you, other than for simple syntactical errors\n",
    " \n",
    "\n",
    "\n",
    "On the other hand, the following are some **examples of things which would NOT usually be\n",
    "considered to be cheating**:\n",
    " - Working on a HW problem on your own first and then discussing with a classmate a particular part in the problem solution where you are stuck.  After clarifying any questions you should then continue to write your solution independently.\n",
    " - Asking someone (or searching online) how a particular construct in the language works.\n",
    " - Asking someone (or searching online) how to formulate a particular construct in the language.\n",
    " - Asking someone for help in finding an error in your program.  \n",
    " - Asking someone why a particular construct does not work as you expected in a given program.\n",
    "   \n",
    "\n",
    "To test whether you are truly doing your own work and retaining what you've learned you should be able to easily reproduce from scratch and explain a HW solution that was your own when asked in office hours by a TA/Instructor or on a quiz/exam.   \n",
    "\n",
    "\n",
    "If you have difficulty in formulating the general solution to a problem on your own, or\n",
    "you have difficulty in translating that general solution into a program, it is advisable to see\n",
    "your instructor or teaching assistant rather than another student as this situation can easily\n",
    "lead to a, possibly inadvertent, cheating situation.\n",
    "\n",
    "We are here to help!  Visit HW Hours and/or post questions on Piazza!\n"
   ]
  },
  {
   "cell_type": "markdown",
   "id": "e4d8a09d",
   "metadata": {},
   "source": [
    "If while completing this assignment you reference any websites other than those linked in this assignment or provided on Canvas please list those references here:\n",
    "\n",
    "**External references**:  *list any websites you referenced"
   ]
  },
  {
   "cell_type": "markdown",
   "id": "24b45ac0",
   "metadata": {},
   "source": [
    "#### Grading\n",
    "Grading is broken down into autograded answers and manually graded answers. \n",
    "\n",
    "For autograded answers, the results of your code are compared to provided and/or hidden tests.\n",
    "\n",
    "For manually graded answers you must show and explain all steps.  Graders will evaluate how well you answered the question and/or fulfilled the requirements of the question.\n",
    "\n",
    "\n",
    "### Score breakdown\n",
    "\n",
    "\n",
    "\n",
    "Question | Points | Grading Type\n",
    "--- | --- | ---\n",
    "Question 1 | 4 | autograded\n",
    "Question 2 | 4 | manual\n",
    "Question 3 | 6 | manual\n",
    "Question 4a | 3 | manual\n",
    "Question 4bi-iii | 5 | autograded\n",
    "Question 4biii | 4 | manual\n",
    "Question 5 | 8 | manual\n",
    "Question 6 | 10 | manual\n",
    "Question 7 | 6 | manual\n",
    "|Total | 50"
   ]
  },
  {
   "cell_type": "markdown",
   "id": "c0eec3bc",
   "metadata": {},
   "source": [
    "<a id='top'></a>\n",
    "---\n",
    "**Shortcuts:**  [Problem 2](#p2) | [Problem 3](#p3) | [Problem 4](#p4) | [Problem 5](#p5) |  [Problem 6](#p6) | [Problem 7](#p7) | \n",
    "---\n",
    "<hr style=\"border: 5px solid #003262;\" />\n",
    "<hr style=\"border: 1px solid #fdb515;\" />\n",
    "\n"
   ]
  },
  {
   "cell_type": "markdown",
   "id": "20206110",
   "metadata": {},
   "source": [
    "In this homework you'll investigate probability. You'll also use probability simulations to estimate probabilities, gain intuition about random processes and to check your pencil and paper work.   \n"
   ]
  },
  {
   "cell_type": "code",
   "execution_count": 313,
   "id": "931c6bb1",
   "metadata": {
    "scrolled": true
   },
   "outputs": [],
   "source": [
    "import pandas as pd\n",
    "import numpy as np\n",
    "import matplotlib.pylab as plt\n",
    "%matplotlib inline"
   ]
  },
  {
   "cell_type": "markdown",
   "id": "638ea3bb",
   "metadata": {},
   "source": [
    "### Problem 1: Roulette!\n",
    "\n",
    "\n",
    "A Nevada roulette wheel has 38 pockets and a small ball that rests on the wheel. When the wheel is spun, the ball comes to rest in one of the 38 pockets. That pocket is declared the winner. \n",
    "\n",
    "The pockets are labeled 0, 00, 1, 2, 3, 4, ... , 36. Pockets 0 and 00 are green, and the other pockets are alternately red and black. Below is an example of a roulette wheel!"
   ]
  },
  {
   "cell_type": "markdown",
   "id": "141c584c",
   "metadata": {},
   "source": [
    "<img src=\"img/roulette_wheel.jpeg\" width=\"330px\">"
   ]
  },
  {
   "cell_type": "markdown",
   "id": "ffd92b12",
   "metadata": {},
   "source": [
    "\n",
    "\n",
    "\n"
   ]
  },
  {
   "cell_type": "markdown",
   "id": "a2774291",
   "metadata": {},
   "source": [
    "\n",
    "On each spin of a roulette wheel, all 38 pockets are equally likely to be the winner regardless of the results of other spins. Among the 38 pockets, 18 are red, 18 black, and 2 green. "
   ]
  },
  {
   "cell_type": "markdown",
   "id": "ccb712bb",
   "metadata": {
    "deletable": false,
    "editable": false
   },
   "source": [
    "**In each part below, write code that evaluates to the chance of the event described.**\n",
    "\n",
    "**Part 1A (1 pt).**  What is the probability the winning pocket is black on all of the first three spins?\n"
   ]
  },
  {
   "cell_type": "code",
   "execution_count": 314,
   "id": "21341f68",
   "metadata": {
    "tags": []
   },
   "outputs": [],
   "source": [
    "first_three_black = (18/38) * (18/38) * (18/38)"
   ]
  },
  {
   "cell_type": "code",
   "execution_count": 315,
   "id": "a5ada309",
   "metadata": {
    "deletable": false,
    "editable": false
   },
   "outputs": [
    {
     "data": {
      "text/html": [
       "<p><strong><pre style='display: inline;'>q1a</pre></strong> passed! 🌟</p>"
      ],
      "text/plain": [
       "q1a results: All test cases passed!"
      ]
     },
     "execution_count": 315,
     "metadata": {},
     "output_type": "execute_result"
    }
   ],
   "source": [
    "grader.check(\"q1a\")"
   ]
  },
  {
   "cell_type": "markdown",
   "id": "7c7ee8be",
   "metadata": {
    "deletable": false,
    "editable": false
   },
   "source": [
    "**Part 1B (1 pt)**  What is the probability the color green never wins in the first 10 spins?"
   ]
  },
  {
   "cell_type": "code",
   "execution_count": 316,
   "id": "4fdbbb20",
   "metadata": {
    "tags": []
   },
   "outputs": [],
   "source": [
    "no_green = (36/38)*(36/38)*(36/38)*(36/38)*(36/38)*(36/38)*(36/38)*(36/38)*(36/38)*(36/38)"
   ]
  },
  {
   "cell_type": "code",
   "execution_count": 317,
   "id": "9f3ce661",
   "metadata": {
    "deletable": false,
    "editable": false
   },
   "outputs": [
    {
     "data": {
      "text/html": [
       "<p><strong><pre style='display: inline;'>q1b</pre></strong> passed! 💯</p>"
      ],
      "text/plain": [
       "q1b results: All test cases passed!"
      ]
     },
     "execution_count": 317,
     "metadata": {},
     "output_type": "execute_result"
    }
   ],
   "source": [
    "grader.check(\"q1b\")"
   ]
  },
  {
   "cell_type": "markdown",
   "id": "1f4a6e57",
   "metadata": {
    "deletable": false,
    "editable": false
   },
   "source": [
    "**Part 1C (1 pt)** What is the probability the color green wins at least once on the first 10 spins?\n"
   ]
  },
  {
   "cell_type": "code",
   "execution_count": 318,
   "id": "de76de56",
   "metadata": {
    "tags": []
   },
   "outputs": [],
   "source": [
    "at_least_one_green = 1 - (36/38)*(36/38)*(36/38)*(36/38)*(36/38)*(36/38)*(36/38)*(36/38)*(36/38)*(36/38)"
   ]
  },
  {
   "cell_type": "code",
   "execution_count": 319,
   "id": "6c6da3e2",
   "metadata": {
    "deletable": false,
    "editable": false
   },
   "outputs": [
    {
     "data": {
      "text/html": [
       "<p><strong><pre style='display: inline;'>q1c</pre></strong> passed! 🎉</p>"
      ],
      "text/plain": [
       "q1c results: All test cases passed!"
      ]
     },
     "execution_count": 319,
     "metadata": {},
     "output_type": "execute_result"
    }
   ],
   "source": [
    "grader.check(\"q1c\")"
   ]
  },
  {
   "cell_type": "markdown",
   "id": "d4001160",
   "metadata": {
    "deletable": false,
    "editable": false
   },
   "source": [
    "**Part 1D (1 pts).** What is the probability two of the three colors never win in the first 10 spins?\n",
    "\n"
   ]
  },
  {
   "cell_type": "code",
   "execution_count": 320,
   "id": "2932ea73",
   "metadata": {
    "tags": []
   },
   "outputs": [],
   "source": [
    "lone_winners = (2/38)**10 + (18/38)**10 + (18/38)**10"
   ]
  },
  {
   "cell_type": "code",
   "execution_count": 321,
   "id": "e845359d",
   "metadata": {
    "deletable": false,
    "editable": false
   },
   "outputs": [
    {
     "data": {
      "text/html": [
       "<p><strong><pre style='display: inline;'>q14</pre></strong> passed! 🚀</p>"
      ],
      "text/plain": [
       "q14 results: All test cases passed!"
      ]
     },
     "execution_count": 321,
     "metadata": {},
     "output_type": "execute_result"
    }
   ],
   "source": [
    "grader.check(\"q14\")"
   ]
  },
  {
   "cell_type": "markdown",
   "id": "cdeb51fe",
   "metadata": {
    "deletable": false,
    "editable": false
   },
   "source": [
    "<!-- BEGIN QUESTION -->\n",
    "\n",
    "***\n",
    "\n",
    "[Back to top](#top)\n",
    "\n",
    "<a id='p2'></a>\n",
    "\n",
    "### Problem 2\n",
    "\n",
    "Let $A$ and $B$ be events in a sample space $\\Omega$.  \n",
    "\n",
    "Suppose that the probability that $A$ occurs is $0.2$, the probability that $B$ occurs is $0.6$, and the probability that $\\textbf{neither}$ $A$ $\\textbf{nor}$ $B$ occur is $0.3$.  \n",
    "\n",
    "\n",
    "**2a) (2 pts)**  What is $P(A, B)$?\n",
    "\n",
    "**2b) (2 pts)**  What is $P(B\\mid A')$?\n",
    "\n",
    "\n",
    "Write up your full solution to both questions in the SAME box below using LaTeX (not code).  Show all steps fully justifying your answers.  \n"
   ]
  },
  {
   "cell_type": "markdown",
   "id": "94cbccdc",
   "metadata": {},
   "source": [
    "2a)\n",
    "\n",
    "\n",
    "\n",
    "$P(A, B) = P(A) + P(B) - (A \\cup B)$\n",
    "\n",
    "\n",
    "Where  $(A \\cup B) = 1 - P(A' \\cap B')$\n",
    "\n",
    "\n",
    "$P(A, B) = P(A) + P(B) -(1 - P(A' \\cap B'))$\n",
    "\n",
    "\n",
    "$P(A, B) = 0.2 + 0.6 - (1 - 0.3) = 0.1$\n",
    "\n",
    "2b)\n",
    "\n",
    "\n",
    "$P(B\\mid A') = \\frac{P(B \\cap A')}{P(A')}$\n",
    "\n",
    "\n",
    "Where $P(A') = 1 - P(A) = 1 - 0.2 = 0.8$\n",
    "\n",
    "and $P(B \\cap A') = P(B) - P(A \\cap B)$ \n",
    "\n",
    "We know that $P(A \\cap B) = 0.1$ from $2a)$\n",
    "\n",
    "Thus $P(B \\cap A') = P(B) - P(A \\cap B) = 0.6 - 0.1 = 0.5$\n",
    "\n",
    "Finally,  $P(B\\mid A') = \\frac{P(B \\cap A')}{P(A')} = \\frac{0.5}{0.8} = \\frac{5}{8}$"
   ]
  },
  {
   "cell_type": "markdown",
   "id": "0e170d08",
   "metadata": {
    "deletable": false,
    "editable": false
   },
   "source": [
    "<!-- END QUESTION -->\n",
    "\n",
    "To check your answer for Problem 2a, enter the answer you came up with (just the number) in the cell below. Note that this is just a public test. Full credit requires that you show all your work written in LaTeX fully justifying your answer in the cell above.  "
   ]
  },
  {
   "cell_type": "code",
   "execution_count": 322,
   "id": "73372c9e",
   "metadata": {
    "tags": []
   },
   "outputs": [],
   "source": [
    "q2a_answer = 0.1"
   ]
  },
  {
   "cell_type": "code",
   "execution_count": 323,
   "id": "3199e738",
   "metadata": {
    "deletable": false,
    "editable": false
   },
   "outputs": [
    {
     "data": {
      "text/html": [
       "<p><strong><pre style='display: inline;'>q2acheck</pre></strong> passed! 💯</p>"
      ],
      "text/plain": [
       "q2acheck results: All test cases passed!"
      ]
     },
     "execution_count": 323,
     "metadata": {},
     "output_type": "execute_result"
    }
   ],
   "source": [
    "grader.check(\"q2acheck\")"
   ]
  },
  {
   "cell_type": "markdown",
   "id": "f4fdf61c",
   "metadata": {
    "deletable": false,
    "editable": false
   },
   "source": [
    "To check your answer for Problem 2b, enter the answer you came up with (just the number) in the cell below. Note that this is just a public test. Full credit requires that you show all your work written in LaTeX fully justifying your answer in the Markdown cell provided above.  "
   ]
  },
  {
   "cell_type": "code",
   "execution_count": 324,
   "id": "b454f3d3",
   "metadata": {
    "tags": []
   },
   "outputs": [],
   "source": [
    "q2b_answer = 5/8"
   ]
  },
  {
   "cell_type": "code",
   "execution_count": 325,
   "id": "975fa655",
   "metadata": {
    "deletable": false,
    "editable": false
   },
   "outputs": [
    {
     "data": {
      "text/html": [
       "<p><strong><pre style='display: inline;'>q2bcheck</pre></strong> passed! 💯</p>"
      ],
      "text/plain": [
       "q2bcheck results: All test cases passed!"
      ]
     },
     "execution_count": 325,
     "metadata": {},
     "output_type": "execute_result"
    }
   ],
   "source": [
    "grader.check(\"q2bcheck\")"
   ]
  },
  {
   "cell_type": "markdown",
   "id": "2ba3c6c2",
   "metadata": {
    "deletable": false,
    "editable": false
   },
   "source": [
    "<!-- BEGIN QUESTION -->\n",
    "\n",
    "[Back to top](#top)\n",
    "\n",
    "<a id='p3'></a>\n",
    "\n",
    "### Problem 3\n",
    "\n",
    "The accuracy of a diagnostic test is often described using the following terms:\n",
    "\n",
    " - Test Sensitivity: Ability to detect a positive case (i.e. probability that the test is positive given that the person actually has the virus).\n",
    "\n",
    " - Test Specificity:  Ability to determine a negative case (i.e. the probability that a person tests negative given that they don't have the virus)).\n",
    "\n",
    "\n",
    "Suppose a  diagnostic test for a virus is reported to have $90\\%$ sensitivity and $92\\%$ specificity.\n",
    "\n",
    "Suppose $2\\%$ of the population has the virus in question.  \n",
    "\n",
    "Answer the following questions all in ONE cell below using LaTeX.  Show all steps.\n",
    "\n",
    "**3a) (5 pts)**.  If a person is chosen at random from the population and the diagnostic test indicates that they have the virus, what is the conditional probability that they do, in fact, have the virus?    Write up your full solution using LaTeX.\n",
    "\n",
    "**3b) (1 pt)**.  Terminology: What is the prior and what is the likelihood in this scenario?\n"
   ]
  },
  {
   "cell_type": "markdown",
   "id": "e0eebb96",
   "metadata": {},
   "source": [
    "3a) \n",
    "$P(Virus|Positive) = \\frac{P(Positive|Virus)\\cdot P(Virus)}{P(Positive|Virus) \\cdot P(Virus) + P(Positive|No Virus) \\cdot P(No Virus)}$\n",
    "\n",
    "The ability to detect a positive case is 90%. Ability to detect negative case is 92. However we need a (Positive|No Virus) which will be 1 - 0.92 = 0.08. We see that 2% of the population has virus. And that 98% don't have a virus.\n",
    "\n",
    "We plug these values in\n",
    "\n",
    "\n",
    "$P(Virus|Positive) = \\frac{0.9 \\cdot 0.02}{0.9 \\cdot 0.02 + 0.98 * 0.08}$\n",
    "\n",
    "\n",
    "3b)\n",
    "\n",
    "Prior is what the population has virus before the test result. Thus the Prior is 2%\n",
    "\n",
    "\n",
    "The likelihood is the probability of getting the positive test result that the person actually has the virus. Thus the likelihood is 90%"
   ]
  },
  {
   "cell_type": "markdown",
   "id": "2e62757b",
   "metadata": {
    "deletable": false,
    "editable": false
   },
   "source": [
    "<!-- END QUESTION -->\n",
    "\n",
    "To check your answer for Problem 3a, enter the answer you came up with (just the probability) in the cell below. Note that this is just a public test. Full credit requires that you show all your work written in LaTeX and fully justifying your answer above."
   ]
  },
  {
   "cell_type": "code",
   "execution_count": 326,
   "id": "dc7d990f",
   "metadata": {
    "tags": []
   },
   "outputs": [],
   "source": [
    "q3a_answer = (0.9 * 0.02)/(0.9*0.02 + 0.98*0.08)"
   ]
  },
  {
   "cell_type": "code",
   "execution_count": 327,
   "id": "74742e41",
   "metadata": {
    "deletable": false,
    "editable": false
   },
   "outputs": [
    {
     "data": {
      "text/html": [
       "<p><strong><pre style='display: inline;'>q3check</pre></strong> passed! 🌟</p>"
      ],
      "text/plain": [
       "q3check results: All test cases passed!"
      ]
     },
     "execution_count": 327,
     "metadata": {},
     "output_type": "execute_result"
    }
   ],
   "source": [
    "grader.check(\"q3check\")"
   ]
  },
  {
   "cell_type": "markdown",
   "id": "7357582c",
   "metadata": {
    "deletable": false,
    "editable": false
   },
   "source": [
    "<!-- BEGIN QUESTION -->\n",
    "\n",
    "***\n",
    "[Back to top](#top)\n",
    "\n",
    "<a id='p4'></a>\n",
    "\n",
    "### Problem 4: Poker!\n",
    "\n",
    "A common example for discrete counting and probability questions are poker hands.  Consider using a standard 52-card playing deck, with card ranks `[A,2,3,4,5,6,7,8,9,10,J,Q,K]` across the standard 4 suits: `[C,D,H,S]`.\n",
    "\n",
    "**Part 4A (3 pts)** \n",
    "\n",
    "Suppose we draw 5 cards at random from the deck without replacement.  \n",
    "\n",
    "In Poker, \"Three of a Kind\" is defined as a hand that contains three cards of one rank and two cards of two other ranks.  Notice that in this definition a Full House (a hand that contains three cards of one rank and two cards of another rank) is NOT classified as \"three of a kind\".  https://en.wikipedia.org/wiki/List_of_poker_hands#Three_of_a_kind\n",
    "\n",
    "\n",
    "<img src=\"img/three.png\" width=\"330px\">\n",
    "\n",
    "What is the probability of drawing 5 cards (without replacement) that are \"three of a kind?\" \n",
    "\n",
    "Typeset your work using LaTeX below.  Show work justifying all steps.  You may leave your answer in terms of a ratio of products, but you should simplify away any combinatoric notation such as ${n \\choose k}$ or $P(n,k)$.\n"
   ]
  },
  {
   "cell_type": "markdown",
   "id": "bf66c184",
   "metadata": {},
   "source": [
    "First we see that a deck has 52 cards, 13 ranks from A to K. We need to choose one of the 13 ranks for the three cards. \n",
    "\n",
    "After choosing a rank, we need to choose 4 out of that 3 for \"three of a kind\" For the remaining 2 cards, we choose one card from each rank out of the 12 to choose from 2 times. When we choose those cards, we need to choose 4 out of 1 for just one of a kind. It is not 13 and it is 12 because then we may get \"4 of a kind.\"\n",
    "Finally we divide the above with ($52 \\choose 5$)\n",
    "\n",
    "Thus we can contruct a formula,\n",
    "\n",
    "$\\frac{{13 \\choose 1}\\cdot {4 \\choose 3} \\cdot {12 \\choose 2} \\cdot {4 \\choose 1} \\cdot {4 \\choose 1}}{{52\\choose 5}}$\n"
   ]
  },
  {
   "cell_type": "markdown",
   "id": "95b8f59d",
   "metadata": {
    "deletable": false,
    "editable": false
   },
   "source": [
    "<!-- END QUESTION -->\n",
    "\n",
    "To check your answer for 4a, enter the answer you came up with (just the probability) in the cell below. Note that this is just a public test. Full credit requires that you show all your work written in LaTeX and fully justifying your answer in the cell above."
   ]
  },
  {
   "cell_type": "code",
   "execution_count": 328,
   "id": "4928731e",
   "metadata": {
    "tags": []
   },
   "outputs": [],
   "source": [
    "q4a_answer = 13 * 4 * np.math.factorial(12)/(np.math.factorial(2)*np.math.factorial(10)) * 4 * 4/ (np.math.factorial(52) / (np.math.factorial(5) * np.math.factorial(47)))\n"
   ]
  },
  {
   "cell_type": "code",
   "execution_count": 329,
   "id": "6f5b6ccf",
   "metadata": {
    "deletable": false,
    "editable": false
   },
   "outputs": [
    {
     "data": {
      "text/html": [
       "<p><strong><pre style='display: inline;'>q4acheck</pre></strong> passed! 🌈</p>"
      ],
      "text/plain": [
       "q4acheck results: All test cases passed!"
      ]
     },
     "execution_count": 329,
     "metadata": {},
     "output_type": "execute_result"
    }
   ],
   "source": [
    "grader.check(\"q4acheck\")"
   ]
  },
  {
   "cell_type": "markdown",
   "id": "c93830f5",
   "metadata": {
    "deletable": false,
    "editable": false
   },
   "source": [
    "\n",
    "\n",
    "\n",
    "\n",
    "One of the big payoffs of simulation is that it can let us answer some probability questions that are otherwise quite difficult.  We can instead just simulate the process and get approximate results based on simulation.\n",
    "\n",
    "\n",
    "\n",
    "In lecture we have outlined several ways to draw random samples using Python:\n",
    "\n",
    "\n",
    "- `np.random.choice(a)` draws a random sample from a population whose elements are in an array `a`. The output is an array consisting of the sampled elements.\n",
    "\n",
    "- `df.sample(n)` draws a random sample of `n` rows from the DataFrame `df`. The output is a DataFrame consisting of the sampled rows. \n",
    "\n",
    "**Part 4B**  Poker with computers!\n",
    "\n",
    "To simulate the scenario you calculated theoretically in part 4a, you will use the steps below to write code to simulate draws of a hand of 5 cards from a standard 52-card deck.  You'll repeat the simulation 10000 times, and report how many \"three of a kind\" hands were observed.  If your simulation code is correct, your answer should be very close to your theoretical answer from part 4a. \n",
    "\n",
    "**4bi)(2 pts)**.  Create a Python `list` called `cards` of 52 strings that represent a full deck of cards (see documentation for Python `list` here: https://docs.python.org/3/library/stdtypes.html#list).  \n",
    "\n",
    "For suits use the labeling `[C,D,H,S]` and for ranks use the labeling `[A,2,3,4,5,6,7,8,9,10,J,Q,K]`. \n",
    "\n",
    "In the string describing the card give the suit first and the rank second.  For example to represent the 3 of hearts use the string 'H3'. To represent the queen of hearts use the string 'HQ`.   \n",
    "Your deck should have 52 distinct cards.\n"
   ]
  },
  {
   "cell_type": "code",
   "execution_count": 330,
   "id": "3a290aa1",
   "metadata": {
    "tags": []
   },
   "outputs": [],
   "source": [
    "cards = ['CA','DA','HA','SA','C2','D2','H2','S2','C3','D3','H3','S3','C4','D4','H4','S4','C5','D5','H5','S5','C6','D6','H6','S6','C7','D7','H7','S7','C8','D8','H8','S8','C9','D9','H9','S9','C10','D10','H10','S10','CJ','DJ','HJ','SJ','CQ','DQ','HQ','SQ','CK','DK','HK','SK']\n",
    "\n",
    "# 4bi).  Write code to create a list called `cards` representing a 52-card deck above this line.\n"
   ]
  },
  {
   "cell_type": "code",
   "execution_count": 331,
   "id": "67e84619",
   "metadata": {
    "deletable": false,
    "editable": false
   },
   "outputs": [
    {
     "data": {
      "text/html": [
       "<p><strong><pre style='display: inline;'>q4i</pre></strong> passed! 🍀</p>"
      ],
      "text/plain": [
       "q4i results: All test cases passed!"
      ]
     },
     "execution_count": 331,
     "metadata": {},
     "output_type": "execute_result"
    }
   ],
   "source": [
    "grader.check(\"q4i\")"
   ]
  },
  {
   "cell_type": "markdown",
   "id": "2e721039-2f1e-4f47-bd2d-00e630b3db63",
   "metadata": {
    "deletable": false,
    "editable": false
   },
   "source": [
    "**4bii)(3 pts)**.  Define a function named `three_kind` to take a Python `list` of 5 cards as input (where the cards are given as strings such as `H3`) and check if the cards are Three of a Kind.  Your function should return `True` if the input is 3 of a kind and `False` otherwise. \n",
    "\n",
    "HINT: The function `np.unique` can make checking hands easier. \n"
   ]
  },
  {
   "cell_type": "code",
   "execution_count": 332,
   "id": "f5bddc33",
   "metadata": {
    "tags": []
   },
   "outputs": [],
   "source": [
    "\n",
    "def three_kind(hand):\n",
    "    r = [card[1:] for card in hand]\n",
    "    rCounts = np.unique(r, return_counts=True)\n",
    "    if len(rCounts[1]) == 3 and np.any(rCounts[1] == 3):\n",
    "        return True\n",
    "    return False\n",
    "# 4bii).Write a function (above this line) 'three_kind' to check a list of 5 cards to see if it is 3 of a kind "
   ]
  },
  {
   "cell_type": "code",
   "execution_count": 333,
   "id": "764008d3",
   "metadata": {
    "deletable": false,
    "editable": false
   },
   "outputs": [
    {
     "data": {
      "text/html": [
       "<p><strong><pre style='display: inline;'>q4ii</pre></strong> passed! 🌈</p>"
      ],
      "text/plain": [
       "q4ii results: All test cases passed!"
      ]
     },
     "execution_count": 333,
     "metadata": {},
     "output_type": "execute_result"
    }
   ],
   "source": [
    "grader.check(\"q4ii\")"
   ]
  },
  {
   "cell_type": "markdown",
   "id": "5a82bca1-a6bc-49e5-9c35-5d54a45b9a1b",
   "metadata": {
    "deletable": false,
    "editable": false
   },
   "source": [
    "<!-- BEGIN QUESTION -->\n",
    "\n",
    "**4biii)(4 pts)**. \n",
    "\n",
    "Write code in the space below that completes the following steps:\n",
    "\n",
    "Step 1:  Write a function to simulate 10,000 random draws from `cards` of 5 cards each, and check if each draw is Three of a Kind. The function should return the overall proportion of random hands (out of the 10,000) in which Three of a Kind was observed. If you have coded your simulation correctly, your answer to this part should be very close to your theoretical answer from Part 4A.  \n",
    "\n",
    "Step 2:  Let's visualize how this simulation converges to the theoretical probability.   In class, we plotted a running estimate of the probability of an event as a function of the number of trials in our simulation.  Write code that completes 10,000 random draws of 5 cards each, but this time outputs a plot of a running estimate of the proportion of hands that are Three of a Kind as a function of the number of trials (from 1 to 10,000) in your simulation.  **Include a red horizontal line on your plot with the theoretical probability that you calculated in part 4A.**  Be sure to include a title on your plot and be sure to label both your axes on the plot.\n",
    "\n",
    "\n",
    "\n",
    "\n"
   ]
  },
  {
   "cell_type": "code",
   "execution_count": 334,
   "id": "88cd2f2c",
   "metadata": {
    "tags": []
   },
   "outputs": [
    {
     "data": {
      "text/plain": [
       "0.0228"
      ]
     },
     "execution_count": 334,
     "metadata": {},
     "output_type": "execute_result"
    }
   ],
   "source": [
    "p=[]\n",
    "def sim(count):\n",
    "    n = 0\n",
    "    for i in range(count):\n",
    "        randomHand = np.random.shuffle(cards)\n",
    "        randomHand = cards[:5]\n",
    "        if three_kind(randomHand) == True:\n",
    "           n += 1\n",
    "                   \n",
    "        into_p = n/(i+1)\n",
    "        p.append(into_p)\n",
    "    result = n/count\n",
    "    return result\n",
    "    \n",
    "sim(10000)\n",
    "#4biii).Write your code for Step 1 above this line"
   ]
  },
  {
   "cell_type": "code",
   "execution_count": 335,
   "id": "8be0968b-f024-4e32-8970-37c2d8d86297",
   "metadata": {
    "tags": []
   },
   "outputs": [
    {
     "data": {
      "text/plain": [
       "Text(0, 0.5, 'Probability of getting three of a kind')"
      ]
     },
     "execution_count": 335,
     "metadata": {},
     "output_type": "execute_result"
    },
    {
     "data": {
      "image/png": "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\n",
      "text/plain": [
       "<Figure size 640x480 with 1 Axes>"
      ]
     },
     "metadata": {},
     "output_type": "display_data"
    }
   ],
   "source": [
    "fig, ax = plt.subplots()\n",
    "ax.axhline(y=54912/2598960, color = \"red\")\n",
    "ax.plot(p)\n",
    "plt.title('Simulation of Getting a Three of a Kind')\n",
    "plt.xlabel('Draws')\n",
    "plt.ylabel('Probability of getting three of a kind')\n",
    "# 4biii) Write your code for Step 2 above this line"
   ]
  },
  {
   "cell_type": "markdown",
   "id": "656bc114",
   "metadata": {
    "deletable": false,
    "editable": false
   },
   "source": [
    "<!-- END QUESTION -->\n",
    "\n",
    "<!-- BEGIN QUESTION -->\n",
    "\n",
    "***\n",
    "[Back to top](#top)\n",
    "\n",
    "<a id='p5'></a>\n",
    "\n",
    "### Problem 5\n",
    "\n",
    "To play a game, you have a bag containing 28 fair [four-sided dice](https://en.wikipedia.org/wiki/Four-sided_die), with faces `{1,2,3,4}`.  This bag also contains 9 fair six-sided dice (faces `{1,2,3,4,5,6}`) and 3 fair twenty-sided dice (faces `{1,2,3,4,...,19,20}`).  Call these 3 classes of die \"Four\", \"Six\" and \"Twenty\" (or $D_4$, $D_6$, and $D_{20}$, for short).  You grab one die at random from the box.  \n",
    "\n",
    "Work the following problems by hand and write up your full solution using LaTeX unless otherwise stated (but don't be afraid to simulate to check your result!). "
   ]
  },
  {
   "cell_type": "markdown",
   "id": "fc16aa75",
   "metadata": {
    "deletable": false,
    "editable": false
   },
   "source": [
    "**Part 5A (3 pts)**: You grab one die at random from the box and roll it one time.  What is the probability of the event $R_5$, that you roll a 5? Explain your reasoning mathematically (using LaTeX).   "
   ]
  },
  {
   "cell_type": "markdown",
   "id": "faf34940",
   "metadata": {},
   "source": [
    "We see that grabbing the die is independent, and the number we get from the die is dependent. This is the die we pick has different probabilties when we role it. \n",
    "\n",
    "To calculate the probability of $P(R_5)$ we can use the multiplication rule:\n",
    "\n",
    "\n",
    "First we can exclude $(D_4)$ as there is no 5 in it. Thus the probability would be 0.\n",
    "When we grab a die and the probability for $(D_{6}) = \\frac{9}{40}$\n",
    "If we role a die for $(D_6)$ the probability is $\\frac{1}{6}$ \n",
    "Thus the total probability for $(D_6)$ is $\\frac{1}{6} \\cdot \\frac{9}{40} = \\frac{9}{240}$\n",
    "\n",
    "\n",
    "\n",
    "When we grab a die and the probability for $(D_{20}) = \\frac{3}{40}$\n",
    "If we role a die for $(D_{20})$ the probability is $\\frac{1}{20}$ \n",
    "Thus the total probability for $(D_{20})$ is $\\frac{1}{20} \\cdot \\frac{3}{40} = \\frac{3}{800}$\n",
    "\n",
    "\n",
    "\n",
    "We can then add these two results to find that the probability of rolling the event $R_5$ is $D_6 + D_{20} = \\frac{9}{240} + \\frac{3}{800}= \\frac{33}{800}$\n"
   ]
  },
  {
   "cell_type": "markdown",
   "id": "295114bf",
   "metadata": {
    "deletable": false,
    "editable": false
   },
   "source": [
    "<!-- END QUESTION -->\n",
    "\n",
    "To check your answer for 5a, enter the answer you came up with (just the probability) in the cell below. Note that this is just a public test. Full credit requires that you show all your work written in LaTeX and fully justifying your answer in part 5a above."
   ]
  },
  {
   "cell_type": "code",
   "execution_count": 336,
   "id": "74b46d0f",
   "metadata": {
    "tags": []
   },
   "outputs": [],
   "source": [
    "q5a_answer = 33/800"
   ]
  },
  {
   "cell_type": "code",
   "execution_count": 337,
   "id": "16cbf235",
   "metadata": {
    "deletable": false,
    "editable": false
   },
   "outputs": [
    {
     "data": {
      "text/html": [
       "<p><strong><pre style='display: inline;'>q5acheck</pre></strong> passed! 🎉</p>"
      ],
      "text/plain": [
       "q5acheck results: All test cases passed!"
      ]
     },
     "execution_count": 337,
     "metadata": {},
     "output_type": "execute_result"
    }
   ],
   "source": [
    "grader.check(\"q5acheck\")"
   ]
  },
  {
   "cell_type": "markdown",
   "id": "b1bef844",
   "metadata": {
    "deletable": false,
    "editable": false
   },
   "source": [
    "<!-- BEGIN QUESTION -->\n",
    "\n",
    "**Part 5B (3 pts)**: Suppose you roll a 5.  Given this information, what is the probability that the die you chose from the box is a Six-sided die? Write up your full solution using LaTeX. Show all steps.  "
   ]
  },
  {
   "cell_type": "markdown",
   "id": "6803a0cd",
   "metadata": {},
   "source": [
    "$P(A|B) = \\frac{P(A) \\cdot P(B|A)}{P(B)}$\n",
    "\n",
    "Where $P(A) = \\frac{9}{240}$\n",
    "\n",
    "\n",
    "$P(B) = \\frac{33}{800}$\n",
    "\n",
    "\n",
    "$P(B|A) = \\frac{1}{6}$\n",
    "\n",
    "\n",
    "When we plug all the values in we get\n",
    "\n",
    "\n",
    "$P(A|B) =\\frac{ \\frac{9}{240} \\cdot  \\frac{1}{6} }{ \\frac{33}{800}} = \\frac{2400}{2640} = \\frac{10}{11}$"
   ]
  },
  {
   "cell_type": "markdown",
   "id": "f0dcffd4",
   "metadata": {
    "deletable": false,
    "editable": false
   },
   "source": [
    "<!-- END QUESTION -->\n",
    "\n",
    "To check your answer for 5b, enter the answer you came up with (just the probability) in the cell below. Note that this is just a public test. Full credit requires that you show all your work written in LaTeX and fully justifying your answer in part 5b above."
   ]
  },
  {
   "cell_type": "code",
   "execution_count": 338,
   "id": "4347169f",
   "metadata": {
    "tags": []
   },
   "outputs": [],
   "source": [
    "q5b_answer = 10/11"
   ]
  },
  {
   "cell_type": "code",
   "execution_count": 339,
   "id": "578ca950",
   "metadata": {
    "deletable": false,
    "editable": false
   },
   "outputs": [
    {
     "data": {
      "text/html": [
       "<p><strong><pre style='display: inline;'>q5bcheck</pre></strong> passed! 💯</p>"
      ],
      "text/plain": [
       "q5bcheck results: All test cases passed!"
      ]
     },
     "execution_count": 339,
     "metadata": {},
     "output_type": "execute_result"
    }
   ],
   "source": [
    "grader.check(\"q5bcheck\")"
   ]
  },
  {
   "cell_type": "markdown",
   "id": "58bcab0a",
   "metadata": {
    "deletable": false,
    "editable": false
   },
   "source": [
    "<!-- BEGIN QUESTION -->\n",
    "\n",
    "**Part 5C (2 pts):**  Are the events $R_5$ and $D_6$ independent?  Write up your full solution using LaTeX. Show all steps. Justify your answer **using the mathematical definition of independence**."
   ]
  },
  {
   "cell_type": "markdown",
   "id": "d0d1eb05",
   "metadata": {},
   "source": [
    "#### We see that to prove independency that it needs to be\n",
    "\n",
    "We know for $P(D_6)$ which is probability of rolling the die, is $\\frac{9}{40}$. \n",
    "\n",
    "\n",
    "We calculated $P(D_6|R_5) = \\frac{10}{11}$  \n",
    "\n",
    "Thus from the first step, we see that $P(D_6|R_5) \\neq P(R_5)$.\n",
    "\n",
    "Thus we know these events are dependent of each other."
   ]
  },
  {
   "cell_type": "markdown",
   "id": "24638e4a",
   "metadata": {
    "deletable": false,
    "editable": false
   },
   "source": [
    "<!-- END QUESTION -->\n",
    "\n",
    "To check your answer for 5c, enter the answer you came up with as a string (e.g., `'in/dependent'`) in the cell below. Note that this is just a public test. Full credit requires that you show all your work written in LaTeX and fully justifying your answer in part 5c above."
   ]
  },
  {
   "cell_type": "code",
   "execution_count": 340,
   "id": "c2fb3f78",
   "metadata": {
    "tags": []
   },
   "outputs": [],
   "source": [
    "q5c_answer = 'dependent'"
   ]
  },
  {
   "cell_type": "code",
   "execution_count": 341,
   "id": "f59cb57c",
   "metadata": {
    "deletable": false,
    "editable": false
   },
   "outputs": [
    {
     "data": {
      "text/html": [
       "<p><strong><pre style='display: inline;'>q5ccheck</pre></strong> passed! 💯</p>"
      ],
      "text/plain": [
       "q5ccheck results: All test cases passed!"
      ]
     },
     "execution_count": 341,
     "metadata": {},
     "output_type": "execute_result"
    }
   ],
   "source": [
    "grader.check(\"q5ccheck\")"
   ]
  },
  {
   "cell_type": "markdown",
   "id": "11fbdb39",
   "metadata": {
    "deletable": false,
    "editable": false
   },
   "source": [
    "<!-- BEGIN QUESTION -->\n",
    "\n",
    "***\n",
    "[Back to top](#top)\n",
    "\n",
    "<a id='p6'></a>\n",
    "\n",
    "### Problem 6\n",
    "\n",
    "Suppose you roll two fair six-sided dice.  Let $C$ be the event that the two rolls are _close_ to one another in value, in the sense that they're either equal or differ by only 1.  \n",
    "\n",
    "**Part 6A (3 pts)**: Compute $P(C)$ by hand.  Show all steps using LaTeX.\n"
   ]
  },
  {
   "cell_type": "markdown",
   "id": "ec3d9f19",
   "metadata": {},
   "source": [
    "First we roll the first die. When we throw the second, we have the 6 possibilies where both dice roll the same. (1,1), (2,2), (3,3), (4,4), (5,5), (6,6). The other could differ by 1. (1,2), (2,1), (2,3),(3,2), (3,4),(4,3), (4,5), (5,4), (5,6),(6,5). We see the total count to be 16 different possibilites. Now we divide this over by the total probability which is 36.\n",
    "\n",
    "Thus we see the $P(C) = \\frac{16}{36} = \\frac{4}{9}$"
   ]
  },
  {
   "cell_type": "markdown",
   "id": "e914779b",
   "metadata": {
    "deletable": false,
    "editable": false
   },
   "source": [
    "<!-- END QUESTION -->\n",
    "\n",
    "To check your answer for 6a, enter the answer you came up with (just the probability) in the cell below. Note that this is just a public test. Full credit requires that you show all your work written in LaTeX and fully justifying your answer in part 6a above."
   ]
  },
  {
   "cell_type": "code",
   "execution_count": 342,
   "id": "95ffa14f",
   "metadata": {
    "tags": []
   },
   "outputs": [
    {
     "data": {
      "text/plain": [
       "0.4444444444444444"
      ]
     },
     "execution_count": 342,
     "metadata": {},
     "output_type": "execute_result"
    }
   ],
   "source": [
    "q6a_answer = 4/9\n",
    "q6a_answer"
   ]
  },
  {
   "cell_type": "code",
   "execution_count": 343,
   "id": "21bea195",
   "metadata": {
    "deletable": false,
    "editable": false
   },
   "outputs": [
    {
     "data": {
      "text/html": [
       "<p><strong><pre style='display: inline;'>q6acheck</pre></strong> passed! 🎉</p>"
      ],
      "text/plain": [
       "q6acheck results: All test cases passed!"
      ]
     },
     "execution_count": 343,
     "metadata": {},
     "output_type": "execute_result"
    }
   ],
   "source": [
    "grader.check(\"q6acheck\")"
   ]
  },
  {
   "cell_type": "markdown",
   "id": "74cc8948",
   "metadata": {
    "deletable": false,
    "editable": false
   },
   "source": [
    "<!-- BEGIN QUESTION -->\n",
    "\n",
    "**Part 6B (3 pts)**: \n",
    "Write a simulation to run 10,000 trials of rolling a pair of dice and estimate the value of $P(C)$ you calculated in **Part A**.  Your estimate should agree with the exact calculation you did in **Part A**.  If it doesn't, try increasing the number of trials in your simulation. "
   ]
  },
  {
   "cell_type": "code",
   "execution_count": 368,
   "id": "a22a53f9",
   "metadata": {
    "tags": []
   },
   "outputs": [
    {
     "data": {
      "text/plain": [
       "(0.4415,\n",
       " [1.0,\n",
       "  1.0,\n",
       "  0.6666666666666666,\n",
       "  0.75,\n",
       "  0.8,\n",
       "  0.8333333333333334,\n",
       "  0.8571428571428571,\n",
       "  0.875,\n",
       "  0.7777777777777778,\n",
       "  0.7,\n",
       "  0.7272727272727273,\n",
       "  0.75,\n",
       "  0.6923076923076923,\n",
       "  0.6428571428571429,\n",
       "  0.6666666666666666,\n",
       "  0.625,\n",
       "  0.5882352941176471,\n",
       "  0.5555555555555556,\n",
       "  0.5789473684210527,\n",
       "  0.6,\n",
       "  0.5714285714285714,\n",
       "  0.5454545454545454,\n",
       "  0.5652173913043478,\n",
       "  0.5416666666666666,\n",
       "  0.52,\n",
       "  0.5,\n",
       "  0.5185185185185185,\n",
       "  0.5,\n",
       "  0.4827586206896552,\n",
       "  0.4666666666666667,\n",
       "  0.4838709677419355,\n",
       "  0.46875,\n",
       "  0.48484848484848486,\n",
       "  0.5,\n",
       "  0.5142857142857142,\n",
       "  0.5277777777777778,\n",
       "  0.5135135135135135,\n",
       "  0.5263157894736842,\n",
       "  0.5128205128205128,\n",
       "  0.5,\n",
       "  0.5121951219512195,\n",
       "  0.5238095238095238,\n",
       "  0.5116279069767442,\n",
       "  0.5,\n",
       "  0.4888888888888889,\n",
       "  0.5,\n",
       "  0.48936170212765956,\n",
       "  0.5,\n",
       "  0.5102040816326531,\n",
       "  0.52,\n",
       "  0.5294117647058824,\n",
       "  0.5192307692307693,\n",
       "  0.5094339622641509,\n",
       "  0.5,\n",
       "  0.4909090909090909,\n",
       "  0.48214285714285715,\n",
       "  0.47368421052631576,\n",
       "  0.46551724137931033,\n",
       "  0.4745762711864407,\n",
       "  0.48333333333333334,\n",
       "  0.4918032786885246,\n",
       "  0.5,\n",
       "  0.5079365079365079,\n",
       "  0.515625,\n",
       "  0.5076923076923077,\n",
       "  0.5151515151515151,\n",
       "  0.5074626865671642,\n",
       "  0.5147058823529411,\n",
       "  0.5072463768115942,\n",
       "  0.5,\n",
       "  0.5070422535211268,\n",
       "  0.5,\n",
       "  0.4931506849315068,\n",
       "  0.4864864864864865,\n",
       "  0.48,\n",
       "  0.47368421052631576,\n",
       "  0.4805194805194805,\n",
       "  0.47435897435897434,\n",
       "  0.46835443037974683,\n",
       "  0.475,\n",
       "  0.4691358024691358,\n",
       "  0.4634146341463415,\n",
       "  0.4578313253012048,\n",
       "  0.4523809523809524,\n",
       "  0.4470588235294118,\n",
       "  0.45348837209302323,\n",
       "  0.4482758620689655,\n",
       "  0.4431818181818182,\n",
       "  0.43820224719101125,\n",
       "  0.43333333333333335,\n",
       "  0.42857142857142855,\n",
       "  0.42391304347826086,\n",
       "  0.41935483870967744,\n",
       "  0.425531914893617,\n",
       "  0.43157894736842106,\n",
       "  0.4270833333333333,\n",
       "  0.4329896907216495,\n",
       "  0.4387755102040816,\n",
       "  0.43434343434343436,\n",
       "  0.44,\n",
       "  0.44554455445544555,\n",
       "  0.4411764705882353,\n",
       "  0.4368932038834951,\n",
       "  0.4423076923076923,\n",
       "  0.44761904761904764,\n",
       "  0.4528301886792453,\n",
       "  0.4485981308411215,\n",
       "  0.4537037037037037,\n",
       "  0.45871559633027525,\n",
       "  0.45454545454545453,\n",
       "  0.4594594594594595,\n",
       "  0.45535714285714285,\n",
       "  0.46017699115044247,\n",
       "  0.4649122807017544,\n",
       "  0.46956521739130436,\n",
       "  0.47413793103448276,\n",
       "  0.4700854700854701,\n",
       "  0.4661016949152542,\n",
       "  0.47058823529411764,\n",
       "  0.4666666666666667,\n",
       "  0.4628099173553719,\n",
       "  0.4672131147540984,\n",
       "  0.4634146341463415,\n",
       "  0.46774193548387094,\n",
       "  0.472,\n",
       "  0.47619047619047616,\n",
       "  0.48031496062992124,\n",
       "  0.4765625,\n",
       "  0.4728682170542636,\n",
       "  0.47692307692307695,\n",
       "  0.48091603053435117,\n",
       "  0.4772727272727273,\n",
       "  0.47368421052631576,\n",
       "  0.47761194029850745,\n",
       "  0.48148148148148145,\n",
       "  0.4852941176470588,\n",
       "  0.48175182481751827,\n",
       "  0.4855072463768116,\n",
       "  0.48201438848920863,\n",
       "  0.4785714285714286,\n",
       "  0.48226950354609927,\n",
       "  0.4788732394366197,\n",
       "  0.4755244755244755,\n",
       "  0.4722222222222222,\n",
       "  0.4689655172413793,\n",
       "  0.4657534246575342,\n",
       "  0.46258503401360546,\n",
       "  0.46621621621621623,\n",
       "  0.46308724832214765,\n",
       "  0.46,\n",
       "  0.45695364238410596,\n",
       "  0.45394736842105265,\n",
       "  0.45098039215686275,\n",
       "  0.44805194805194803,\n",
       "  0.44516129032258067,\n",
       "  0.44871794871794873,\n",
       "  0.445859872611465,\n",
       "  0.44936708860759494,\n",
       "  0.44654088050314467,\n",
       "  0.45,\n",
       "  0.4472049689440994,\n",
       "  0.4444444444444444,\n",
       "  0.44171779141104295,\n",
       "  0.43902439024390244,\n",
       "  0.44242424242424244,\n",
       "  0.4457831325301205,\n",
       "  0.4491017964071856,\n",
       "  0.44642857142857145,\n",
       "  0.4437869822485207,\n",
       "  0.4411764705882353,\n",
       "  0.43859649122807015,\n",
       "  0.4418604651162791,\n",
       "  0.44508670520231214,\n",
       "  0.4425287356321839,\n",
       "  0.44571428571428573,\n",
       "  0.4431818181818182,\n",
       "  0.4406779661016949,\n",
       "  0.43820224719101125,\n",
       "  0.441340782122905,\n",
       "  0.4444444444444444,\n",
       "  0.44751381215469616,\n",
       "  0.44505494505494503,\n",
       "  0.44808743169398907,\n",
       "  0.44565217391304346,\n",
       "  0.4486486486486487,\n",
       "  0.44623655913978494,\n",
       "  0.44919786096256686,\n",
       "  0.44680851063829785,\n",
       "  0.4497354497354497,\n",
       "  0.4473684210526316,\n",
       "  0.450261780104712,\n",
       "  0.4479166666666667,\n",
       "  0.44559585492227977,\n",
       "  0.44329896907216493,\n",
       "  0.4461538461538462,\n",
       "  0.4489795918367347,\n",
       "  0.4467005076142132,\n",
       "  0.4494949494949495,\n",
       "  0.45226130653266333,\n",
       "  0.45,\n",
       "  0.44776119402985076,\n",
       "  0.4504950495049505,\n",
       "  0.45320197044334976,\n",
       "  0.45098039215686275,\n",
       "  0.44878048780487806,\n",
       "  0.45145631067961167,\n",
       "  0.4492753623188406,\n",
       "  0.44711538461538464,\n",
       "  0.4449760765550239,\n",
       "  0.44285714285714284,\n",
       "  0.44549763033175355,\n",
       "  0.4481132075471698,\n",
       "  0.4460093896713615,\n",
       "  0.4439252336448598,\n",
       "  0.44651162790697674,\n",
       "  0.44907407407407407,\n",
       "  0.4470046082949309,\n",
       "  0.44954128440366975,\n",
       "  0.4474885844748858,\n",
       "  0.44545454545454544,\n",
       "  0.4479638009049774,\n",
       "  0.44594594594594594,\n",
       "  0.4484304932735426,\n",
       "  0.45089285714285715,\n",
       "  0.4488888888888889,\n",
       "  0.45132743362831856,\n",
       "  0.44933920704845814,\n",
       "  0.4473684210526316,\n",
       "  0.4497816593886463,\n",
       "  0.44782608695652176,\n",
       "  0.45021645021645024,\n",
       "  0.4482758620689655,\n",
       "  0.45064377682403434,\n",
       "  0.452991452991453,\n",
       "  0.4553191489361702,\n",
       "  0.4533898305084746,\n",
       "  0.45569620253164556,\n",
       "  0.453781512605042,\n",
       "  0.45188284518828453,\n",
       "  0.45,\n",
       "  0.44813278008298757,\n",
       "  0.4462809917355372,\n",
       "  0.4444444444444444,\n",
       "  0.4426229508196721,\n",
       "  0.4448979591836735,\n",
       "  0.44308943089430897,\n",
       "  0.44534412955465585,\n",
       "  0.4475806451612903,\n",
       "  0.4457831325301205,\n",
       "  0.444,\n",
       "  0.44223107569721115,\n",
       "  0.44047619047619047,\n",
       "  0.43873517786561267,\n",
       "  0.43700787401574803,\n",
       "  0.4392156862745098,\n",
       "  0.4375,\n",
       "  0.4357976653696498,\n",
       "  0.43410852713178294,\n",
       "  0.43243243243243246,\n",
       "  0.4346153846153846,\n",
       "  0.4367816091954023,\n",
       "  0.4389312977099237,\n",
       "  0.44106463878326996,\n",
       "  0.4393939393939394,\n",
       "  0.44150943396226416,\n",
       "  0.44360902255639095,\n",
       "  0.4419475655430712,\n",
       "  0.44402985074626866,\n",
       "  0.4423791821561338,\n",
       "  0.44074074074074077,\n",
       "  0.44280442804428044,\n",
       "  0.4411764705882353,\n",
       "  0.4432234432234432,\n",
       "  0.4416058394160584,\n",
       "  0.44,\n",
       "  0.4420289855072464,\n",
       "  0.44404332129963897,\n",
       "  0.44244604316546765,\n",
       "  0.4444444444444444,\n",
       "  0.44642857142857145,\n",
       "  0.4483985765124555,\n",
       "  0.450354609929078,\n",
       "  0.45229681978798586,\n",
       "  0.45422535211267606,\n",
       "  0.45614035087719296,\n",
       "  0.45454545454545453,\n",
       "  0.4529616724738676,\n",
       "  0.4548611111111111,\n",
       "  0.45674740484429066,\n",
       "  0.4586206896551724,\n",
       "  0.46048109965635736,\n",
       "  0.4623287671232877,\n",
       "  0.46075085324232085,\n",
       "  0.45918367346938777,\n",
       "  0.4576271186440678,\n",
       "  0.4594594594594595,\n",
       "  0.4612794612794613,\n",
       "  0.4597315436241611,\n",
       "  0.45819397993311034,\n",
       "  0.46,\n",
       "  0.4584717607973422,\n",
       "  0.45695364238410596,\n",
       "  0.45544554455445546,\n",
       "  0.45394736842105265,\n",
       "  0.4524590163934426,\n",
       "  0.4542483660130719,\n",
       "  0.4527687296416938,\n",
       "  0.4512987012987013,\n",
       "  0.44983818770226536,\n",
       "  0.45161290322580644,\n",
       "  0.45016077170418006,\n",
       "  0.44871794871794873,\n",
       "  0.4472843450479233,\n",
       "  0.44904458598726116,\n",
       "  0.44761904761904764,\n",
       "  0.44936708860759494,\n",
       "  0.45110410094637227,\n",
       "  0.449685534591195,\n",
       "  0.45141065830721006,\n",
       "  0.453125,\n",
       "  0.4517133956386293,\n",
       "  0.4503105590062112,\n",
       "  0.44891640866873067,\n",
       "  0.4506172839506173,\n",
       "  0.4492307692307692,\n",
       "  0.450920245398773,\n",
       "  0.4525993883792049,\n",
       "  0.45121951219512196,\n",
       "  0.44984802431610943,\n",
       "  0.45151515151515154,\n",
       "  0.4501510574018127,\n",
       "  0.45180722891566266,\n",
       "  0.45345345345345345,\n",
       "  0.4550898203592814,\n",
       "  0.45671641791044776,\n",
       "  0.45535714285714285,\n",
       "  0.4540059347181009,\n",
       "  0.4526627218934911,\n",
       "  0.45132743362831856,\n",
       "  0.45294117647058824,\n",
       "  0.45454545454545453,\n",
       "  0.45321637426900585,\n",
       "  0.4518950437317784,\n",
       "  0.45348837209302323,\n",
       "  0.45507246376811594,\n",
       "  0.45375722543352603,\n",
       "  0.45244956772334294,\n",
       "  0.4511494252873563,\n",
       "  0.45272206303724927,\n",
       "  0.4514285714285714,\n",
       "  0.452991452991453,\n",
       "  0.45170454545454547,\n",
       "  0.45325779036827196,\n",
       "  0.4548022598870056,\n",
       "  0.4563380281690141,\n",
       "  0.4550561797752809,\n",
       "  0.4565826330532213,\n",
       "  0.4581005586592179,\n",
       "  0.4596100278551532,\n",
       "  0.4583333333333333,\n",
       "  0.45706371191135736,\n",
       "  0.4585635359116022,\n",
       "  0.4573002754820937,\n",
       "  0.45879120879120877,\n",
       "  0.4575342465753425,\n",
       "  0.4562841530054645,\n",
       "  0.4550408719346049,\n",
       "  0.453804347826087,\n",
       "  0.45257452574525747,\n",
       "  0.4540540540540541,\n",
       "  0.4528301886792453,\n",
       "  0.45161290322580644,\n",
       "  0.45308310991957107,\n",
       "  0.45454545454545453,\n",
       "  0.4533333333333333,\n",
       "  0.4521276595744681,\n",
       "  0.4509283819628647,\n",
       "  0.4523809523809524,\n",
       "  0.45118733509234826,\n",
       "  0.45263157894736844,\n",
       "  0.4540682414698163,\n",
       "  0.45287958115183247,\n",
       "  0.4516971279373368,\n",
       "  0.4505208333333333,\n",
       "  0.44935064935064933,\n",
       "  0.4481865284974093,\n",
       "  0.4496124031007752,\n",
       "  0.45103092783505155,\n",
       "  0.4498714652956298,\n",
       "  0.4512820512820513,\n",
       "  0.45012787723785164,\n",
       "  0.4489795918367347,\n",
       "  0.44783715012722647,\n",
       "  0.44923857868020306,\n",
       "  0.4481012658227848,\n",
       "  0.44696969696969696,\n",
       "  0.44836272040302266,\n",
       "  0.4472361809045226,\n",
       "  0.44611528822055135,\n",
       "  0.445,\n",
       "  0.4463840399002494,\n",
       "  0.44776119402985076,\n",
       "  0.4491315136476427,\n",
       "  0.44801980198019803,\n",
       "  0.44938271604938274,\n",
       "  0.45073891625615764,\n",
       "  0.44963144963144963,\n",
       "  0.45098039215686275,\n",
       "  0.45232273838630804,\n",
       "  0.45365853658536587,\n",
       "  0.45255474452554745,\n",
       "  0.4538834951456311,\n",
       "  0.45278450363196127,\n",
       "  0.45169082125603865,\n",
       "  0.4506024096385542,\n",
       "  0.4519230769230769,\n",
       "  0.45323741007194246,\n",
       "  0.45454545454545453,\n",
       "  0.45584725536992843,\n",
       "  0.45476190476190476,\n",
       "  0.45605700712589076,\n",
       "  0.4549763033175355,\n",
       "  0.45390070921985815,\n",
       "  0.4528301886792453,\n",
       "  0.4541176470588235,\n",
       "  0.45539906103286387,\n",
       "  0.4566744730679157,\n",
       "  0.45560747663551404,\n",
       "  0.45454545454545453,\n",
       "  0.45348837209302323,\n",
       "  0.4547563805104408,\n",
       "  0.4537037037037037,\n",
       "  0.45265588914549654,\n",
       "  0.45161290322580644,\n",
       "  0.45057471264367815,\n",
       "  0.44954128440366975,\n",
       "  0.448512585812357,\n",
       "  0.4474885844748858,\n",
       "  0.44646924829157175,\n",
       "  0.44772727272727275,\n",
       "  0.4489795918367347,\n",
       "  0.4502262443438914,\n",
       "  0.4492099322799097,\n",
       "  0.45045045045045046,\n",
       "  0.451685393258427,\n",
       "  0.45067264573991034,\n",
       "  0.4519015659955257,\n",
       "  0.453125,\n",
       "  0.4521158129175947,\n",
       "  0.4533333333333333,\n",
       "  0.4523281596452328,\n",
       "  0.45353982300884954,\n",
       "  0.45253863134657835,\n",
       "  0.45154185022026433,\n",
       "  0.45274725274725275,\n",
       "  0.4517543859649123,\n",
       "  0.45295404814004375,\n",
       "  0.4519650655021834,\n",
       "  0.45098039215686275,\n",
       "  0.45,\n",
       "  0.4490238611713666,\n",
       "  0.44805194805194803,\n",
       "  0.4470842332613391,\n",
       "  0.4482758620689655,\n",
       "  0.44731182795698926,\n",
       "  0.44849785407725323,\n",
       "  0.44967880085653106,\n",
       "  0.45085470085470086,\n",
       "  0.4520255863539446,\n",
       "  0.4531914893617021,\n",
       "  0.4543524416135881,\n",
       "  0.4555084745762712,\n",
       "  0.45665961945031713,\n",
       "  0.45569620253164556,\n",
       "  0.4568421052631579,\n",
       "  0.45588235294117646,\n",
       "  0.4549266247379455,\n",
       "  0.4560669456066946,\n",
       "  0.4551148225469729,\n",
       "  0.45416666666666666,\n",
       "  0.4553014553014553,\n",
       "  0.45643153526970953,\n",
       "  0.4575569358178054,\n",
       "  0.45867768595041325,\n",
       "  0.45979381443298967,\n",
       "  0.4588477366255144,\n",
       "  0.45790554414784396,\n",
       "  0.45901639344262296,\n",
       "  0.4601226993865031,\n",
       "  0.45918367346938777,\n",
       "  0.45824847250509165,\n",
       "  0.4573170731707317,\n",
       "  0.45841784989858014,\n",
       "  0.4574898785425101,\n",
       "  0.45656565656565656,\n",
       "  0.4576612903225806,\n",
       "  0.4567404426559356,\n",
       "  0.4578313253012048,\n",
       "  0.45691382765531063,\n",
       "  0.456,\n",
       "  0.4550898203592814,\n",
       "  0.4541832669322709,\n",
       "  0.4532803180914513,\n",
       "  0.4523809523809524,\n",
       "  0.4534653465346535,\n",
       "  0.45454545454545453,\n",
       "  0.4556213017751479,\n",
       "  0.4547244094488189,\n",
       "  0.4538310412573674,\n",
       "  0.4549019607843137,\n",
       "  0.45596868884540115,\n",
       "  0.455078125,\n",
       "  0.45419103313840153,\n",
       "  0.45525291828793774,\n",
       "  0.45436893203883494,\n",
       "  0.45348837209302323,\n",
       "  0.4526112185686654,\n",
       "  0.4517374517374517,\n",
       "  0.4508670520231214,\n",
       "  0.45,\n",
       "  0.4491362763915547,\n",
       "  0.4501915708812261,\n",
       "  0.44933078393881454,\n",
       "  0.4484732824427481,\n",
       "  0.44761904761904764,\n",
       "  0.4467680608365019,\n",
       "  0.4478178368121442,\n",
       "  0.44886363636363635,\n",
       "  0.4499054820415879,\n",
       "  0.4509433962264151,\n",
       "  0.4519774011299435,\n",
       "  0.45300751879699247,\n",
       "  0.4540337711069418,\n",
       "  0.4550561797752809,\n",
       "  0.4542056074766355,\n",
       "  0.4533582089552239,\n",
       "  0.45251396648044695,\n",
       "  0.45353159851301117,\n",
       "  0.45454545454545453,\n",
       "  0.45555555555555555,\n",
       "  0.45471349353049906,\n",
       "  0.45571955719557194,\n",
       "  0.4548802946593002,\n",
       "  0.4540441176470588,\n",
       "  0.45321100917431195,\n",
       "  0.4542124542124542,\n",
       "  0.45521023765996343,\n",
       "  0.4562043795620438,\n",
       "  0.45719489981785066,\n",
       "  0.45636363636363636,\n",
       "  0.4573502722323049,\n",
       "  0.4583333333333333,\n",
       "  0.4593128390596745,\n",
       "  0.4584837545126354,\n",
       "  0.4594594594594595,\n",
       "  0.460431654676259,\n",
       "  0.45960502692998206,\n",
       "  0.460573476702509,\n",
       "  0.4597495527728086,\n",
       "  0.4589285714285714,\n",
       "  0.45811051693404636,\n",
       "  0.45729537366548045,\n",
       "  0.4564831261101243,\n",
       "  0.4574468085106383,\n",
       "  0.45663716814159294,\n",
       "  0.4575971731448763,\n",
       "  0.4567901234567901,\n",
       "  0.45774647887323944,\n",
       "  0.45694200351493847,\n",
       "  0.45614035087719296,\n",
       "  0.45709281961471104,\n",
       "  0.4562937062937063,\n",
       "  0.45549738219895286,\n",
       "  0.4564459930313589,\n",
       "  0.45565217391304347,\n",
       "  0.4548611111111111,\n",
       "  0.4540727902946274,\n",
       "  0.4532871972318339,\n",
       "  0.4542314335060449,\n",
       "  0.453448275862069,\n",
       "  0.45438898450946646,\n",
       "  0.45532646048109965,\n",
       "  0.4562607204116638,\n",
       "  0.4571917808219178,\n",
       "  0.4564102564102564,\n",
       "  0.45563139931740615,\n",
       "  0.454855195911414,\n",
       "  0.4557823129251701,\n",
       "  0.45500848896434637,\n",
       "  0.4542372881355932,\n",
       "  0.45346869712351945,\n",
       "  0.4543918918918919,\n",
       "  0.45531197301854975,\n",
       "  0.45454545454545453,\n",
       "  0.45546218487394957,\n",
       "  0.4563758389261745,\n",
       "  0.4556113902847571,\n",
       "  0.45652173913043476,\n",
       "  0.4574290484140234,\n",
       "  0.4583333333333333,\n",
       "  0.45923460898502494,\n",
       "  0.4584717607973422,\n",
       "  0.4593698175787728,\n",
       "  0.4602649006622517,\n",
       "  0.45950413223140496,\n",
       "  0.4603960396039604,\n",
       "  0.4612850082372323,\n",
       "  0.4605263157894737,\n",
       "  0.4614121510673235,\n",
       "  0.460655737704918,\n",
       "  0.45990180032733224,\n",
       "  0.4591503267973856,\n",
       "  0.45840130505709625,\n",
       "  0.4592833876221498,\n",
       "  0.46016260162601624,\n",
       "  0.461038961038961,\n",
       "  0.4619124797406807,\n",
       "  0.4627831715210356,\n",
       "  0.46365105008077545,\n",
       "  0.4629032258064516,\n",
       "  0.46215780998389694,\n",
       "  0.46141479099678456,\n",
       "  0.4606741573033708,\n",
       "  0.4599358974358974,\n",
       "  0.4592,\n",
       "  0.46006389776357826,\n",
       "  0.4609250398724083,\n",
       "  0.4601910828025478,\n",
       "  0.4594594594594595,\n",
       "  0.4587301587301587,\n",
       "  0.4595879556259905,\n",
       "  0.46044303797468356,\n",
       "  0.4597156398104265,\n",
       "  0.4589905362776025,\n",
       "  0.4582677165354331,\n",
       "  0.4591194968553459,\n",
       "  0.4599686028257457,\n",
       "  0.4592476489028213,\n",
       "  0.460093896713615,\n",
       "  0.4609375,\n",
       "  0.46177847113884557,\n",
       "  0.46105919003115264,\n",
       "  0.4618973561430793,\n",
       "  0.4611801242236025,\n",
       "  0.462015503875969,\n",
       "  0.4613003095975232,\n",
       "  0.46213292117465227,\n",
       "  0.46141975308641975,\n",
       "  0.46070878274268107,\n",
       "  0.46153846153846156,\n",
       "  0.4608294930875576,\n",
       "  0.4616564417177914,\n",
       "  0.46248085758039814,\n",
       "  0.4617737003058104,\n",
       "  0.46259541984732827,\n",
       "  0.4634146341463415,\n",
       "  0.4627092846270928,\n",
       "  0.46200607902735563,\n",
       "  0.4613050075872534,\n",
       "  0.46060606060606063,\n",
       "  0.46142208774583965,\n",
       "  0.4607250755287009,\n",
       "  0.46153846153846156,\n",
       "  0.4623493975903614,\n",
       "  0.4616541353383459,\n",
       "  0.46096096096096095,\n",
       "  0.4617691154422789,\n",
       "  0.4625748502994012,\n",
       "  0.4633781763826607,\n",
       "  0.4626865671641791,\n",
       "  0.46348733233979134,\n",
       "  0.46279761904761907,\n",
       "  0.462109955423477,\n",
       "  0.46142433234421365,\n",
       "  0.46074074074074073,\n",
       "  0.46005917159763315,\n",
       "  0.45937961595273263,\n",
       "  0.45870206489675514,\n",
       "  0.45949926362297494,\n",
       "  0.4602941176470588,\n",
       "  0.45961820851688695,\n",
       "  0.4604105571847507,\n",
       "  0.45973645680819913,\n",
       "  0.4590643274853801,\n",
       "  0.4583941605839416,\n",
       "  0.45918367346938777,\n",
       "  0.45997088791848617,\n",
       "  0.46075581395348836,\n",
       "  0.46008708272859217,\n",
       "  0.45942028985507244,\n",
       "  0.45875542691751087,\n",
       "  0.4595375722543353,\n",
       "  0.4603174603174603,\n",
       "  0.4596541786743516,\n",
       "  0.4589928057553957,\n",
       "  0.4583333333333333,\n",
       "  0.45911047345767575,\n",
       "  0.4584527220630373,\n",
       "  0.4592274678111588,\n",
       "  0.4585714285714286,\n",
       "  0.4593437945791726,\n",
       "  0.4586894586894587,\n",
       "  0.4594594594594595,\n",
       "  0.4588068181818182,\n",
       "  0.4581560283687943,\n",
       "  0.45750708215297453,\n",
       "  0.45685997171145687,\n",
       "  0.4562146892655367,\n",
       "  0.45557122708039494,\n",
       "  0.4563380281690141,\n",
       "  0.45569620253164556,\n",
       "  0.45646067415730335,\n",
       "  0.45722300140252453,\n",
       "  0.4579831932773109,\n",
       "  0.45874125874125876,\n",
       "  0.4594972067039106,\n",
       "  0.45885634588563456,\n",
       "  0.4582172701949861,\n",
       "  0.4575799721835883,\n",
       "  0.45694444444444443,\n",
       "  0.4563106796116505,\n",
       "  0.45706371191135736,\n",
       "  0.45643153526970953,\n",
       "  0.4558011049723757,\n",
       "  0.45517241379310347,\n",
       "  0.45454545454545453,\n",
       "  0.45392022008253097,\n",
       "  0.4532967032967033,\n",
       "  0.45267489711934156,\n",
       "  0.4534246575342466,\n",
       "  0.4528043775649795,\n",
       "  0.453551912568306,\n",
       "  0.4542974079126876,\n",
       "  0.4550408719346049,\n",
       "  0.454421768707483,\n",
       "  0.45516304347826086,\n",
       "  0.45454545454545453,\n",
       "  0.45528455284552843,\n",
       "  0.4546684709066306,\n",
       "  0.4554054054054054,\n",
       "  0.45614035087719296,\n",
       "  0.4568733153638814,\n",
       "  0.4576043068640646,\n",
       "  0.4583333333333333,\n",
       "  0.4577181208053691,\n",
       "  0.4571045576407507,\n",
       "  0.4564926372155288,\n",
       "  0.4572192513368984,\n",
       "  0.45794392523364486,\n",
       "  0.45866666666666667,\n",
       "  0.4580559254327563,\n",
       "  0.4587765957446808,\n",
       "  0.4581673306772908,\n",
       "  0.4588859416445623,\n",
       "  0.45827814569536424,\n",
       "  0.4576719576719577,\n",
       "  0.4583883751651255,\n",
       "  0.45910290237467016,\n",
       "  0.4598155467720685,\n",
       "  0.45921052631578946,\n",
       "  0.45992115637319314,\n",
       "  0.45931758530183725,\n",
       "  0.45871559633027525,\n",
       "  0.4581151832460733,\n",
       "  0.4588235294117647,\n",
       "  0.45822454308093996,\n",
       "  0.4576271186440678,\n",
       "  0.4583333333333333,\n",
       "  0.459037711313394,\n",
       "  0.4597402597402597,\n",
       "  0.4591439688715953,\n",
       "  0.45984455958549225,\n",
       "  0.46054333764553684,\n",
       "  0.46124031007751937,\n",
       "  0.4619354838709677,\n",
       "  0.46134020618556704,\n",
       "  0.46074646074646075,\n",
       "  0.461439588688946,\n",
       "  0.4621309370988447,\n",
       "  0.46282051282051284,\n",
       "  0.46350832266325226,\n",
       "  0.4629156010230179,\n",
       "  0.4623243933588761,\n",
       "  0.461734693877551,\n",
       "  0.4624203821656051,\n",
       "  0.4631043256997455,\n",
       "  0.4625158831003812,\n",
       "  0.4619289340101523,\n",
       "  0.46261089987325726,\n",
       "  0.4620253164556962,\n",
       "  0.46270543615676357,\n",
       "  0.4633838383838384,\n",
       "  0.4640605296343001,\n",
       "  0.464735516372796,\n",
       "  0.4641509433962264,\n",
       "  0.4635678391959799,\n",
       "  0.4629861982434128,\n",
       "  0.46365914786967416,\n",
       "  0.46307884856070086,\n",
       "  0.46375,\n",
       "  0.4631710362047441,\n",
       "  0.46384039900249374,\n",
       "  0.46450809464508097,\n",
       "  0.4651741293532338,\n",
       "  0.4658385093167702,\n",
       "  0.4665012406947891,\n",
       "  0.46592317224287483,\n",
       "  0.46534653465346537,\n",
       "  0.46600741656365885,\n",
       "  0.4666666666666667,\n",
       "  0.46732429099876693,\n",
       "  0.4667487684729064,\n",
       "  0.46740467404674046,\n",
       "  0.4680589680589681,\n",
       "  0.4687116564417178,\n",
       "  0.4681372549019608,\n",
       "  0.4675642594859241,\n",
       "  0.4669926650366748,\n",
       "  0.46764346764346765,\n",
       "  0.46707317073170734,\n",
       "  0.46650426309378806,\n",
       "  0.4659367396593674,\n",
       "  0.4665856622114216,\n",
       "  0.46601941747572817,\n",
       "  0.46545454545454545,\n",
       "  0.4648910411622276,\n",
       "  0.4655380894800484,\n",
       "  0.46497584541062803,\n",
       "  0.4644149577804584,\n",
       "  0.463855421686747,\n",
       "  0.4645006016847172,\n",
       "  0.4639423076923077,\n",
       "  0.46338535414165666,\n",
       "  0.4628297362110312,\n",
       "  0.4622754491017964,\n",
       "  0.46172248803827753,\n",
       "  0.46117084826762245,\n",
       "  0.4618138424821002,\n",
       "  0.4612634088200238,\n",
       "  0.4607142857142857,\n",
       "  0.46135552913198574,\n",
       "  0.46080760095011875,\n",
       "  0.46144721233689207,\n",
       "  0.46208530805687204,\n",
       "  0.46153846153846156,\n",
       "  0.46217494089834515,\n",
       "  0.4628099173553719,\n",
       "  0.4634433962264151,\n",
       "  0.4628975265017668,\n",
       "  0.46352941176470586,\n",
       "  0.46298472385428907,\n",
       "  0.4624413145539906,\n",
       "  0.4630715123094959,\n",
       "  0.4637002341920375,\n",
       "  0.4631578947368421,\n",
       "  0.46261682242990654,\n",
       "  0.4632438739789965,\n",
       "  0.46386946386946387,\n",
       "  0.46449359720605354,\n",
       "  0.46395348837209305,\n",
       "  0.4645760743321719,\n",
       "  0.4651972157772622,\n",
       "  0.4646581691772885,\n",
       "  0.46412037037037035,\n",
       "  0.4635838150289017,\n",
       "  0.4630484988452656,\n",
       "  0.46251441753171857,\n",
       "  0.4619815668202765,\n",
       "  0.4626006904487917,\n",
       "  0.46206896551724136,\n",
       "  0.4626865671641791,\n",
       "  0.46215596330275227,\n",
       "  0.4616265750286369,\n",
       "  0.4610983981693364,\n",
       "  0.4605714285714286,\n",
       "  0.4611872146118721,\n",
       "  0.4606613454960091,\n",
       "  0.4601366742596811,\n",
       "  0.459613196814562,\n",
       "  0.4602272727272727,\n",
       "  0.45970488081725314,\n",
       "  0.45918367346938777,\n",
       "  0.45866364665911663,\n",
       "  0.4592760180995475,\n",
       "  0.4598870056497175,\n",
       "  0.45936794582392776,\n",
       "  0.4599774520856821,\n",
       "  0.4594594594594595,\n",
       "  0.45894263217097864,\n",
       "  0.4584269662921348,\n",
       "  0.4590347923681257,\n",
       "  0.4585201793721973,\n",
       "  0.458006718924972,\n",
       "  0.45861297539149887,\n",
       "  0.4581005586592179,\n",
       "  0.45870535714285715,\n",
       "  0.45819397993311034,\n",
       "  0.4576837416481069,\n",
       "  0.457174638487208,\n",
       "  0.45666666666666667,\n",
       "  0.45615982241953384,\n",
       "  0.4567627494456763,\n",
       "  0.45625692137320045,\n",
       "  0.45685840707964603,\n",
       "  0.456353591160221,\n",
       "  0.45695364238410596,\n",
       "  0.45755237045203967,\n",
       "  0.4581497797356828,\n",
       "  0.45874587458745875,\n",
       "  0.4593406593406593,\n",
       "  0.4588364434687157,\n",
       "  0.4583333333333333,\n",
       "  0.4589266155531216,\n",
       "  0.45842450765864334,\n",
       "  0.45792349726775955,\n",
       "  0.4574235807860262,\n",
       "  0.4569247546346783,\n",
       "  0.4564270152505447,\n",
       "  0.455930359085963,\n",
       "  0.45543478260869563,\n",
       "  0.4560260586319218,\n",
       "  0.455531453362256,\n",
       "  0.4550379198266522,\n",
       "  0.4556277056277056,\n",
       "  0.45513513513513515,\n",
       "  0.4557235421166307,\n",
       "  0.4552319309600863,\n",
       "  0.4558189655172414,\n",
       "  0.4564047362755651,\n",
       "  0.45698924731182794,\n",
       "  0.45757250268528465,\n",
       "  0.4570815450643777,\n",
       "  0.4565916398713826,\n",
       "  0.45610278372591007,\n",
       "  0.4556149732620321,\n",
       "  0.4551282051282051,\n",
       "  0.45570971184631803,\n",
       "  0.4552238805970149,\n",
       "  0.4547390841320554,\n",
       "  0.4553191489361702,\n",
       "  0.45589798087141337,\n",
       "  0.4554140127388535,\n",
       "  0.45493107104984093,\n",
       "  0.4544491525423729,\n",
       "  0.45396825396825397,\n",
       "  0.45348837209302323,\n",
       "  0.45406546990496305,\n",
       "  0.45464135021097046,\n",
       "  0.4541622760800843,\n",
       "  0.45473684210526316,\n",
       "  0.45425867507886436,\n",
       "  0.45483193277310924,\n",
       "  0.45540398740818466,\n",
       "  0.4549266247379455,\n",
       "  0.4544502617801047,\n",
       "  0.45397489539748953,\n",
       "  0.4535005224660397,\n",
       "  0.45407098121085593,\n",
       "  0.45359749739311783,\n",
       "  0.45416666666666666,\n",
       "  0.45369406867845996,\n",
       "  0.45426195426195426,\n",
       "  0.4537902388369678,\n",
       "  0.4533195020746888,\n",
       "  0.45284974093264246,\n",
       "  0.4523809523809524,\n",
       "  0.45191313340227507,\n",
       "  0.4524793388429752,\n",
       "  0.4520123839009288,\n",
       "  0.4515463917525773,\n",
       "  0.451081359423275,\n",
       "  0.45164609053497945,\n",
       "  0.4522096608427544,\n",
       "  0.4527720739219713,\n",
       "  0.4523076923076923,\n",
       "  0.45184426229508196,\n",
       "  0.45138178096212894,\n",
       "  0.450920245398773,\n",
       "  0.45045965270684374,\n",
       "  0.45,\n",
       "  0.44954128440366975,\n",
       "  0.44908350305498984,\n",
       "  0.4486266531027467,\n",
       "  0.4481707317073171,\n",
       "  0.44873096446700506,\n",
       "  0.4482758620689655,\n",
       "  0.44782168186423504,\n",
       "  0.4483805668016194,\n",
       "  0.44792719919110213,\n",
       "  0.4484848484848485,\n",
       "  0.44803229061553984,\n",
       "  0.4475806451612903,\n",
       "  0.44813695871097686,\n",
       "  0.448692152917505,\n",
       "  0.4492462311557789,\n",
       "  0.44879518072289154,\n",
       "  0.4493480441323972,\n",
       "  0.4498997995991984,\n",
       "  0.45045045045045046,\n",
       "  0.451,\n",
       "  ...])"
      ]
     },
     "execution_count": 368,
     "metadata": {},
     "output_type": "execute_result"
    }
   ],
   "source": [
    "def sim(n):\n",
    "    count = 0\n",
    "    z = []\n",
    "    for i in range(n):\n",
    "        r1 = np.random.randint(1,7)\n",
    "        r2 = np.random.randint(1,7)\n",
    "        if((r1 == r2) or (r1 - r2) == 1 or (r2 - r1) == 1):\n",
    "           count += 1\n",
    "        z.append(count/(i+1))\n",
    "    result = count/n\n",
    "    return result,z\n",
    "\n",
    "sim(10000)\n",
    "#Your code above this line"
   ]
  },
  {
   "cell_type": "markdown",
   "id": "051be3a3",
   "metadata": {
    "deletable": false,
    "editable": false
   },
   "source": [
    "<!-- END QUESTION -->\n",
    "\n",
    "<!-- BEGIN QUESTION -->\n",
    "\n",
    "##### **Part 6C (3 pts)**:  \n",
    "In class we plotted a running estimate of the probability of an event as a function of the number of trials in our simulation.  Write code to run 5 independent simulations of 50,000 trials each to estimate $P(C)$ and plot their running estimate curves on the same set of axes. **Hint**: This is a lot of computation, so try to leverage Numpy as much as possible so that your code doesn't run forever. \n",
    "\n",
    "**Include a red horizontal line on your plot with the theoretical probability that you calculated in part 6A.**  Be sure to include a title on your plot and be sure to label both your axes on the plot."
   ]
  },
  {
   "cell_type": "code",
   "execution_count": 366,
   "id": "f9032ffe",
   "metadata": {
    "tags": []
   },
   "outputs": [
    {
     "data": {
      "text/plain": [
       "Text(0, 0.5, 'Probability of Close Rolls and Equal')"
      ]
     },
     "execution_count": 366,
     "metadata": {},
     "output_type": "execute_result"
    },
    {
     "data": {
      "image/png": "iVBORw0KGgoAAAANSUhEUgAAA+kAAAIjCAYAAAB/OVoZAAAAOXRFWHRTb2Z0d2FyZQBNYXRwbG90bGliIHZlcnNpb24zLjcuMSwgaHR0cHM6Ly9tYXRwbG90bGliLm9yZy/bCgiHAAAACXBIWXMAAA9hAAAPYQGoP6dpAACDJUlEQVR4nOzdd3wUdf7H8ffM1vSEQBIpAoIKCoqCRlDEgmI5OMuphw17QcSD86diQz0V+2H39Cx3lhPbqXcWTlCwYQdEUKSKgtRAerbN9/fHJgtLAmQxyS7k9Xw88mD3O9+Z+UzZZT77ne93LGOMEQAAAAAASDo72QEAAAAAAIAoknQAAAAAAFIESToAAAAAACmCJB0AAAAAgBRBkg4AAAAAQIogSQcAAAAAIEWQpAMAAAAAkCJI0gEAAAAASBEk6QAAAAAApAiSdABIki5duuicc85JyrpvuukmWZbVpMucNm2aLMvStGnTmnS5TaWiokIXXHCBioqKZFmW/vSnPyUlDsuydNNNN8XeP/PMM7IsS0uXLk1KPNuroXOosed0qhyLVNIcn8mm0NjjvGDBAh199NHKycmRZVl6/fXXJUlffvmlBgwYoIyMDFmWpVmzZrVM4Cmobl+uXbs22aEASHEk6QBaVF0i19DfZ599Vq/+p59+qkMOOUTp6ekqKirS6NGjVVFRUa9eIBDQ1Vdfrfbt2ystLU3FxcV67733GoyhOZbZmjzyyCN65plnkh1Gwm6//XY988wzuvTSS/Xss8/qrLPOSnZIrRbHYuczYsQIzZkzR7fddpueffZZ9evXT6FQSKeccopKSkr017/+Vc8++6w6d+6c7FB3el988YVGjhypvn37yuPxpOSPPwC2zp3sAAC0TqNHj9YBBxwQV9a9e/e497NmzdKRRx6pnj176r777tMvv/yie+65RwsWLNA777wTV/ecc87RK6+8oj/96U/afffd9cwzz+i4447TBx98oEMOOaRZl7m95s+fL9ve8X4rfeSRR9S2bdt6LWmHHnqoqqur5fV6kxPYNrz//vs66KCDNH78+GSHEuess87SH//4R/l8vmSH0mJS9VigcTb/7qqurtaMGTN03XXXadSoUbHyH374QT/99JOeeOIJXXDBBckItVV6++239fe//1377LOPdtttN/3444/JDglAgkjSASTFwIED9Yc//GGrda699lrl5eVp2rRpys7OlhS9zfLCCy/U//73Px199NGSoq0GL774ou6++25deeWVkqSzzz5bvXr10lVXXaVPP/20WZe5vXa2pMy2bfn9/mSHsUWrV6/WXnvt1WTLC4fDchznN/8o4XK55HK5miiq7VdTUyOv19siPxyl6rHY2VVWViojI+M3L2fz7641a9ZIknJzc+PKV69e3WD5b9FU27Azu/TSS3X11VcrLS1No0aNIkkHdkA7XhMOgJ1GeXm5wuFwg9PKysr03nvv6cwzz4wl01I0Uc7MzNRLL70UK3vllVfkcrl00UUXxcr8fr/OP/98zZgxQz///HOzLXNLFixYoJNPPllFRUXy+/3q2LGj/vjHP6q0tDRWZ/N+nXV9kz/++GONHj1a7dq1U25uri6++GIFg0Ft2LBBZ599tvLy8pSXl6errrpKxpjY/FvqE7506VJZlrXNW9SffvppHXHEESooKJDP59Nee+2lRx99NK5Oly5dNHfuXE2fPj3WTeGwww7b6vpffvll9e3bV2lpaWrbtq3OPPNMLV++PK7OOeeco8zMTC1fvlwnnHCCMjMz1a5dO1155ZWKRCJxdV988UX17dtXWVlZys7OVu/evXX//fdvcbvq4lqyZIneeuutWNx1fcBXr16t888/X4WFhfL7/dp33331j3/8o8F9eM8992jixInq1q2bfD6f5s2bt8X1BgIBjRkzRu3atVNWVpaGDRumX375pV69LfVJf+eddzRo0KDYdh5wwAF64YUX4up8/vnnOuaYY5STk6P09HQNGjRIn3zyyRZj2nyfvPjii7r++uvVoUMHpaenq6ysTFLjjtn2SNaxkKTnnnsutk1t2rTRH//4xwY/x48//ri6deumtLQ0HXjggfroo4902GGHxc5zacvHrKHPwEcffaRTTjlFu+66q3w+nzp16qQxY8aouro6oX23qUQ+U4sWLdJxxx2nrKwsnXHGGVtd7scff6wDDjhAfr9f3bp109/+9rcG62363XXTTTfFbmH/v//7P1mWFZs+aNAgSdIpp5wS910hRVvZ//CHP6hNmzby+/3q16+f3nzzzbj11O3n6dOna+TIkSooKFDHjh1j09955x0NHDhQGRkZysrK0vHHH6+5c+c2uB8a893iOI7uv/9+9e7dW36/X+3atdMxxxyjr776Kq5eY8+lLVm7dq1OPfVUZWdnKz8/X1dccYVqampi0wcNGqR99923wXn33HNPDRkyZKvLLywsVFpaWqPjAZB6aEkHkBTnnnuuKioq5HK5NHDgQN19993q169fbPqcOXMUDofjyiTJ6/WqT58+mjlzZqxs5syZ2mOPPeISb0k68MADJUVvce/UqVOzLLMhwWBQQ4YMUSAQ0OWXX66ioiItX75c//3vf7Vhwwbl5ORsdd/UzXPzzTfrs88+0+OPP67c3Fx9+umn2nXXXXX77bfr7bff1t13361evXrp7LPP3uryGuvRRx/V3nvvrWHDhsntdus///mPRo4cKcdxdNlll0mSJk6cqMsvv1yZmZm67rrrJEUvCLfkmWee0bnnnqsDDjhAEyZM0KpVq3T//ffrk08+0cyZM+Na2CKRiIYMGaLi4mLdc889mjJliu69915169ZNl156qSTpvffe0/Dhw3XkkUfqzjvvlCR9//33+uSTT3TFFVc0GEPPnj317LPPasyYMerYsaP+/Oc/S5LatWun6upqHXbYYVq4cKFGjRqlrl276uWXX9Y555yjDRs21Fvm008/rZqaGl100UXy+Xxq06bNFrf9ggsu0HPPPafTTz9dAwYM0Pvvv6/jjz9+G0dh434777zztPfee2vcuHHKzc3VzJkz9e677+r000+XFL1l/Nhjj1Xfvn01fvx42bYd+6Hlo48+ip2rW/OXv/xFXq9XV155pQKBgLxeb0LHLFHJOha33XabbrjhBp166qm64IILtGbNGj344IM69NBD47bpySef1MUXX6wBAwboT3/6kxYvXqxhw4apTZs2W/y8b8vLL7+sqqoqXXrppcrPz9cXX3yhBx98UL/88otefvnlhJeXyPEJh8MaMmSIDjnkEN1zzz1KT0/f4nLnzJmjo48+Wu3atdNNN92kcDis8ePHb/XzLUknnXSScnNzNWbMGA0fPlzHHXecMjMzVVhYqA4dOuj222+PdW+qW9bcuXN18MEHq0OHDrrmmmuUkZGhl156SSeccIJeffVVnXjiiXHrGDlypNq1a6cbb7xRlZWVkqRnn31WI0aM0JAhQ3TnnXeqqqpKjz76qA455BDNnDlTXbp0ic3fmO8WSTr//PP1zDPP6Nhjj9UFF1ygcDisjz76SJ999lns/43Gnktbc+qpp6pLly6aMGGCPvvsMz3wwANav369/vnPf0qKdoG58MIL9d1336lXr16x+b788kv9+OOPuv7667e5DgA7OAMALeiTTz4xJ598snnyySfNG2+8YSZMmGDy8/ON3+8333zzTazeyy+/bCSZDz/8sN4yTjnlFFNUVBR7v/fee5sjjjiiXr25c+caSeaxxx5rtmU2ZObMmUaSefnll7dYxxhjOnfubEaMGBF7//TTTxtJZsiQIcZxnFh5//79jWVZ5pJLLomVhcNh07FjRzNo0KBY2QcffGAkmQ8++CBuPUuWLDGSzNNPPx0rGz9+vNn8v4Cqqqp6MQ4ZMsTstttucWV777133Hq3tP5gMGgKCgpMr169THV1dazef//7XyPJ3HjjjbGyESNGGEnmlltuiVvmfvvtZ/r27Rt7f8UVV5js7GwTDofrrX9bOnfubI4//vi4sokTJxpJ5rnnnouVBYNB079/f5OZmWnKysqMMRv3YXZ2tlm9evU21zVr1iwjyYwcOTKu/PTTTzeSzPjx42Nldcd9yZIlxhhjNmzYYLKyskxxcXHcfjPGxM4Lx3HM7rvvXu9cqaqqMl27djVHHXXUVuOrO1a77bZb3HFP5Jg1dA5tfk5vSUsei6VLlxqXy2Vuu+22uPI5c+YYt9sdK6/b9j59+phAIBCr9/jjjxtJcef85sesTkOfwYY+VxMmTDCWZZmffvopVtbQ/tzc9nymrrnmmq0us84JJ5xg/H5/XEzz5s0zLpdrm8e57pjcfffdcfXq9sfm34VHHnmk6d27t6mpqYmVOY5jBgwYYHbfffdYWd1+PuSQQ+I+8+Xl5SY3N9dceOGFcctduXKlycnJiStv7HfL+++/bySZ0aNH19s3dZ+xxp5LW1J3jIcNGxZXPnLkSCPJzJ492xgT/Q7w+/3m6quvjqs3evRok5GRYSoqKra6nk1ddtll2zyvAKQebncH0KIGDBigV155Reedd56GDRuma665Rp999pksy9K4ceNi9epuBW2o37bf74+7VbS6unqL9TZdVnMssyF1LeWTJ09WVVXVFuttyfnnnx83Gm9xcbGMMTr//PNjZS6XS/369dPixYsTXv6WbHp7ZGlpqdauXatBgwZp8eLFcbfpN9ZXX32l1atXa+TIkXF91Y8//nj16NFDb731Vr15Lrnkkrj3AwcOjNvG3NxcVVZWNtko+2+//baKioo0fPjwWJnH44mN+D99+vS4+ieffLLatWvXqOVK0QESN9WYR4299957Ki8v1zXXXFOvj3/deTFr1iwtWLBAp59+utatW6e1a9dq7dq1qqys1JFHHqkPP/xQjuNsc10jRoyIO+7bc8yaSnMdi9dee02O4+jUU0+N7ae1a9eqqKhIu+++uz744ANJG7f9kksuievbfs4552zz7pet2XT/VlZWau3atRowYICMMXF37zTG9hyfTVuKtyQSiWjy5Mk64YQTtOuuu8bKe/bsuc1bqxNVUlKi999/X6eeeqrKy8tjx2PdunUaMmSIFixYUO/W/QsvvDBu3Ib33ntPGzZs0PDhw+OOqcvlUnFxceyYbmpb3y2vvvqqLMtqcDDDus9dY8+lbam7M6nO5ZdfLmnj90ZOTo5+//vf61//+lesS1MkEtGkSZN0wgkn0CcfaAW43R1A0nXv3l2///3v9dprrykSicjlcsUubAOBQL36NTU1cRe+aWlpW6xXN33Tf5tymQ3p2rWrxo4dq/vuu0/PP/+8Bg4cqGHDhunMM89s1MX+phfJ0sakf/PbbXNycrR+/fptLq+xPvnkE40fP14zZsyo9+NCaWlpwonKTz/9JCnah3JzPXr00McffxxXVtcHdFN5eXlx2zhy5Ei99NJLOvbYY9WhQwcdffTROvXUU3XMMcckFNumMe6+++71Bkvr2bNn3DbU6dq1a6OXa9u2unXrFlfe0L7Y3KJFiyQp7jbXzS1YsEBSNMnektLSUuXl5W11XZtvT6LHrCk117FYsGCBjDHafffdG5zu8Xjilr95PY/Ho912261R62rIsmXLdOONN+rNN9+s93lN9MevRI+P2+2O68O9JWvWrFF1dXWD+2jPPfeMJY9NYeHChTLG6IYbbtANN9zQYJ3Vq1erQ4cOsfebH+u68/+II45ocP7Nuyk15rtl0aJFat++/Va7TTT2XNqWzefv1q2bbNuOG+Pg7LPP1qRJk/TRRx/p0EMP1ZQpU7Rq1SoeVwi0EiTpAFJCp06dFAwGVVlZqezsbO2yyy6SpF9//bVe3V9//VXt27ePvd9ll10aHNSqbt66us2xzC259957dc455+iNN97Q//73P40ePTrW/3BbF81bGum7oXKzycBxW3oW7uaDIzVk0aJFOvLII9WjRw/dd9996tSpk7xer95++2399a9/bVSr7G/VmBHOCwoKNGvWLE2ePFnvvPOO3nnnHT399NM6++yz6w0w1hxSZTCmuuNx9913q0+fPg3WyczM3OZyUmV7tkdjY3ccR5Zl6Z133mnwHGvMftpcYz9rkUhERx11lEpKSnT11VerR48eysjI0PLly3XOOec0++fK5/Ol3GMe67b5yiuv3GIr/eaP49z8WNct49lnn1VRUVG9+d3u+Mvbpnp6QnOcS1LD59OQIUNUWFio5557Toceeqiee+45FRUVafDgwdu1DgA7FpJ0AClh8eLF8vv9sYucXr16ye1266uvvtKpp54aqxcMBjVr1qy4sj59+uiDDz5QWVlZXAvK559/HpveXMvcmt69e6t37966/vrr9emnn+rggw/WY489pltvvTWBPdN4da2mGzZsiCvfvAWyIf/5z38UCAT05ptvxrXkN3T75pYSlM3Vjfg8f/78ei1e8+fPj01PlNfr1dChQzV06FA5jqORI0fqb3/7m2644YZ6F/eNifHbb7+V4zhxycwPP/wQtw2J6ty5sxzH0aJFi+JaPefPn7/Neeta37/77rstbk9dnezs7Ca9aG+uY9bYdTfHsejWrZuMMeratav22GOPra5firaWbrrtoVBIS5YsiRttu7GftTlz5ujHH3/UP/7xj7gBHre3u0ZzHZ927dopLS0t1kK9+XKbUt1dCR6PZ7vP3brzv6CgoMnO/27dumny5MkqKSnZYmt6Y8+lbVmwYEHc3QELFy6U4zhxg925XC6dfvrpeuaZZ3TnnXfq9ddfr3fbP4CdV2r9vApgp1f3PN1NzZ49W2+++aaOPvro2MV5Tk6OBg8erOeee07l5eWxus8++6wqKip0yimnxMr+8Ic/KBKJ6PHHH4+VBQIBPf300youLo7dJt4cy2xIWVlZvUfL9e7dW7ZtN3gLfVPp3LmzXC6XPvzww7jyRx55ZJvz1l34bdoyX1paqqeffrpe3YyMjHrJSUP69eungoICPfbYY3Hb/c477+j7779v9Ejnm1q3bl3ce9u2tc8++0hquBvDthx33HFauXKlJk2aFCsLh8N68MEHlZmZGXuEVKKOPfZYSdIDDzwQVz5x4sRtznv00UcrKytLEyZMiHssk7Tx+PTt21fdunXTPffco4qKinrLaOhz1hjNccwaq7mOxUknnSSXy6Wbb7457vyWovuz7pzq16+f2rVrp8cee0zBYDBW55lnnql3vtcliZt+1jb/vpAa/lwZY7b6yMCtaa7j43K5NGTIEL3++utatmxZrPz777/X5MmTt2uZW1JQUKDDDjtMf/vb3xq8q6kx5+6QIUOUnZ2t22+/XaFQaLuWsbmTTz5ZxhjdfPPN9abVHb/Gnkvb8vDDD8e9f/DBByVt/N6oc9ZZZ2n9+vW6+OKLVVFRoTPPPLPR2wNgx0ZLOoAWddpppyktLU0DBgxQQUGB5s2bp8cff1zp6em644474uredtttGjBggAYNGqSLLrpIv/zyi+69914dffTRcX2Qi4uLdcopp2jcuHFavXq1unfvrn/84x9aunSpnnzyyWZf5ubef/99jRo1Sqeccor22GMPhcNhPfvss3K5XDr55JObYC82LCcnR6eccooefPBBWZalbt266b///a9Wr169zXmPPvroWAt13QXhE088oYKCgnoX0n379tWjjz6qW2+9Vd27d1dBQUGDfUM9Ho/uvPNOnXvuuRo0aJCGDx8ee1xUly5dNGbMmIS38YILLlBJSYmOOOIIdezYUT/99JMefPBB9enTJ9Z3OREXXXSR/va3v+mcc87R119/rS5duuiVV17RJ598ookTJyorKyvhZUrROy2GDx+uRx55RKWlpRowYICmTp2qhQsXbnPe7Oxs/fWvf9UFF1ygAw44QKeffrry8vI0e/ZsVVVV6R//+Ids29bf//53HXvssdp777117rnnqkOHDlq+fLk++OADZWdn6z//+U/CcTfHMWus5joW3bp106233qpx48Zp6dKlOuGEE5SVlaUlS5bo3//+ty666CJdeeWV8ng8uvXWW3XxxRfriCOO0GmnnaYlS5bo6aefrtcnfe+999ZBBx2kcePGxVpeX3zxxXo/zvXo0UPdunXTlVdeqeXLlys7O1uvvvrqdo8l0ZzH5+abb9a7776rgQMHauTIkbEfSPbee299++23273chjz88MM65JBD1Lt3b1144YXabbfdtGrVKs2YMUO//PKLZs+evdX5s7Oz9eijj+qss87S/vvvrz/+8Y9q166dli1bprfeeksHH3ywHnrooYRiOvzww3XWWWfpgQce0IIFC3TMMcfIcRx99NFHOvzwwzVq1KhGn0vbsmTJEg0bNkzHHHOMZsyYEXtU4+bPRt9vv/3Uq1cvvfzyy+rZs6f233//Rm3LTz/9pGeffVaSYs94r7uDq3PnzvRrB3YELTyaPIBW7v777zcHHnigadOmjXG73WaXXXYxZ555plmwYEGD9T/66CMzYMAA4/f7Tbt27cxll10WexTTpqqrq82VV15pioqKjM/nMwcccIB59913W2yZm1q8eLE577zzTLdu3Yzf7zdt2rQxhx9+uJkyZUpcvS09gu3LL7+Mq1f32J41a9bElY8YMcJkZGTEla1Zs8acfPLJJj093eTl5ZmLL77YfPfdd416BNubb75p9tlnH+P3+02XLl3MnXfeaZ566ql6j5pauXKlOf74401WVlbco6m29Ai4SZMmmf3228/4fD7Tpk0bc8YZZ5hffvllm9vSUJyvvPKKOfroo01BQYHxer1m1113NRdffLH59ddf6827uYYe+2WMMatWrTLnnnuuadu2rfF6vaZ3795x+8qYLT9iamuqq6vN6NGjTX5+vsnIyDBDhw41P//88zYfwVbnzTffNAMGDDBpaWkmOzvbHHjggeZf//pXXJ2ZM2eak046yeTn5xufz2c6d+5sTj31VDN16tStxralR2PVacwxa+pHsBnTfMfCGGNeffVVc8ghh5iMjAyTkZFhevToYS677DIzf/78uHqPPPKI6dq1q/H5fKZfv37mww8/NIMGDar32MFFixaZwYMHG5/PZwoLC821115r3nvvvXqfgXnz5pnBgwebzMxM07ZtW3PhhRea2bNnN+ozuSW/5TO1NdOnTzd9+/Y1Xq/X7Lbbbuaxxx5r1HFO9BFsxkT339lnn22KioqMx+MxHTp0ML/73e/MK6+8Equzpe/ETZc/ZMgQk5OTY/x+v+nWrZs555xzzFdffbXN/dDQdoXDYXP33XebHj16GK/Xa9q1a2eOPfZY8/XXX8fVa+y5tKV1zps3z/zhD38wWVlZJi8vz4waNare4xbr3HXXXUaSuf3227e67E3V7feG/hp6fCaA1GMZs9n9OgAAAIg57LDDJEnTpk1Lahxofe6//36NGTNGS5curffkDwA7L/qkAwAAACnGGKMnn3xSgwYNIkEHWhn6pAMAAAAporKyUm+++aY++OADzZkzR2+88UayQwLQwkjSAQAAgBSxZs0anX766crNzdW1116rYcOGJTskAC2MPukAAAAAAKQI+qQDAAAAAJAiSNIBAAAAAEgRra5PuuM4WrFihbKysmRZVrLDAQAAAADs5IwxKi8vV/v27WXbW28rb3VJ+ooVK9SpU6dkhwEAAAAAaGV+/vlndezYcat1Wl2SnpWVJSm6c7Kzs5McDQAAAABgZ1dWVqZOnTrF8tGtaXVJet0t7tnZ2STpAAAAAIAW05gu1wwcBwAAAABAiiBJBwAAAAAgRZCkAwAAAACQIkjSAQAAAABIESTpAAAAAACkCJJ0AAAAAABSBEk6AAAAAAApgiQdAAAAAIAUQZIOAAAAAECKIEkHAAAAACBFkKQDAAAAAJAiSNIBAAAAAEgRJOkAAAAAAKQIknQAAAAAAFJEUpP0Dz/8UEOHDlX79u1lWZZef/31bc4zbdo07b///vL5fOrevbueeeaZZo8TAAAAAICWkNQkvbKyUvvuu68efvjhRtVfsmSJjj/+eB1++OGaNWuW/vSnP+mCCy7Q5MmTmzlSAAAAAACanzuZKz/22GN17LHHNrr+Y489pq5du+ree++VJPXs2VMff/yx/vrXv2rIkCHNFWZyfC9pqaQjJPmSGwoAAAAAoGXsUH3SZ8yYocGDB8eVDRkyRDNmzNjiPIFAQGVlZXF/O4R/SDpO0u3JDgQAAAAA0FJ2qCR95cqVKiwsjCsrLCxUWVmZqqurG5xnwoQJysnJif116tSpJUL97f5T++/ypEYBAAAAAGhBO1SSvj3GjRun0tLS2N/PP/+c7JAa58xkBwAAAAAAaGlJ7ZOeqKKiIq1atSqubNWqVcrOzlZaWlqD8/h8Pvl8dOoGAAAAAKS+HaolvX///po6dWpc2Xvvvaf+/fsnKSIAAAAAAJpOUpP0iooKzZo1S7NmzZIUfcTarFmztGzZMknRW9XPPvvsWP1LLrlEixcv1lVXXaUffvhBjzzyiF566SWNGTMmGeEDAAAAANCkkpqkf/XVV9pvv/203377SZLGjh2r/fbbTzfeeKMk6ddff40l7JLUtWtXvfXWW3rvvfe077776t5779Xf//73ne/xawAAAACAVskyxphkB9GSysrKlJOTo9LSUmVnZyc7nC2bIOlaSedL+nuSYwEAAAAAbLdE8tAdqk86AAAAAAA7M5J0AAAAAABSBEl6qmtVnREAAAAAoHUjSU9VVrIDAAAAAAC0NJJ0AAAAAABSBEk6AAAAAAApgiQdAAAAAIAUQZIOAAAAAECKIEkHAAAAACBFkKQDAAAAAJAiSNIBAAAAAEgRJOkAAAAAAKQIkvRUZ5IdAAAAAACgpZCkpyor2QEAAAAAAFoaSToAAAAAACmCJB0AAAAAgBRBkg4AAAAAQIogSQcAAAAAIEWQpAMAAAAAkCJI0gEAAAAASBEk6QAAAAAApAiSdAAAAAAAUgRJOgAAAAAAKYIkPdWZZAcAAAAAAGgpJOmpykp2AAAAAACAlkaSDgAAAABAiiBJBwAAAAAgRZCkAwAAAACQIkjSAQAAAABIESTpAAAAAACkCJJ0AAAAAABSBEk6AAAAAAApgiQdAAAAAIAUQZKe6kyyAwAAAAAAtBSS9FRlJTsAAAAAAEBLI0kHAAAAACBFkKQDAAAAAJAiSNIBAAAAAEgRJOkAAAAAAKQIknQAAAAAAFIESToAAAAAACmCJB0AAAAAgBRBkg4AAAAAQIogSU91JtkBAAAAAABaCkl6qrKSHQAAAAAAoKWRpAMAAAAAkCJI0gEAAAAASBEk6QAAAAAApAiSdAAAAAAAUgRJOgAAAAAAKYIkHQAAAACAFEGSnqpM7QPSjZPcOAAAAAAALYYkPVWVV0b/LSlLbhwAAAAAgBZDkp6qymqT9FA4uXEAAAAAAFoMSXqqspIdAAAAAACgpZGkAwAAAACQIkjSAQAAAABIESTpAAAAAACkCJJ0AAAAAABSBEk6AAAAAAApgiQdAAAAAIAUQZIOAAAAAECKIEkHAAAAACBFkKSnOmMlOwIAAAAAQAshSU9VHBkAAAAAaHVIBQEAAAAASBEk6anKJDsAAAAAAEBLI0kHAAAAACBFkKSnKsaLAwAAAIBWhyQdAAAAAIAUQZIOAAAAAECKIEkHAAAAACBFkKQDAAAAAJAikp6kP/zww+rSpYv8fr+Ki4v1xRdfbLX+xIkTteeeeyotLU2dOnXSmDFjVFNT00LRJgGPYgMAAACAViOpSfqkSZM0duxYjR8/Xt9884323XdfDRkyRKtXr26w/gsvvKBrrrlG48eP1/fff68nn3xSkyZN0rXXXtvCkQMAAAAA0PSSmqTfd999uvDCC3Xuuedqr7320mOPPab09HQ99dRTDdb/9NNPdfDBB+v0009Xly5ddPTRR2v48OHbbH0HAAAAAGBHkLQkPRgM6uuvv9bgwYM3BmPbGjx4sGbMmNHgPAMGDNDXX38dS8oXL16st99+W8cdd9wW1xMIBFRWVhb3BwAAAABAKnIna8Vr165VJBJRYWFhXHlhYaF++OGHBuc5/fTTtXbtWh1yyCEyxigcDuuSSy7Z6u3uEyZM0M0339yksQMAAAAA0BySPnBcIqZNm6bbb79djzzyiL755hu99tpreuutt/SXv/xli/OMGzdOpaWlsb+ff/65BSMGAAAAAKDxktaS3rZtW7lcLq1atSqufNWqVSoqKmpwnhtuuEFnnXWWLrjgAklS7969VVlZqYsuukjXXXedbLv+bw4+n08+n6/pNwAAAAAAgCaWtJZ0r9ervn37aurUqbEyx3E0depU9e/fv8F5qqqq6iXiLpdLkmQMzyoDAAAAAOzYktaSLkljx47ViBEj1K9fPx144IGaOHGiKisrde6550qSzj77bHXo0EETJkyQJA0dOlT33Xef9ttvPxUXF2vhwoW64YYbNHTo0FiyDgAAAADAjiqpSfppp52mNWvW6MYbb9TKlSvVp08fvfvuu7HB5JYtWxbXcn799dfLsixdf/31Wr58udq1a6ehQ4fqtttuS9YmAAAAAADQZCzTiPvEv/3220YvcJ999vlNATW3srIy5eTkqLS0VNnZ2ckOZ8v+vEq6r1AavE56Lz/Z0QAAAAAAtlMieWijWtL79Okjy7K22O+7bpplWYpEIolHjPqsZAcAAAAAAGhpjUrSlyxZ0txxAAAAAADQ6jUqSe/cuXNzxwEAAAAAQKu33QPHzZs3T8uWLVMwGIwrHzZs2G8OCuJ2dwAAAABohRJO0hcvXqwTTzxRc+bMieunblnRrJI+6QAAAAAAbB9721XiXXHFFeratatWr16t9PR0zZ07Vx9++KH69eunadOmNUOIAAAAAAC0Dgm3pM+YMUPvv/++2rZtK9u2Zdu2DjnkEE2YMEGjR4/WzJkzmyNOAAAAAAB2egm3pEciEWVlZUmS2rZtqxUrVkiKDi43f/78po0OAAAAAIBWJOGW9F69emn27Nnq2rWriouLddddd8nr9erxxx/Xbrvt1hwxAgAAAADQKiScpF9//fWqrKyUJN1yyy363e9+p4EDByo/P1+TJk1q8gBbPZPsAAAAAAAALSXhJH3IkCGx1927d9cPP/ygkpIS5eXlxUZ4RxNgVwIAAABAq7Pdz0nfVJs2bZpiMQAAAAAAtGoJJ+mHH374VlvM33///d8UEAAAAAAArVXCSXqfPn3i3odCIc2aNUvfffedRowY0VRxAQAAAADQ6iScpP/1r39tsPymm25SRUXFbw4IAAAAAIDWKuHnpG/JmWeeqaeeeqqpFgcAAAAAQKvTZEn6jBkz5Pf7m2pxAAAAAAC0Ognf7n7SSSfFvTfG6Ndff9VXX32lG264ockCAwAAAACgtUk4Sc/JyYl7b9u29txzT91yyy06+uijmywwAAAAAABam4ST9Keffro54sCWmGQHAAAAAABoKU3WJx1NbMuPogcAAAAA7KQSbknPy8uTZTUugywpKUk4IAAAAAAAWquEk/QbbrhBt956q4YMGaL+/ftLio7sPnnyZN1www1q06ZNkwfZGhlj9HXRbcqszFcPXZLscAAAAAAALSDhJP2TTz7RLbfcolGjRsXKRo8erYceekhTpkzR66+/3pTxtVpr18/Vj21ekMpFkg4AAAAArUTCfdInT56sY445pl75McccoylTpjRJUJBC4cpkhwAAAAAAaGEJJ+n5+fl644036pW/8cYbys/Pb5KgIC1f9VmyQwAAAAAAtLCEb3e/+eabdcEFF2jatGkqLi6WJH3++ed699139cQTTzR5gK1VdWBdskMAAAAAALSwhJP0c845Rz179tQDDzyg1157TZLUs2dPffzxx7GkHb+dbbmSHQIAAAAAoIUlnKRLUnFxsZ5//vmmjgWb8Hqykx0CAAAAAKCFNbpP+ksvvaRgMBh7/8svv8hxnNj7qqoq3XXXXU0bXStWkL9PskMAAAAAALSwRifpw4cP14YNG2Lv99prLy1dujT2vry8XOPGjWvK2Fo3y0p2BAAAAACAFtboJN0Ys9X3aGok6QAAAADQ2iT8CDYAAAAAANA8SNIBAAAAAEgRCY3uPnnyZOXk5EiSHMfR1KlT9d1330lSXH91AAAAAACQuISS9BEjRsS9v/jii+PeWwx2BgAAAADAdmt0kr7p49YAAAAAAEDTo086AAAAAAApgiQdAAAAAIAUQZIOAAAAAECKIElPVYzBBwAAAACtDkl6irICwWSHAAAAAABoYSTpAAAAAACkiEY9gi0vL6/Rz0AvKSn5TQEBAAAAANBaNSpJnzhxYuz1unXrdOutt2rIkCHq37+/JGnGjBmaPHmybrjhhmYJEgAAAACA1qBRSfqIESNir08++WTdcsstGjVqVKxs9OjReuihhzRlyhSNGTOm6aMEAAAAAKAVSLhP+uTJk3XMMcfUKz/mmGM0ZcqUJgkKAAAAAIDWKOEkPT8/X2+88Ua98jfeeEP5+flNEhQAAAAAAK1Ro25339TNN9+sCy64QNOmTVNxcbEk6fPPP9e7776rJ554oskDbLUaOVAfAAAAAGDnkXCSfs4556hnz5564IEH9Nprr0mSevbsqY8//jiWtAMAAAAAgMQlnKRLUnFxsZ5//vmmjgUAAAAAgFZtu5J0x3G0cOFCrV69Wo7jxE079NBDmySw1q6xz6UHAAAAAOw8Ek7SP/vsM51++un66aefZIyJm2ZZliKRSJMFBwAAAABAa5Jwkn7JJZeoX79+euutt7TLLrvQ4gsAAAAAQBNJOElfsGCBXnnlFXXv3r054kEDjDH8GAIAAAAArUDCz0kvLi7WwoULmyMWAAAAAABatYRb0i+//HL9+c9/1sqVK9W7d295PJ646fvss0+TBYdaxvDcdAAAAABoBRJO0k8++WRJ0nnnnRcrsywrdks2A8c1lY1JuTFGpOgAAAAAsPNLOElfsmRJc8QBAAAAAECrl3CS3rlz5+aIA1uz2aPuAAAAAAA7p4ST9Drz5s3TsmXLFAwG48qHDRv2m4MCAAAAAKA1SjhJX7x4sU488UTNmTMn1hddUuwRYfRJbwa0pAMAAABAq5DwI9iuuOIKde3aVatXr1Z6errmzp2rDz/8UP369dO0adOaIUQAAAAAAFqHhFvSZ8yYoffff19t27aVbduybVuHHHKIJkyYoNGjR2vmzJnNEWerZmhJBwAAAIBWIeGW9EgkoqysLElS27ZttWLFCknRAeXmz5/ftNG1ZjxzDQAAAABanYRb0nv16qXZs2era9euKi4u1l133SWv16vHH39cu+22W3PECAAAAABAq5Bwkn799dersrJSknTLLbfod7/7nQYOHKj8/HxNmjSpyQOEGDgOAAAAAFqJhJP0IUOGxF53795dP/zwg0pKSpSXlxcb4R2/nbXp/e7lVZLPl7xgAAAAAAAtIuE+6Q1p06YNCXozMhWVyQ4BAAAAANACmiRJR3PjBxAAAAAAaA1I0ncI9EkHAAAAgNaAJD1Vbdp4zsBxAAAAANAqkKSnLG5xBwAAAIDWJuEk/R//+Ifeeuut2PurrrpKubm5GjBggH766aeEA3j44YfVpUsX+f1+FRcX64svvthq/Q0bNuiyyy7TLrvsIp/Ppz322ENvv/12wuvdkRhudwcAAACAViHhJP32229XWlqaJGnGjBl6+OGHddddd6lt27YaM2ZMQsuaNGmSxo4dq/Hjx+ubb77RvvvuqyFDhmj16tUN1g8GgzrqqKO0dOlSvfLKK5o/f76eeOIJdejQIdHNAAAAAAAg5ST8nPSff/5Z3bt3lyS9/vrrOvnkk3XRRRfp4IMP1mGHHZbQsu677z5deOGFOvfccyVJjz32mN566y099dRTuuaaa+rVf+qpp1RSUqJPP/1UHo9HktSlS5dEN2EHYRp8CQAAAADYeSXckp6Zmal169ZJkv73v//pqKOOkiT5/X5VV1c3ejnBYFBff/21Bg8evDEY29bgwYM1Y8aMBud588031b9/f1122WUqLCxUr169dPvttysSiWxxPYFAQGVlZXF/O4L5y/6T7BAAAAAAAC0s4Zb0o446ShdccIH2228//fjjjzruuOMkSXPnzk2oVXvt2rWKRCIqLCyMKy8sLNQPP/zQ4DyLFy/W+++/rzPOOENvv/22Fi5cqJEjRyoUCmn8+PENzjNhwgTdfPPNjY4rVawu+XbjG0Z3BwAAAIBWIeGW9Icfflj9+/fXmjVr9Oqrryo/P1+S9PXXX2v48OFNHuCmHMdRQUGBHn/8cfXt21ennXaarrvuOj322GNbnGfcuHEqLS2N/f3888/NGiMAAAAAANsr4Zb03NxcPfTQQ/XKE22tbtu2rVwul1atWhVXvmrVKhUVFTU4zy677CKPxyOXyxUr69mzp1auXKlgMCiv11tvHp/PJ5/Pl1BsqcbQkg4AAAAArUKjkvRvv/1225Vq7bPPPo2q5/V61bdvX02dOlUnnHCCpGhL+dSpUzVq1KgG5zn44IP1wgsvyHEc2Xb0JoAff/xRu+yyS4MJ+s6DJB0AAAAAWoNGJel9+vSRZVlbbNGtm2ZZ1lYHcdvc2LFjNWLECPXr108HHnigJk6cqMrKytho72effbY6dOigCRMmSJIuvfRSPfTQQ7riiit0+eWXa8GCBbr99ts1evToRq9zhxRq/D4FAAAAAOy4GpWkL1mypFlWftppp2nNmjW68cYbtXLlSvXp00fvvvtubDC5ZcuWxVrMJalTp06aPHmyxowZo3322UcdOnTQFVdcoauvvrpZ4ksZS5dLPbsnOwoAAAAAQDOzTCvr8FxWVqacnByVlpYqOzs72eFs0Qt77x17/Yd7HpH32EFJjAYAAAAAsL0SyUMb1ZL+5ptvNnrlw4YNa3RdNE4r+x0FAAAAAFqtRiXpdQO7bUuifdIBAAAAAMBGjUrSHcdp7jiwNTSkAwAAAECrYG+7CpLNkKUDAAAAQKuwXUn69OnTNXToUHXv3l3du3fXsGHD9NFHHzV1bAAAAAAAtCoJJ+nPPfecBg8erPT0dI0ePVqjR49WWlqajjzySL3wwgvNESMYOA4AAAAAWoVG9Unf1G233aa77rpLY8aMiZWNHj1a9913n/7yl7/o9NNPb9IAAQAAAABoLRJuSV+8eLGGDh1ar3zYsGFasmRJkwQFAAAAAEBrlHCS3qlTJ02dOrVe+ZQpU9SpU6cmCQoAAAAAgNYo4dvd//znP2v06NGaNWuWBgwYIEn65JNP9Mwzz+j+++9v8gAhRUKhZIcAAAAAAGgBCSfpl156qYqKinTvvffqpZdekiT17NlTkyZN0u9///smDxDSr7/+pO7JDgIAAAAA0OwSTtIl6cQTT9SJJ55Yr/yrr75Sv379fnNQ2IzjJDsCAAAAAEALSLhPekVFhaqrq+PKZs2apaFDh6q4uLjJAsNGxpCkAwAAAEBr0Ogk/eeff1b//v2Vk5OjnJwcjR07VlVVVTr77LNVXFysjIwMffrpp80Za6tlyqukCIk6AAAAAOzsGn27+//93/+ppqZG999/v1577TXdf//9+uijj1RcXKxFixapY8eOzRlnq2aCIWnOAqnPnskOBQAAAADQjBqdpH/44Yd67bXXdNBBB+nUU09VUVGRzjjjDP3pT39qxvAgSUu//FR7Hn5UssMAAAAAADSzRt/uvmrVKnXt2lWSVFBQoPT0dB177LHNFhg2Wrd0cbJDAAAAAAC0gIQGjrNtO+611+tt8oCw0fKsgD7vWJbsMAAAAAAALaTRt7sbY7THHnvIsixJ0VHe99tvv7jEXZJKSkqaNsJW7KpjF0mSrpm+a5IjAQAAAAC0hEYn6U8//XRzxoGtWJJXk+wQAAAAAAAtoNFJ+ogRI5ozDmyFSXYAAAAAAIAWkVCfdCSJRZoOAAAAAK0BSfoOwO1Li74wJOsAAAAAsDMjSd8BmLob3knSAQAAAGCnRpK+A3B7fdEXJOkAAAAAsFPb7iQ9GAxq/vz5CofDTRkPGuDNz4u+IEkHAAAAgJ1awkl6VVWVzj//fKWnp2vvvffWsmXLJEmXX3657rjjjiYPENKTWV9GX5CkAwAAAMBOLeEkfdy4cZo9e7amTZsmv98fKx88eLAmTZrUpMFhM0HuWgAAAACAnVnCSfrrr7+uhx56SIcccogsy4qV77333lq0aFGTBofNfLcg2REAAAAAAJpRwkn6mjVrVFBQUK+8srIyLmlHM6gJJjsCAAAAAEAzSjhJ79evn956663Y+7rE/O9//7v69+/fdJEBAAAAANDKuBOd4fbbb9exxx6refPmKRwO6/7779e8efP06aefavr06c0RIwAAAAAArULCLemHHHKIZs2apXA4rN69e+t///ufCgoKNGPGDPXt27c5YgQAAAAAoFVIuCVdkrp166YnnniiqWPBJox43BoAAAAAtDYJt6R/8803mjNnTuz9G2+8oRNOOEHXXnutgkEGNmsqU7qt33alhcuiI77z/HQAAAAA2CkknKRffPHF+vHHHyVJixcv1mmnnab09HS9/PLLuuqqq5o8wNbq094VDU8oKY3+u75MWr5aWlcqVVS1XGAAAAAAgGaTcJL+448/qk+fPpKkl19+WYMGDdILL7ygZ555Rq+++mpTx9dqbfFxdnNqW86//XFjmUNLOgAAAADsDBJO0o0xchxHkjRlyhQdd9xxkqROnTpp7dq1TRsdGvbh1/HvZ/2QnDgAAAAAAE1qu56Tfuutt+rZZ5/V9OnTdfzxx0uSlixZosLCwiYPEAAAAACA1iLhJH3ixIn65ptvNGrUKF133XXq3r27JOmVV17RgAEDmjxANNKcH7ddBwAAAACQ0hJ+BNs+++wTN7p7nbvvvlsul6tJgsJ2KClLdgQAAAAAgN9ou56TLklff/21vv/+e0nSXnvtpf3337/JgoJUb9g4V7m07yXSoiul0v2SERIAAAAAoJklnKSvXr1ap512mqZPn67c3FxJ0oYNG3T44YfrxRdfVLt27Zo6Rkgq63CMsrOCUp+LpOlfNlzJcSQ74R4MAAAAAIAUkXBGd/nll6uiokJz585VSUmJSkpK9N1336msrEyjR49ujhgh6b+/6x5f4PdKffeSOrffWMYo7wAAAACwQ0u4Jf3dd9/VlClT1LNnz1jZXnvtpYcfflhHH310kwaHragJSpnpUnXNxrLyquTFAwAAAAD4zRJuSXccRx6Pp165x+OJPT8dzc1IBW2iL9vmJTcUAAAAAECTSThJP+KII3TFFVdoxYoVsbLly5drzJgxOvLII5s0uNbMqj903EbpSzfe5m5tVm/2fCkQbPqA5i6Spn8lBUPRf+v+yiqlSET6Zp40Y3a0XzwAAAAAYLsknKQ/9NBDKisrU5cuXdStWzd169ZNXbt2VVlZmR588MHmiLFVMjL1ytZ959cbR3fXT1/OknzejRP267Hx9YZy6bsFv3HlRiqvlMKR6G3107+S1q6PTpsxO77uzO+lj2dGb7UPhqSPvtmYwAdDjVtfKBz9YWHOgo3zAgAAAEArlHCf9E6dOumbb77RlClT9MMP0YHKevbsqcGDBzd5cK2Z00BD+sd/7qjK5V598vDr6jzyto0TsjPjK1ZUS5XVUkZa/YUYI334dfT13t2ltrlbnv5bzZgt7d8z2ndekqoD0qp1UuddpC++23qL//SvpAN6SWUVUmG+FHEk22L0egAAAAA7te16TrplWTrqqKN01FFHNXU82AIjo8pfNraeO6F2sj2fS9qt4Rm+misN6le//LuFG1/PrX19aN/obfPBUP2W8i3pt7e0YrW0Ys3W633zff2yZb82bh1ffhf9d/7S+tMO7Rv9t7pG8nolt6txywQAAACAFNaoJP2BBx5o9AJ5DFvzMJZkbXIH/It9CjT0nR7K2rW2NbqgjbS6ZLOZjEzEkeWyN/ZdLymtv/APv5ayMqK3uDfEZUv9+0T/3fRZ7Lt3jv7VC3Y7W+N7dI22/n89b9t1N1/+Hl2kgjzJRbIOAAAAYMdlGWPqd37eTNeuXRu3MMvS4sWLf3NQzamsrEw5OTkqLS1VdnZ2ssPZoj1uyNICd0Xs/T9e7im3qX8P/B8+/VTenJzo7e0Ll0X7pNeqWLtGb954pSTp9JmzJI+78cnzrkVS147bvwHGSD/9Kv20Ir48K33jo+L23UPy+6PPfN/c0hXRlvpIRHK2eYpu3aF9o8uxbW6XBwAAANDiEslDG9WSvmTJkiYJDNvPsUy0OX0zy957T12HDdOPL09Sx8MPV9Ze3aRPZ0mS3r7t+li9nx99Up36bHL7e3HvaCK8al39lXk9vy1Bl6It913aR/+2x9bmXfSz9Muqxi9rSz9M7N8zmrQ31HcfAAAAAJIgoT7pZWVlyszMlL1Za6TjOKqoqEjplukdjQl6447O+rSwCisbaHGW9PrhhyuwYYNm3n23Dhw/XjmVjtrt1l3hQE2szkePP6jhDz8jq+62d79P2qNz/SS9oX7sqaZbp+hfnXBE+uo7KdDI0eTrNNRfflP5udFb8OnvDgAAAKCFNDpJ//e//62rr75as2bNUnp6ety06upqHXDAAbrnnns0dOjQJg+yNTLVfmmT3XzXoct07zvd69WzXS4FNmyIvf/i5pu3uMxf581R+7332WRmO3or+Iby6Ajsnu0aRzDqO0nTJY2SdLWkO2rLyyTl1L5+QpJf0iu1f79hdXHcLumgfePLApLWSyr9RVq5UmqTI60rlSxJYUmDt/BjxFvfSBm1z3pft0H6ZGb9OnUj1ltW9Lb+zZ9V/1uUV0Z/PMjJkvbuJtUEotuX5m+6dQAAAABIWY3qky5JRx99tE499VRdcMEFDU5/6qmnNGnSJE2ePLlJA2xqO0qf9O6jO2hRfnx/7udf2qtePcvYMpaT0LJP/mCafAXtflN8MY6kQyV9sp3zfy7pJ0kdJA2QVCXpGkkPSnpN0gmKJtalkp5T9EeAOn5J10nqL+nI2rJnJJ27nbFs6qXZUptw9PXgvvWnH1Aq3blA2loX9/wcqU2utEvbjYm8MdLKtdJbq6VpbaTnd5HO+FXaJSB9kSON/UnKCktbarzffy/J44reAbF8dfQugn57S+kk8QAAAECqSiQPbXSS3r59e3344Yfq3r1+a64kLVy4UIceeqhWrFjR4PRUEds5K1akdpI+bo9GJenb69Tp0+VOS5MmeqTrvTKLKxTOqJI7PX3jLfFbE5TUJqPJ4tmRrU2brW/bPaR1aXMUcpXL5fh02g/fNN8KO1dLeSFp3wrpvTbSis0S9HQjVW3lGPZ0pO9rf13o4EgllpRvpNWWVGSkNkYKWNJSK/ojzG5GOjos7WKktZZUYCSfpKzar45KK7qM593Seks6PyS96ZZ2c6TPXVJ7Ryq3pMWb/aJxcUgqNNKhEam7I+Urel4FJGVq4w8gRlKJouv4zpZ+qV2frei8+zjSr5b0hUt61xX9gaOjkaa4pPm2lGmkdiZav8BE/7o6Upai29HdkTKMtFdtDLa2/uPLb1UjabEltTdStSUttKL7rY2RejtSqRX9YarEklZZ0TtCLEXvrEk30eOxS+0xSETdN70jaYOix3J3E7+fSxXdl22M1E7Nux8AAABakbKyMuW0b9+0SXpaWppmzpypHj16NDj9+++/1/7776/q6urEI25BsSRdUuqm6FL30e21qE3DSXrfnsX6+vvPG7Wcrr/foCVv5DY8bcMG7bv6G72+xxGxst6rI+q9tqOkKZIulvQ3SbdI2l3S8Eas8TFJl2xW9pOkkZLeir711UiBlmj5fU/SUQ2UV0k6SdLmd32cL+nvkiRHEX2w60ValfmZJGnw0n8ov7q31qTN1Ptdzm90BB3LjlDfVeOUEdrOAfSQJOskZUiqlBSq/atRNJN1JK2S1Kn2tVH0lwFf7ftKSRFFf21YWzu9g6L9PtopegvIbxVW9DyuW9cGSbmK/vKwUtJySeWKfsu1q92WDrXz+bUx+y6vnTcoaRfF9bFRUNLPtdOX1m5zUFLb2mWUS/LWxjGndnvzFf2FJaxof5Zda9cVqo0zo3aenE22Ya2k+ZLWSGpTW79c0b4ydY+MdNfGsLB2fn9tLHX7fZ2ixyfZXIruw/Kt1HFr4zmTr+h2VkrKq51Wd87U/dD2G59usR2i92a5JPllq0bRY1fHJckr2Zbk1MRqR+M1ksslx0iOsWQbT+2Z5lP02PsUPb6VktI2eV2jjedSZW1d1ZZnSV635PJJgRLJaSfJo+h5Haldf9va9ddo4zlRLqlC0fM3pOh5mVk7zVL0fEurXW9bRc+9QO2yw7XLTatdR7WkX2vnCdROq1D0WGfWxuKTo6AcK6M2BkdBV4ncjk9ex6otsyWtrn3tllFEUrZCdlARy5HL5MpSjoIuRzIuuUy6bJMvl5NfO25slRxrvWwTlG38shWWIylsV8jlVMqlSklhGbkUsarlWNHPiNtJk6202m3PlFGppBIZZShi2wq4XKpxRbQyK0OOOyIns1yZHksZ1ZKxvApHaqSQR8YVUbUJq9znKGIZldk1CllGleklqklzVOUNab0nIm/AkRUw8kbSVeMOyFgR+cKW5PLKHXarXZVLaRG/XJGg2lQahTySN+xVxHIpLRiWJanC61dJeljuiFF6yKWQK11V7nQF3RFZxihsS9Uet9KDGfJHvIpYRpJHaeF02canwsr2soyRJ5Ku9LBfIbtGAVeZZBk5MvI46fI4WQpbIYXtgEKuSkWsiDxOmlzGJUeVMlZERpJtMuV2smWsgMJ2tUJ2dD9H7CpFrOi5YsnINl5ZshWxg7IVkdtILuOV5Thyyy1L0UGAHSuksCcir5OptIhbllUtl+OV15WjiLHkqEKWbWTLJydsFLFqZCkstxNRxHFkIpWybJ9spck4LoWNrYjtkmOHZNm2HNXIkle2/PLII6+VJktGEVe1HEuywpbSTZrscERyvHLkyBVxyXH7ZLvSJJdfsizZbkuOLyjZPhm3JXlccmy3XD6v3G6PrJBbJpQmK2jJ5XjkMplyeT2Spejjf30RmUBYEadalttWyA4o5ATkRCTHrpIlI8sTkrxGslxyFFEkGJEitmRF5La8MjIKuyvlmJro942JSHZQluOWS2nyhP2SMQpFIrKMT0YRucIZ8hiP3F5LthWWHbZlhbyKWLaMCSpsV9Z+k/nlklsuV/Sz6dgBWTIyxi/LcckOGskKSZZLCqZLti96N6RtSzW1/49G0iS79hoh6JEcb/R5ycFMKVT3XeOS7IjkisYuT0ByhWq3JSTjCcoYI8ttZLmC0e+fsCTbkUyaFHFLESN5HEluybgl45ccnxx3MLo/wpYUjl5bGJcUtqsVtCrkRKSICcpYYRnHSK6IXLZLlnHLctwydkCWLTkRR44JK6yAjCOFjSPJkhX2yXEsWXLJJbeMOyTbtiTbyHa8ckfS5ZJXju3IsqObajwB2caWkVFEQRk7LEuWLMuWFbFlWy55lCmPyZLLZ2S5vFLIG32Skx2J7sewS3JsyTIy3hoZK6xIJCgjS66QX5aJNmZY8spyKfo9bQWlSECqGiSVLVeqqusF3GSju0tSly5d9NVXX20xSf/qq6/UuXMDz8xGk+o4uEx7PvCUvt5r763W82Q66vX6D/L7pW4nbdCUEV3q1VmSm6sluUfElc0pcMkfuUC7r5eiCbok3bjtwErypLwN0etm76Ubry/PkvTPukqbte4+dJl0+UP1l3XX/0mnvyB13PghW5y3WN2u6BZ7X3mbVOp7XiVpNUoPHa4uG7qo1F+q3Jo0bVcS5Jac45/UiwtmNDh5SpcRiS9T0i/Z7+uX7Pe3ON12GWV3DijNHdavP2bWm54e3EVV3l8lSX1WjVWPdSNkb09n/sxyqSJry9MLVkurCza+b7tGWttEXSKyS6WyHKlwpXT2P6Vfd5GeO2v7l5e/XFrXQUpbI1VvIcb8ldKuS6XiN6WCT6VAmrTGlpYVSD93kNb3ltZmS05EUldJXbQxMZCiyZO05XOp4e/BxnMUS5T9pVJmIHp8amqfNGA5kjskpa+T7HIpGJBCdvRCQZ0UTSSytfGnxk2fxpAjac8G12rkia3fkq1oUh9/Xhh3jSIRR26TLqnuM9dXRrX/aW/+OU4VrmD0PLcjtWNFhCQZKeCTHJfkCUretZKnUsYVUDC0RpFgiVRpyXbCkjwKuqRqj0cRVcp4XXJc1TLGkqOgvDWWAm5bIdvI47jlyFbEXS3LypQvUqC0SKH81bsq5KqQbUckKyCPMfIEcxSW5Im0VcSOqNpdonLvTwq4SmXJlm08MlZIRkZZwS6KJnelsoytGvd6+Uya3OE2qklfqpCvTNVWqWzLI7eTJrflVY1KVOn6VZIlYyTjrVGNvU5hE5HL9sixgrLllcvxSY5RyFWusBWQJ5wtl/HL46QroqAsuVTpWqkK1wqF7I2P/3Q7afJEMmXJXTsMhyPbRC+eHTsoxwrK5fjkcvwyVkRV7tXR5MaKSMaSP5wvj5MpbyRHxorIZbzyRnJkG3f0QtIuV8BdIscKyTJuuYxXbidNlnErbFfIsSJyrKAiVlDG6iSX8UeTf+NW0FUml+NXWjgvdl4aGVnGJZcpkm088kVy5TJeOYrI62TLUVhhV4XW+xaoJC2koMuWY9vyhWtUWJ6tDWllKvetl2W8CrnWaW36WlkmIl/YJdvkqNrrVrUnorXplbJMjcJ2QLazTF7HkmWMjLXxRxXHMvKFbWUEPcoIZkiW5Au55NhGFd5KrU+rUMC9Wo5lZBkp7FqmGrejiG3kidiq9EYUso3CtpHbsWQso4DLqMwfVsiWbGMr6ArLH7aVHrLliXiUFvYp4Aqo2hOKJq6WVOVx5MiWLDv6kXAH5YnYKveFtCEtrApvREF3wz8GecNW9Cel2qfLBF2OnB3sDhtP2Krdf1JayJbLWPLWlnkcS7aJ/hkZVXodeRxLvrAlp/arzhOJ1g25jNJCttJC0f5obmMpaDuxSxtf2JaR5A/b8odteSLRs9JlLFW7HVV5IqpxOwq7ot+mabX1fZFo3bSwrYDLUdiOHgtvJHpcXU40loDbkWMZ2caSL2Ipt9ojX9hSxJbCtpFjRc8TSbKNpbSQLV/Ejv5AIksBlyO3seQL23Iso6DLkW0she3o67SwS0HbUcDtqMoT/fHNklTtcRR0OQrZRtUeRyGXo2p39Dzwh2xZkqo8ERlLCriM0kNe1biDcizFzm1blmwnmneFbEeOFY252hM9x0Ou6LLdTvTYpIdcCrui83oiVuwz4XEsVXkiqnZH6/oitiwT3cch2yjgduQL23IZyROxlRayZRsr9vnxOLZsR7H5HEuK2EaWseQy0XjDdnQfeyMuuRxbaSFLaWGX3BGPIralgNslT8Qn23ijyajlklFYjhWS20S/f2rcNar2BGUblzwRW96ILV/YrYgtVXjDqvIEJBnVuAOK2IHosXFspYf8ygh5FbKj54TLuORyLLmMpYA7ojJvjao9IRkrIm9EcqzoD6huR3I5tjyO4s4Xy0TPhejxNorYpnZ7VbvNluzaOqb2B+GIHd3ntomegx7Hku1Ez+W688sbsWQZSyHXxu62nkh0v9ftP0mqdkfPp6Cr7l8jY208X6P/2nJH7Nofumx5IrZs48hYJrrOSPQYSdGYa9zRz0jdd60v7JIvYss2trICbj0xNay8Jvz+SKZGt6Rfd911eu655/TFF1+osLAwbtrKlStVXFysM888U7fddluzBNpUdpTb3btdu7sWt/k1ruz5l/ZSzzPP0H7XXqsKzy96c/ch9ebrXnKacgN99MHui3TJcWMlSWXXSFk+KVRp6+UDE0suhs/7TpYsVXmq9M99/6kLvrlAbmeTJHFJF6nLTwlv39Y4RlpYIuX4JJ9byrsz8WXc/U43tS/feD9w+0HlWjE9SzVuR192KNNjxdvXLeORN/ZQTiC6/cuzAppTVKHVu1VqUdcKHd5Feug4acFT+Zo9sXDrC2oEI7PFhChz14D2HlGmtA7VKhpQIcvKlawNCY1lt+KjDLnTjGyvo5xuQbnTnbj5Nl3O8mmZmvnPPGUeXK5dO4aVnuMoVOnSqs/TFSp3acVsv5avt2SHbLWp9sjbvVpWnwpVFARUsc6l58NVWhiKaKDjV+81GbIXp2mdL6yulkuFZT4FC8NaXWprmbdak3cvUWbQpVWZQaVbHhVkuBT0BDU3UqOOlluWbVTmGJUYRz7LUqHc2itf+sUVkkfSPsarghyjnnuHZNlS5xypT5GU5ok2/q2f79WKjzIVLHWpqsqvyCqPPFmOXMpVqCRN/nSPLGPLZafLBD3K8GfLztigYIVbobJ0uUJ5ClVGVGOVyOdzKxIIy/FXKD3PLV+6R4Eyo4r1lXJZHrlDWbItt8qCq2SMkSfDLeMLyaSXKlAiSbZ8uT7lds5UWjtbfneWLLdf/vwMhatcqq6WQu58pZe2VU1plSIBR9U1G+SUVilSGZSMLWOHZFd5VVm1WmHVKLAhrFB1UCZiZLls1QTXKxyuUXp2vgLVFQoFalsRPB5FQiHZLo9syyXLtuX2eVVdvqF2uk8m4shleyQjhSM1sm2vvK4MeVwZclkeebzpSrPbyS73KaQqReyglJkvuT1yIpUKmHWq9ARU6XNUEMpTTdXPilSWyOvJUHm6pXUZEblNmtIqffIFPGrntFGmlSsn4KjSHVZuVY5qXNWq8aVrQyQsO5iucl+FHKtaIXutbKdcHicsI4/KfRGFXFKNx1JOdZbSwl6t96+Rx3HkKKCwq1IhKyBLjiJ2uao8IbkcSxkhl9pVeuSNWKrwRmIXNEvyarQmI6TsgEttqj1yO5ZKfeHYRWDdhU21x9HajKA2+MMKuKIXHaX+sDJCLmUEbWUEXRsTLpdR2HZU6XFU4YvELsArvJG4C3bbSJWeiNyOpeyAW5lBl7wRS+6IrTbV0e+fsG1U6Y3Ekocqt6Owy1Gk9sLYH7blWFJWwKXMoKs2YbDkD9sKuhy5HEveiCVPJHrBbkkqSQurwhe96IvYRjLRfyu9EfnCdvQCz5LKfRFt8IfkcWyV+aJjd3gi0QvDnIBbnkg0IXIsI5djxRKjiGWUFXRFkyLHUmbQJdtELyrdTjS2umVZkiq9jiq8EVV6I7GLsoAreiFe6g8rZJvYhaPtRC/k6y4i6y4EK7zR+Mp9EVV4I4pYRhFbqvZEFNnBks3m5nKiF+aWsRR0b3usm4yQR96wrcygV76QS2lhV22CYcmxIoq4IvKHPQrblkJ2RC5jFHRFVOqrUY07eiwqvKHaRDG6Pqf2Ytw2lnICPkUsRwFXRLYseR1bXselSG2y5TW2Kj0hBe3o59ZlLIVqx+ipcIebb0cBSFkl581SXpuGu2angma53b28vFz9+/fXsmXLdOaZZ2rPPaMtNT/88IOef/55derUSZ999pmysrbSWpcCdpSB47r+aRctzVsZV/b8S3vpmJdeUpte0Vb0V/c4WCuy1mj00AUa8FMfffL0TFk3bT07i9wU1It79alX3m39yVqU92qD8/zhh5ny3bgx4V123zJlBjP19EvddcbhJSqs3wAc53+LpGeeT9eLTpXOnFWotYfsqjYdd9Oh/1qh819+Ty7vp1pWOlLXvrRQz6/YOf9jza5xqcwfkSdiqceadHUs9emwJXma1nW93tmz5Dcv/5ClOcoMuhS2jYrKvfp011INXtRGHct8qvREVJIeUr/uvfRXfayuq9O0IS0sb9jWwKU5so2lrzuUa/YuFfolJ9AEW5u6skIuVdkRObZqbx+Vcqpdal/uU5uqaCJmG6mw0qv0oEvB2l9s00K2cqvdsV+ivRFbbSs98kUsbfCHlVPjVtBttDY9pIDLUdUmydOKrIA8tdlApTeiuoa2ul+oPRGrNpmItmaVe6O3hv2cU6MyfyQWY3rIpaDLaF1GSHlVbuXVuLUyM6hqj6Oicq92KffKkqWQ7aiowqfOG3yq9jgq9YVV7ouo0hORvzYOdyS68f6wrZraVhNPbXLjMpaCLicWZ9AVja3uVs2QbVRT28qSU+NW0OVofVpYVZ7ovgq7tv5fSlqwNgn1bTsJcEWkSAs9AdHliKStlXFbkt+y5LKkascoWHvq+m1bliy5LVv5vjSFTFgBJyLHkfLcPmW4XCr0pinsklwuryJyFHAismTJ2BHZVkSOicjjcVQRMCqpDigQdmSMVBEOy21LWR5bhRkeZXqM3J6gjBWRZSzl+Ix8Xqk6LOX6pDTblsvxKJqmuuR3e5Tv8ckb8SgSkdIzPArYjkoqwgpUW6oMGKX5beVkWXK7jaSQsl22VBOWQgEZK6DMbKOacFC5mVLnfEftcqRcv5SfHv0hU5KqQlJZQKoORX+sDUWi03xuKcsreV3RHz5jjKSwW3KH6900l4iKYO0QHJ7f9uCUUGTjdqyrloIRyWVJpQEp4kTLA5FoecSRwk50fW3SpEA4GodtRf+qQtF6fnd0n5QHN66jbh8YI1WGorGXB6PzVIeiuyXkRPdZjk/K9kX3nW1Fl+Wyo+sKRqLv/e7onxQ9ZCXV0TudXVZ0n7jtaLyVIWlFeXQ9Xld0PFl37WG2FJ2nLBCdXhmMvs/yRmMpr11vhie63T53dBlVoei60z3R88G2oo0mmd5oXY+r9pz01L63o9tqjJTlkWzHks9YWl9hKSvNxGJy3EaRiCSPkdstpbmj5W47uj/qtjnHH933VSFpQ020zDHRbfK6op+JmvDG/RiMRPeDMdHt8Lii21gZqt1HAWl9lRQOWQqEJY8n+hmPWNFjE4lEb1qza//vC8vItiSvbSnsRB+uE3IslYeNyoNSKCz5LEvpshQKWlI4Ws92LMllZLuNwrXnQprXKMMjOY6lQEQKGKPqcPQeuCy3pWxf9H66TL+RneYoyy8FA5ZKqyyV10gex1KwdrvCjhSRkd9lqY0/2uhmuY0Cxsh2S8Y2ijhSMCzVOFLEGLk9UpY/uv/CTvR4p7k3niuO2Xjeb1pHip5rNeFoed3nJOzUnsuR6L/Voeh0vzv6uXFM9HiEItF1REx0P2T7oudKukfK8Eq+2nPC45KskCWPkayQrWA4+gOdE7FUE6n9sc6W5EhBGXnckuWKdhDKclnyWNE4jZEqApaqw0bhiKXSgPTISWtku9ps/5dHM2uWgeOk6P3z48aN06RJk7R+/XpJUm5urv74xz/qtttuU15e6t9gsKMn6ad+9ZXc6Wmxsk2T8vyqfK1L3+y555sZ+cVIPfz2wzrmjGJN3v0L/fefp2jI9PflHvV3RYJGk366Pr7+0PkqTYtsYWkNO7CdpSdONtr3sYRm26aJ/+2udlVefdaxVO/uUaIBy3L0j/1XbntGpAxf2FbYJUW28EQCr3EpaDV8vvVemSFf2NaupT558nNVaYKamv+LsoIuWcbSmoxgvdswO5b6tDY9FEsqkRyZlqWKBv6ryXdH/7OtikgVjtHWjlJhJNrXOc1Ek6qw11GZZRSqXW6By5bHspRlLJVEjMqNUZ7bUkgm2n/Ojl6EGEsKGiOvJ/p0wzVV0QvhzXVvI+2RL62qiE6vCUuFmdELnUAkejEpuZXjT1O7dI92y8tUhifaL7oos5021HhVUh1UebVHAcenDCtNaf5MZfp9SnOHtUtGjUqqy1UWdNQhO11BJ/rjTHkwevGU7slSyKnR2qpSrauqUNiEVBWSVlVUSArJbTvK9YcVciLyuoLK9NrK8raR27blsnyqCIZVE6lSZdDWmqqIAmGjYMRWRTCiLJ9PxkhVoZBqwmF5XC45xlJ+Wro6ZEdvHXdMSLbllc9tq43fpapQjVx2hjy2lJ/uVVFmjsJOQHl+IymisGPJZadrZUWFQpGALMuSy/IqELG1vtol28pQxFgqDZSrOhSSkVfrq6skScFIUCEnpA01G+SxvaoKhRUxYbVJy1K2L08FGYXyufyyLVtpbr8yvUZt07OV4c2VMRHVhMNyTFgel682ObNkWRF5XQG1SfPLkkdt0nZRfnoHeewCuWy32qS1UWFGoTyuaJYVcSLaULNBmd5M+dyJjsr4W0WT6Wj/+LoxJqRoVxS3mmcER0fR8Q9Cqk3rauMwio7U6VK0L362ov3v1ynaB79u3AWj6PgB7tr3fkX725cp2u+tXBvHpgjVbkt7SUWK9uN3K5qyOIqOPVFTW0+1//pq57cV7YoUqI1nraJjF6TVxu2p/ffX2unh2vXXbeP62nlVG1vdeALh2u2sVnS/162zbmwEl6LjFGTWblvZJvvDV7tej2KZhKq0sRtT3XZV1/6l1W7f+tp63k32Y12Xqurafequjb+q9t9I7b4L1G5nSHVjGkSXU7euuuvvunNJio0fERtrxFu7PTm189WNaeKrnSdcW163jnDtvqo7D9Nrp6fVrtNTW1a3P+rGcvDXHjN37fvavtTK0MZxSSxtHH+kVNHjmq3o2Crh2hiKat97FP1MlGvj+eqqjd3e5HVVbb26c26DNo5VEajdn3XnRmFtHE7tcqs3idOpnS9Yu48qatdRNzZNTW19u3YZvtr3bm0ccyRcO4+rdp+nbbL9dZ8jp3YdprasLu667aobB6e2n7rcmxyTQO20uu2yNlmm0cbzUdo4poitjeeHs8kx8tf+1W1/3bgbdePJ1J2Lqp1Wt511n5MMRc8/vzaeP3X/33s3eW1tsl/D2jhGjqWN3yVpip5vGbXLlzZ+11i1ZXXfVWW18WTXrtNdu28eVSprtiS9jjFGa9eulTFG7dq1a9xo4CliR0/S//inb2VfFG1aKkkrUf7V+Q3NvlWvTnpVJ592cux9+IaNv6AZI5Uu8GnvNwNaUbn98TelC7/cRYctafwPQPv98/fa678Ttjj958uXKhAJqFu7bopeVOzSqOWuq1qnY58/Vl+u+FKSdN3A63TdwOvkGEdpnjRtqNmg/LsSPx6by/ZlqyxQpqLMIlWHqlUaKN32TE2o19os7VqdpX3a9VLFmtVaUbpcucccqqEHn6n9d9lfP6z5QXPXzNXy8uXqXdBb66rX6ajdjtKuObsq7IT1wdIPVJRZpH7t+8lje+Sy6zeFGmNkWZYc42hRySJl+bJUlFnUuACNkZzaZg87euKGq6pUvmyZMtq3lzsjQzJG67//XpZty/b59MvqxVq5bIHK7BoV9eitok7dVVpTqvz0fC3dsFRzV8/Vmqo12lCzQX63X7NXzVZ5oFxhJyy/26+qUJV+rfhVef485aXlqSJYoUUli7S+Zr08tkd+t18el0edczor05upbF+21latVa4/V3vm7ynHOKoIVah9ZnsFI0G5bJeMMYqYiNZVr5PLcik/LV9+t1/tMtrJ6/Kqc05n7dl2T7VNz9e3q6aqPFAij2udOmQN0MqKKq2pKlWHrA4qyizSd6u/09INSxVyQvK7I5q7+n19vvx7Zfn82i03U3lpecpPa6uQs16SLcekKxTZoPKgo1x/hhxjKeL4lOHNVdhZrQyPLcdELxZ9breyfV65rFx5XNlyWVKOP/of5LqqavndERVmWmqT1knpnmrlpxm57bYKO5UyktLcHeVxZag6VKHSQIV+LV8nt12jjtke5aXlKXrhukGOKVVpTYXCjl+O2aAcf5ZWVxYoy9tWOX7Jttpr4wVc3QVT3SBhdRdGnbXx4sWqff+TpEXaONBYQFKBooPaRSRFtKK8VBGnWh2y91bECci2fNHb/JWp6IVA3cWMS9ELv7oxAQAAABqn2ZP0HdmOkqR3+VORfspbFVf2/Et76fR5cyVF+yvbNzXdr+vl46K3NL05fw9NWTxED37xYL06E//bXX/63cImW2dD/vpWdxVUeuuVF996q9r07Klpl16q6tWr600v6t9fA++/X56MHeOxcItKFmlV5Sr179i/2X7kqgxWKmIiyvJmqTxYrpUVK7VH/h5xddZUrpHH5VGuP7dZYtiZGWOin0OLe6QBAACwdSTpW7EjJ+kPvbm7MpxrNXzOcP2S/Yu6X7HtgRFW3r1SRf/XyBbKLXhgwwE669Kz9PaJ9e9f/zUzoCuPWyRJ2n95pg5dmquJB/8iSfr9vLY69bsC9Ro5UvtcdllsHicUUunChcrr2VORYFCrK1erKLfDDnVHBgAAAAA0Fkn6VuwoSXrnMUValhufpLepcqskPazrp1+vSb0maUH+gm0ux5xiFOkRUWRVRCdeeaLe3uPthOIw4+NPj2B5uWbdd5/yevRQ+4EDldG+vSpXrFDVqlVqt99+kqT18+frxxdeULv99lNez57K27Phx0EBAAAAQGtAkr4VO06SXqhlufVv65akovIircyK769+xOIj9P5u0edxV15bobs/uUdXHXyV0jxpcfWsmze2VtdcV6Mxk8fo0a8aHmSh5KqS2j6jAAAAAIDtlUge2qjOlG3atNHatWslSeedd57Ky8t/e5TYbpsn6Ev/uFRvP/+2HnrrIa0csVLpngyNP2x8vQRdksI3hPXRuR+p6toq+dw+PXL8I1p31To9dvxjcttuzR05V2a8kRlvSNABAAAAoIU1qiU9MzNT3377rXbbbTe5XC6tXLlS7dq1a4n4mtzO0JK+OTPeSG8q+tSCw5s1LAAAAABAghLJQ92NWWD//v11wgknqG/fvjLGaPTo0UpLq99KK0lPPfVU4hGjHmMl2AthWPPEAQAAAABoOY1K0p977jn99a9/1aJFi2RZlkpLS1VTU9PcsbVqjU3RF17evI9EAwAAAAC0nEYl6YWFhbrjjjskSV27dtWzzz6r/Pz8Zg2stTONTNO75nVt5kgAAAAAAC2lUUn6ppYsWdIccWA72Vajxv4DAAAAAOwAtivDmz59uoYOHaru3bure/fuGjZsmD766KPtDuLhhx9Wly5d5Pf7VVxcrC+++KJR87344ouyLEsnnHDCdq87VSXcJx0AAAAAsMNLOEl/7rnnNHjwYKWnp2v06NGxQeSOPPJIvfDCCwkHMGnSJI0dO1bjx4/XN998o3333VdDhgzR6tVbH9l86dKluvLKKzVw4MCE1wkAAAAAQCpq1CPYNtWzZ09ddNFFGjNmTFz5fffdpyeeeELff/99QgEUFxfrgAMO0EMPPSRJchxHnTp10uWXX65rrrmmwXkikYgOPfRQnXfeefroo4+0YcMGvf76641a347yCLb2f26rX7PXbbXO34f+Xefvf34LRQQAAAAA2B6J5KEJt6QvXrxYQ4cOrVc+bNiwhPurB4NBff311xo8ePDGgGxbgwcP1owZM7Y43y233KKCggKdf/62E9RAIKCysrK4vx3BthL01VeuJkEHAAAAgJ1Mwkl6p06dNHXq1HrlU6ZMUadOnRJa1tq1axWJRFRYWBhXXlhYqJUrVzY4z8cff6wnn3xSTzzxRKPWMWHCBOXk5MT+Eo0xFRz080Gx18uuWKZfxvyidhntkhgRAAAAAKA5JDy6+5///GeNHj1as2bN0oABAyRJn3zyiZ555hndf//9TR7gpsrLy3XWWWfpiSeeUNu2bRs1z7hx4zR27NjY+7Kysh0uUV+Wsyz2ulPujhU7AAAAAKDxEk7SL730UhUVFenee+/VSy+9JCnaT33SpEn6/e9/n9Cy2rZtK5fLpVWrVsWVr1q1SkVFRfXqL1q0SEuXLo273d5xnOiGuN2aP3++unXrFjePz+eTz+dLKK5UsyJ7RbJDAAAAAAC0gISTdEk68cQTdeKJJ/7mlXu9XvXt21dTp06NPUbNcRxNnTpVo0aNqle/R48emjNnTlzZ9ddfr/Lyct1///07XAs5AAAAAACb2q4kvSmNHTtWI0aMUL9+/XTggQdq4sSJqqys1LnnnitJOvvss9WhQwdNmDBBfr9fvXr1ips/NzdXkuqVAwAAAACwo0l6kn7aaadpzZo1uvHGG7Vy5Ur16dNH7777bmwwuWXLlsm2Ex7fbqdy53t36uqjrlZBRkGyQwEAAAAANKOEn5O+o9tRnpNu3WzFXodvDuvzjp9rv0X7Kc2TlsSoAAAAAACJSiQPTXpLOrbNZVwa8PMAyZPsSAAAAAAAzSnh+8g/+OCD5ogD28LPKQAAAACw00s4ST/mmGPUrVs33Xrrrfr555+bIyY0JJLsAAAAAAAAzS3hJH358uUaNWqUXnnlFe22224aMmSIXnrpJQWDweaID3Va1cgBAAAAANA6JZykt23bVmPGjNGsWbP0+eefa4899tDIkSPVvn17jR49WrNnz26OOAEAAAAA2On9pmeb7b///ho3bpxGjRqliooKPfXUU+rbt68GDhyouXPnNlWMAAAAAAC0CtuVpIdCIb3yyis67rjj1LlzZ02ePFkPPfSQVq1apYULF6pz58465ZRTmjpWAAAAAAB2agmPGX755ZfrX//6l4wxOuuss3TXXXepV69esekZGRm655571L59+yYNFAAAAACAnV3CSfq8efP04IMP6qSTTpLP52uwTtu2bXlUGwAAAAAACUr4dvfx48frlFNOqZegh8Nhffjhh5Ikt9utQYMGNU2EAAAAAAC0Egkn6YcffrhKSkrqlZeWlurwww9vkqAAAAAAAGiNEk7SjTGyLKte+bp165SRkdEkQQEAAAAA0Bo1uk/6SSedJEmyLEvnnHNO3O3ukUhE3377rQYMGND0ESKqMNkBAAAAAACaW6OT9JycHEnRlvSsrCylpaXFpnm9Xh100EG68MILmz5CRN2d7AAAAAAAAM2t0Un6008/LUnq0qWLrrzySm5tb0nZks5KdhAAAAAAgOaW8CPYxo8f3xxxYGuKkh0AAAAAAKAlNCpJ33///TV16lTl5eVpv/32a3DguDrffPNNkwUHAAAAAEBr0qgk/fe//31soLgTTjihOeNBQ35MdgAAAAAAgJZgGWNMsoNoSWVlZcrJyVFpaamys7OTHc4WWTdvvFvB3GSkVnWUAAAAAGDnkUgemvBz0gEAAAAAQPNo1O3ueXl5W+2HvqmSkpLfFBAAAAAAAK1Vo5L0iRMnNnMYAAAAAACgUUn6iBEjmjsOAAAAAABavUYl6WVlZbHO7WVlZVutm8qDsQEAAAAAkMoa3Sf9119/VUFBgXJzcxvsn26MkWVZikQiTR4kAAAAAACtQaOS9Pfff19t2rSRJH3wwQfNGhAAAAAAAK1Vo5L0QYMGNfgaAAAAAAA0nUYl6Ztbv369nnzySX3//feSpL322kvnnnturLUdAAAAAAAkzk50hg8//FBdunTRAw88oPXr12v9+vV64IEH1LVrV3344YfNESMAAAAAAK1Cwi3pl112mU477TQ9+uijcrlckqRIJKKRI0fqsssu05w5c5o8SAAAAAAAWoOEW9IXLlyoP//5z7EEXZJcLpfGjh2rhQsXNmlwAAAAAAC0Jgkn6fvvv3+sL/qmvv/+e+27775NEhQAAAAAAK1Ro253//bbb2OvR48erSuuuEILFy7UQQcdJEn67LPP9PDDD+uOO+5onihbofZ2hlY4lckOAwAAAADQgixjjNlWJdu2ZVmWtlXVsixFIpEmC645lJWVKScnR6WlpcrOzk52OFvU6S+Z+qU2STdLjPRMcuMBAAAAAGyfRPLQRrWkL1mypEkCQ+PF/RxyYLKiAAAAAAC0pEYl6Z07d27uOLA1FyQ7AAAAAABAS0j4EWx15s2bp2XLlikYDMaVDxs27DcHhc1a0r3JigIAAAAA0JISTtIXL16sE088UXPmzInrp25ZliSlfJ/0HcVh3vZ6oWZBssMAAAAAALSghB/BdsUVV6hr165avXq10tPTNXfuXH344Yfq16+fpk2b1gwhtk67urIkSYNCeUmOBAAAAADQUhJuSZ8xY4bef/99tW3bVrZty7ZtHXLIIZowYYJGjx6tmTNnNkecrZY38d9RAAAAAAA7qIQzwEgkoqysaCtv27ZttWLFCknRweXmz5/ftNEBAAAAANCKJNyS3qtXL82ePVtdu3ZVcXGx7rrrLnm9Xj3++OPabbfdmiNGAAAAAABahYST9Ouvv16VlZWSpFtuuUW/+93vNHDgQOXn52vSpElNHiAAAAAAAK1Fwkn6kCFDYq+7d++uH374QSUlJcrLy4uN8A4AAAAAABK33c9Jl6Sff/5ZktSpU6cmCQYAAAAAgNYs4YHjwuGwbrjhBuXk5KhLly7q0qWLcnJydP311ysUCjVHjK0a9yYAAAAAQOuRcEv65Zdfrtdee0133XWX+vfvLyn6WLabbrpJ69at06OPPtrkQQIAAAAA0BoknKS/8MILevHFF3XsscfGyvbZZx916tRJw4cPJ0kHAAAAAGA7JXy7u8/nU5cuXeqVd+3aVV6vtyliAgAAAACgVUo4SR81apT+8pe/KBAIxMoCgYBuu+02jRo1qkmDa81MsgMAAAAAALS4Rt3uftJJJ8W9nzJlijp27Kh9991XkjR79mwFg0EdeeSRTR8hAAAAAACtRKOS9JycnLj3J598ctx7HsEGAAAAAMBv16gk/emnn27uOAAAAAAAaPUSHt29zpo1azR//nxJ0p577ql27do1WVAAAAAAALRGCQ8cV1lZqfPOO0+77LKLDj30UB166KFq3769zj//fFVVVTVHjAAAAAAAtAoJJ+ljx47V9OnT9Z///EcbNmzQhg0b9MYbb2j69On685//3BwxAgAAAADQKiR8u/urr76qV155RYcddlis7LjjjlNaWppOPfVUPfroo00ZHwAAAAAArUbCLelVVVUqLCysV15QUMDt7gAAAAAA/AYJJ+n9+/fX+PHjVVNTEyurrq7WzTffrP79+zdpcAAAAAAAtCYJ3+4+ceJEHXPMMerYsaP23XdfSdLs2bPl9/s1efLkJg8QAAAAAIDWIuEkvXfv3lqwYIGef/55/fDDD5Kk4cOH64wzzlBaWlqTBwgAAAAAQGuRUJIeCoXUo0cP/fe//9WFF17YXDFBkpFJdggAAAAAgBaWUJ90j8cT1xcdzc9KdgAAAAAAgBaT8MBxl112me68806Fw+HmiAe1aEcHAAAAgNYn4T7pX375paZOnar//e9/6t27tzIyMuKmv/baa00WHAAAAAAArUnCSXpubq5OPvnk5ogFAAAAAIBWLeEk/emnn26OOAAAAAAAaPUa3SfdcRzdeeedOvjgg3XAAQfommuuUXV1dXPGBgAAAABAq9LoJP22227Ttddeq8zMTHXo0EH333+/LrvssuaMDQAAAACAVqXRSfo///lPPfLII5o8ebJef/11/ec//9Hzzz8vx3GaMz4AAAAAAFqNRifpy5Yt03HHHRd7P3jwYFmWpRUrVjRLYAAAAAAAtDaNTtLD4bD8fn9cmcfjUSgUavKgAAAAAABojRo9ursxRuecc458Pl+srKamRpdcckncs9J5TjoAAAAAANun0S3pI0aMUEFBgXJycmJ/Z555ptq3bx9Xtj0efvhhdenSRX6/X8XFxfriiy+2WPeJJ57QwIEDlZeXp7y8PA0ePHir9QEAAAAA2FE0uiW9uZ6PPmnSJI0dO1aPPfaYiouLNXHiRA0ZMkTz589XQUFBvfrTpk3T8OHDNWDAAPn9ft155506+uijNXfuXHXo0KFZYkwKY5IdAQAAAACghTW6Jb253Hfffbrwwgt17rnnaq+99tJjjz2m9PR0PfXUUw3Wf/755zVy5Ej16dNHPXr00N///nc5jqOpU6e2cOQtw5KV7BAAAAAAAC0kqUl6MBjU119/rcGDB8fKbNvW4MGDNWPGjEYto6qqSqFQSG3atGlweiAQUFlZWdwfAAAAAACpKKlJ+tq1axWJRFRYWBhXXlhYqJUrVzZqGVdffbXat28fl+hvasKECXF95jt16vSb4wYAAAAAoDkk/Xb33+KOO+7Qiy++qH//+9/1Hg9XZ9y4cSotLY39/fzzzy0cJQAAAAAAjdPogeOaQ9u2beVyubRq1aq48lWrVqmoqGir895zzz264447NGXKFO2zzz5brOfz+eIeGwcAAAAAQKpKaku61+tV37594wZ9qxsErn///luc76677tJf/vIXvfvuu+rXr19LhAoAAAAAQLNLaku6JI0dO1YjRoxQv379dOCBB2rixImqrKzUueeeK0k6++yz1aFDB02YMEGSdOedd+rGG2/UCy+8oC5dusT6rmdmZiozMzNp2wEAAAAAwG+V9CT9tNNO05o1a3TjjTdq5cqV6tOnj959993YYHLLli2TbW9s8H/00UcVDAb1hz/8IW4548eP10033dSSoQMAAAAA0KSSnqRL0qhRozRq1KgGp02bNi3u/dKlS5s/IAAAAAAAkmCHHt0dAAAAAICdCUk6AAAAAAApgiQ9RZlkBwAAAAAAaHEk6SnOSnYAAAAAAIAWQ5IOAAAAAECKIEkHAAAAACBFkKQDAAAAAJAiSNIBAAAAAEgRJOmpiuHdAQAAAKDVIUkHAAAAACBFkKQDAAAAAJAiSNIBAAAAAEgRJOkpi07pAAAAANDakKQDAAAAAJAiSNJTFO3oAAAAAND6kKSnOCvZAQAAAAAAWgxJOgAAAAAAKYIkHQAAAACAFEGSDgAAAABAiiBJBwAAAAAgRZCkAwAAAACQIkjSAQAAAABIESTpKYsnpQMAAABAa0OSDgAAAABAiiBJBwAAAAAgRZCkAwAAAACQIkjSAQAAAABIESTpKYph4wAAAACg9SFJT3GWrGSHAAAAAABoISTpAAAAAACkCJJ0AAAAAABSBEk6AAAAAAApgiQdAAAAAIAUQZIOAAAAAECKIEkHAAAAACBFkKQDAAAAAJAiSNIBAAAAAEgRJOkAAAAAAKQIkvRUZyU7AAAAAABASyFJT1FGJtkhAAAAAABaGEk6AAAAAAApgiQdAAAAAIAUQZIOAAAAAECKIEkHAAAAACBFkKQDAAAAAJAiSNIBAAAAAEgRJOkAAAAAAKQIknQAAAAAAFIESToAAAAAACmCJB0AAAAAgBRBkg4AAAAAQIogSQcAAAAAIEWQpKcok+wAAAAAAAAtjiQ9xVnJDgAAAAAA0GJI0gEAAAAASBEk6QAAAAAApAiSdAAAAAAAUgRJOgAAAAAAKYIkPcUxcBwAAAAAtB4k6QAAAAAApAiSdAAAAAAAUgRJOgAAAAAAKYIkHQAAAACAFEGSnqpMsgMAAAAAALQ0kvQUZcjSAQAAAKDVIUlPeTyEDQAAAABaC5J0AAAAAABSBEk6AAAAAAApgiQdAAAAAIAUQZIOAAAAAECKIEkHAAAAACBFkKQDAAAAAJAiSNIBAAAAAEgRKZGkP/zww+rSpYv8fr+Ki4v1xRdfbLX+yy+/rB49esjv96t37956++23WyhSAAAAAACaT9KT9EmTJmns2LEaP368vvnmG+27774aMmSIVq9e3WD9Tz/9VMOHD9f555+vmTNn6oQTTtAJJ5yg7777roUjBwAAAACgaVnGGJPMAIqLi3XAAQfooYcekiQ5jqNOnTrp8ssv1zXXXFOv/mmnnabKykr997//jZUddNBB6tOnjx577LFtrq+srEw5OTkqLS1VdnZ2021IEzv2+gK961mjoeECvfmXVckOBwAAAACwnRLJQ5Pakh4MBvX1119r8ODBsTLbtjV48GDNmDGjwXlmzJgRV1+ShgwZssX6gUBAZWVlcX87grXhGkmS20r6zQ4AAAAAgBaS1Axw7dq1ikQiKiwsjCsvLCzUypUrG5xn5cqVCdWfMGGCcnJyYn+dOnVqmuCb2R8691Pf6kyNPPDcZIcCAAAAAGgh7mQH0NzGjRunsWPHxt6XlZXtEIn61Ze+r6uTHQQAAAAAoEUlNUlv27atXC6XVq2K73O9atUqFRUVNThPUVFRQvV9Pp98Pl/TBAwAAAAAQDNK6u3uXq9Xffv21dSpU2NljuNo6tSp6t+/f4Pz9O/fP66+JL333ntbrA8AAAAAwI4i6be7jx07ViNGjFC/fv104IEHauLEiaqsrNS550b7Yp999tnq0KGDJkyYIEm64oorNGjQIN177706/vjj9eKLL+qrr77S448/nszNAAAAAADgN0t6kn7aaadpzZo1uvHGG7Vy5Ur16dNH7777bmxwuGXLlsm2Nzb4DxgwQC+88IKuv/56XXvttdp99931+uuvq1evXsnaBAAAAAAAmkTSn5Pe0naU56QDAAAAAHYOO8xz0gEAAAAAwEYk6QAAAAAApAiSdAAAAAAAUgRJOgAAAAAAKYIkHQAAAACAFEGSDgAAAABAiiBJBwAAAAAgRZCkAwAAAACQIkjSAQAAAABIESTpAAAAAACkCJJ0AAAAAABSBEk6AAAAAAApgiQdAAAAAIAU4U52AC3NGCNJKisrS3IkAAAAAIDWoC7/rMtHt6bVJenl5eWSpE6dOiU5EgAAAABAa1JeXq6cnJyt1rFMY1L5nYjjOFqxYoWysrJkWVayw9mqsrIyderUST///LOys7OTHQ5QD+coUh3nKFId5yhSHecoUt2Oco4aY1ReXq727dvLtrfe67zVtaTbtq2OHTsmO4yEZGdnp/QJB3COItVxjiLVcY4i1XGOItXtCOfotlrQ6zBwHAAAAAAAKYIkHQAAAACAFEGSnsJ8Pp/Gjx8vn8+X7FCABnGOItVxjiLVcY4i1XGOItXtjOdoqxs4DgAAAACAVEVLOgAAAAAAKYIkHQAAAACAFEGSDgAAAABAiiBJBwAAAAAgRZCkp6iHH35YXbp0kd/vV3Fxsb744otkh4SdwIcffqihQ4eqffv2sixLr7/+etx0Y4xuvPFG7bLLLkpLS9PgwYO1YMGCuDolJSU644wzlJ2drdzcXJ1//vmqqKiIq/Ptt99q4MCB8vv96tSpk+666656sbz88svq0aOH/H6/evfurbfffrvJtxc7ngkTJuiAAw5QVlaWCgoKdMIJJ2j+/PlxdWpqanTZZZcpPz9fmZmZOvnkk7Vq1aq4OsuWLdPxxx+v9PR0FRQU6P/+7/8UDofj6kybNk3777+/fD6funfvrmeeeaZePHwXY3OPPvqo9tlnH2VnZys7O1v9+/fXO++8E5vO+YlUc8cdd8iyLP3pT3+KlXGeIpluuukmWZYV99ejR4/YdM5PSQYp58UXXzRer9c89dRTZu7cuebCCy80ubm5ZtWqVckODTu4t99+21x33XXmtddeM5LMv//977jpd9xxh8nJyTGvv/66mT17thk2bJjp2rWrqa6ujtU55phjzL777ms+++wz89FHH5nu3bub4cOHx6aXlpaawsJCc8YZZ5jvvvvO/Otf/zJpaWnmb3/7W6zOJ598Ylwul7nrrrvMvHnzzPXXX288Ho+ZM2dOs+8DpLYhQ4aYp59+2nz33Xdm1qxZ5rjjjjO77rqrqaioiNW55JJLTKdOnczUqVPNV199ZQ466CAzYMCA2PRwOGx69eplBg8ebGbOnGnefvtt07ZtWzNu3LhYncWLF5v09HQzduxYM2/ePPPggw8al8tl3n333VgdvovRkDfffNO89dZb5scffzTz58831157rfF4POa7774zxnB+IrV88cUXpkuXLmafffYxV1xxRayc8xTJNH78eLP33nubX3/9Nfa3Zs2a2HTOT2NI0lPQgQceaC677LLY+0gkYtq3b28mTJiQxKiws9k8SXccxxQVFZm77747VrZhwwbj8/nMv/71L2OMMfPmzTOSzJdffhmr88477xjLsszy5cuNMcY88sgjJi8vzwQCgVidq6++2uy5556x96eeeqo5/vjj4+IpLi42F198cZNuI3Z8q1evNpLM9OnTjTHRc9Lj8ZiXX345Vuf77783ksyMGTOMMdEfo2zbNitXrozVefTRR012dnbsvLzqqqvM3nvvHbeu0047zQz5//buP7Sq+o/j+Ouu273O5r13a7q7jC2l68LKH9utcckS2mxpQQTSCJFVUFgOC0zYP6XUH5MIQaOCKBIiWCuwoh/i2OZipqPmbs5al4xr8w/nMJ271mhre3//sB123RwWX71HfT7gwr3n8773vC+8OPjevd5PVZXzmGsxLlZubq69++675BOukkqlLBKJWFNTky1fvtwZ0skpMm3z5s22ePHiKdfI5zl83d1lhoeH1dnZqcrKSudYVlaWKisrtX///gx2hqtdMplUX19fWvaCwaDKy8ud7O3fv1+hUEjRaNSpqaysVFZWljo6Opya++67Tz6fz6mpqqpSIpHQ6dOnnZqJ5xmvIeM435kzZyRJeXl5kqTOzk6NjIyk5ee2225TUVFRWk7vvPNOFRQUODVVVVUaHBzUjz/+6NRMl0GuxbgYo6Ojamho0B9//KFYLEY+4Srr16/XQw89NClL5BRu8Msvv+imm27S/PnztWbNGvX29koin04vmW4A6U6ePKnR0dG00ElSQUGB+vr6MtQVrgXj+Zoue319fZozZ07autfrVV5eXlrNVK8x8RwXqiHjmGhsbEwvvPCC7rnnHt1xxx2SzmXH5/MpFAql1Z6f0/+awcHBQQ0NDXEtxrS6u7uVk5Mjv9+vdevWadeuXVq4cCH5hGs0NDTo4MGDqq+vn7RGTpFp5eXl2rlzp3bv3q23335byWRS9957r1KpFPn8hzfTDQAAMJX169fr8OHDam9vz3QrQJqSkhLF43GdOXNGn3zyiWpqatTW1pbptgBJ0rFjx/T888+rqalJM2bMyHQ7wCQrV6507i9atEjl5eUqLi5WY2OjsrOzM9iZe/BJusvk5+fruuuum/QLhidOnFA4HM5QV7gWjOdruuyFw2H19/enrf/99986depUWs1UrzHxHBeqIeMYV1tbqy+++EKtra26+eabnePhcFjDw8MaGBhIqz8/p/81g4FAQNnZ2VyLMS2fz6dbb71VZWVlqq+v1+LFi7V9+3byCVfo7OxUf3+/SktL5fV65fV61dbWph07dsjr9aqgoICcwlVCoZAWLFigI0eOcB39B0O6y/h8PpWVlam5udk5NjY2pubmZsVisQx2hqvdvHnzFA6H07I3ODiojo4OJ3uxWEwDAwPq7Ox0alpaWjQ2Nqby8nKn5ptvvtHIyIhT09TUpJKSEuXm5jo1E88zXkPGYWaqra3Vrl271NLSonnz5qWtl5WV6frrr0/LTyKRUG9vb1pOu7u70/6g1NTUpEAgoIULFzo102WQazH+jbGxMf3111/kE65QUVGh7u5uxeNx5xaNRrVmzRrnPjmFm5w9e1a//vqrCgsLuY6Oy/Qv12GyhoYG8/v9tnPnTvvpp5/smWeesVAolPYLhsB/kUqlrKury7q6ukySbdu2zbq6uuy3334zs3NbsIVCIfvss8/s0KFD9sgjj0y5BdvSpUuto6PD2tvbLRKJpG3BNjAwYAUFBbZ27Vo7fPiwNTQ02MyZMydtweb1eu3111+3np4e27x5M1uwwczMnn32WQsGg7Z37960rVn+/PNPp2bdunVWVFRkLS0t9v3331ssFrNYLOasj2/N8sADD1g8Hrfdu3fb7Nmzp9yaZdOmTdbT02NvvvnmlFuzcC3G+erq6qytrc2SyaQdOnTI6urqzOPx2J49e8yMfMKdJv66uxk5RWZt3LjR9u7da8lk0vbt22eVlZWWn59v/f39ZkY+zdiCzbXeeOMNKyoqMp/PZ3fffbcdOHAg0y3hKtDa2mqSJt1qamrM7Nw2bC+99JIVFBSY3++3iooKSyQSaa/x+++/2+OPP245OTkWCATsySeftFQqlVbzww8/2LJly8zv99vcuXNt69atk3ppbGy0BQsWmM/ns9tvv92+/PLLS/a+ceWYKp+S7P3333dqhoaG7LnnnrPc3FybOXOmPfroo3b8+PG01zl69KitXLnSsrOzLT8/3zZu3GgjIyNpNa2trbZkyRLz+Xw2f/78tHOM41qM8z311FNWXFxsPp/PZs+ebRUVFc6AbkY+4U7nD+nkFJlUXV1thYWF5vP5bO7cuVZdXW1Hjhxx1smnmcfMLDOf4QMAAAAAgIn4P+kAAAAAALgEQzoAAAAAAC7BkA4AAAAAgEswpAMAAAAA4BIM6QAAAAAAuARDOgAAAAAALsGQDgAAAACASzCkAwAAAADgEgzpAABgSlu2bNGSJUv+1XM8Ho8+/fTTS9IPAADXAoZ0AACuAR6PZ9rbli1bJj3nxRdfVHNz8+VvFgCAa5g30w0AAIBL7/jx4879jz76SC+//LISiYRzLCcnx7lvZhodHVVOTk7acQAAcOnxSToAANeAcDjs3ILBoDwej/P4559/1qxZs/T111+rrKxMfr9f7e3tk77u/t1332nFihXKz89XMBjU8uXLdfDgwQuec3h4WLW1tSosLNSMGTNUXFys+vr6y/BuAQC4cjGkAwAASVJdXZ22bt2qnp4eLVq0aNJ6KpVSTU2N2tvbdeDAAUUiEa1atUqpVGrK19uxY4c+//xzNTY2KpFI6MMPP9Qtt9xyid8FAABXNr7uDgAAJEmvvPKKVqxYccH1+++/P+3xO++8o1AopLa2Nj388MOT6nt7exWJRLRs2TJ5PB4VFxf/33sGAOBqwyfpAABAkhSNRqddP3HihJ5++mlFIhEFg0EFAgGdPXtWvb29U9Y/8cQTisfjKikp0YYNG7Rnz55L0TYAAFcVhnQAACBJuuGGG6Zdr6mpUTwe1/bt2/Xtt98qHo/rxhtv1PDw8JT1paWlSiaTevXVVzU0NKTHHntMq1evvhStAwBw1eDr7gAA4KLs27dPb731llatWiVJOnbsmE6ePDntcwKBgKqrq1VdXa3Vq1frwQcf1KlTp5SXl3c5WgYA4IrDkA4AAC5KJBLRBx98oGg0qsHBQW3atEnZ2dkXrN+2bZsKCwu1dOlSZWVl6eOPP1Y4HFYoFLp8TQMAcIXh6+4AAOCivPfeezp9+rRKS0u1du1abdiwQXPmzLlg/axZs/Taa68pGo3qrrvu0tGjR/XVV18pK4t/fgAAcCEeM7NMNwEAAAAAAPgkHQAAAAAA12BIBwAAAADAJRjSAQAAAABwCYZ0AAAAAABcgiEdAAAAAACXYEgHAAAAAMAlGNIBAAAAAHAJhnQAAAAAAFyCIR0AAAAAAJdgSAcAAAAAwCUY0gEAAAAAcIn/ATLp3kJ/2scpAAAAAElFTkSuQmCC\n",
      "text/plain": [
       "<Figure size 1200x600 with 1 Axes>"
      ]
     },
     "metadata": {},
     "output_type": "display_data"
    }
   ],
   "source": [
    "fig, ax = plt.subplots(figsize=(12, 6))\n",
    "ax.axhline(y=16/36, color = \"red\", label = 'Theoretical Probability')\n",
    "a1 = sim(50000)[1]\n",
    "a2 = sim(50000)[1]\n",
    "a3 = sim(50000)[1]\n",
    "a4 = sim(50000)[1]\n",
    "a5 = sim(50000)[1]\n",
    "ax.plot(a1, color = 'pink')\n",
    "ax.plot(a2, color = 'yellow')\n",
    "ax.plot(a3, color = 'Magenta')\n",
    "ax.plot(a4, color = 'brown')\n",
    "ax.plot(a5, color = 'green')\n",
    "plt.title(\"50000 simulations for dice roll for equal or difference by 1\")\n",
    "plt.xlabel(\"Trials\")\n",
    "plt.ylabel(\"Probability of Close Rolls and Equal\")"
   ]
  },
  {
   "cell_type": "markdown",
   "id": "c1c71570",
   "metadata": {
    "deletable": false,
    "editable": false
   },
   "source": [
    "<!-- END QUESTION -->\n",
    "\n",
    "<!-- BEGIN QUESTION -->\n",
    "\n",
    "**Part 6D (1 pt)**: Describe the behavior of the running estimates as the number of trials increases.\n",
    "\n",
    "i).  What value(s) are they converging to?  \n",
    "ii).  How many trials does it take until they appear to converge?"
   ]
  },
  {
   "cell_type": "markdown",
   "id": "29bd37ec",
   "metadata": {},
   "source": [
    "i)\n",
    "\n",
    "They all converge to 4/9\n",
    "\n",
    "\n",
    "ii)\n",
    "\n",
    "It takes about 15000 trials until they seem to converge. This is why we run many simulations in order to remove any uncertainties."
   ]
  },
  {
   "cell_type": "markdown",
   "id": "cf1943b4",
   "metadata": {
    "deletable": false,
    "editable": false
   },
   "source": [
    "<!-- END QUESTION -->\n",
    "\n",
    "<!-- BEGIN QUESTION -->\n",
    "\n",
    "[Back to top](#top)\n",
    "\n",
    "<a id='p7'></a>\n",
    "\n",
    "## Problem 7    \n",
    "    \n",
    "Three brands of coffee, $X$, $Y$ and $Z$, are to be ranked according to taste by a single judge.  Define the following events:\n",
    "\n",
    "Event A: Brand $X$ is preferred to $Y$\n",
    "\n",
    "Event B: Brand $X$ is ranked best.\n",
    "\n",
    "Event C: Brand $X$ is ranked second best.\n",
    "\n",
    "Event D: Brand $X$ is ranked third best.\n",
    "\n",
    "If the judge actually has no taste preference and just randomly assigns ranks to the brands, which of the following events are independent and which are dependent?  Justify your answers using the mathematical definition of independence.  Write up your full solution using LaTeX.\n",
    "\n",
    "**Part 7a (2 pts)**.  Are events $A$ and $B$ independent or dependent?\n",
    "\n",
    "**Part 7b (2 pts)**. Are events $A$ and $C$ independent or dependent?\n",
    "\n",
    "**Part 7c (2 pts)**. Are events $A$ and $D$ independent or dependent?\n",
    "\n",
    "Answer all 3 parts using LaTeX in the ONE cell provided below.  "
   ]
  },
  {
   "cell_type": "markdown",
   "id": "4fa309cc-9094-42e6-aae0-bbe0a2286ad5",
   "metadata": {},
   "source": [
    "7a)\n",
    "\n",
    "We see that if by Event B, Brand X is ranked best, \n",
    "and that in Event A Brand X is preffered more than\n",
    "Brand Y, we see that it is dependent. \n",
    "Thus we need to show that $P(A) \\neq P(A|B)$ , where $P(A) = \\frac{1}{3}$, \n",
    "while $P(A|B) = 1$. Thus we show $P(A) \\neq P(A|B)$ and it is dependent.\n",
    "\n",
    "\n",
    "7b)\n",
    "\n",
    "The information in with A or C is vague. We know that Brand X is second best, but it doesn't tell anything compared to Brand Y. We can show its independency that $P(C|A) = P(C)$, where $P(C|A) = \\frac{1}{3}$ and $P(A) = \\frac{1}{3}$. Thus we show $P(C|A) = P(C)$ that it is independent\n",
    "\n",
    "7c)\n",
    "\n",
    "We know that Brand X is ranked third or last. This means that there is 0 chance that X is preferred to Y. Thus we see $P(D|A) = 0$ and $P(D) = \\frac{1}{3}$, that $P(D|A) \\neq P(D)$. Thus we can conclude they are dependent.\n",
    "\n",
    "\n"
   ]
  },
  {
   "cell_type": "markdown",
   "id": "dcde8c8b",
   "metadata": {
    "deletable": false,
    "editable": false
   },
   "source": [
    "<!-- END QUESTION -->\n",
    "\n",
    "To check your answer for Problem 7, enter the answer you came up as a list of strings (`['in/dependent', 'in/dependent', 'in/dependent']`) in the cell below. Note that this is just a public test. Full credit requires that you show all your work written in LaTeX and fully justifying your answer above."
   ]
  },
  {
   "cell_type": "code",
   "execution_count": 346,
   "id": "9d9b3549",
   "metadata": {
    "tags": []
   },
   "outputs": [],
   "source": [
    "q7_answer = ['dependent','independent','dependent']"
   ]
  },
  {
   "cell_type": "code",
   "execution_count": 347,
   "id": "92a94dee",
   "metadata": {
    "deletable": false,
    "editable": false
   },
   "outputs": [
    {
     "data": {
      "text/html": [
       "<p><strong><pre style='display: inline;'>q7check</pre></strong> passed! 🙌</p>"
      ],
      "text/plain": [
       "q7check results: All test cases passed!"
      ]
     },
     "execution_count": 347,
     "metadata": {},
     "output_type": "execute_result"
    }
   ],
   "source": [
    "grader.check(\"q7check\")"
   ]
  },
  {
   "cell_type": "markdown",
   "id": "169d7663",
   "metadata": {},
   "source": [
    "<br/><br/>\n",
    "<hr style=\"border: 5px solid #003262;\" />\n",
    "<hr style=\"border: 1px solid #fdb515;\" />\n",
    "\n",
    "## Congratulations! You have finished Homework 5!"
   ]
  },
  {
   "cell_type": "markdown",
   "id": "cc31acf9",
   "metadata": {},
   "source": [
    "If you discussed this assignment with any other students in the class (in a manner that is acceptable as described by the Collaboration policy above) please **include their names** here:\n",
    "\n",
    "**Collaborators**: *list collaborators here*"
   ]
  },
  {
   "cell_type": "markdown",
   "id": "46739932",
   "metadata": {},
   "source": [
    "### Submission Instructions\n",
    "\n",
    "Before proceeding any further, **save this notebook.**\n",
    "\n",
    "After running the `grader.export()` cell provided below, **2 files will be created**: a zip file and pdf file.  You can download them using the links provided below OR by finding them in the same folder where this juptyer notebook resides in your JuptyerHub.\n",
    "\n",
    "To receive credit on this assignment, **you must submit BOTH of these files\n",
    "to their respective Gradescope portals:** \n",
    "\n",
    "* **Homework 5 Autograded**: Submit the zip file that is output by the `grader.export()` cell below to the HW5 Autograded assignment in Gradescope.\n",
    "\n",
    "* **Homework 5 Manually Graded**: Submit your hw05.PDF to the HW1 Manually Graded assignment in Gradescope.  \n",
    "\n",
    "\n",
    "**You are responsible for ensuring your submission follows our requirements. We will not be granting regrade requests nor extensions to submissions that don't follow instructions.** If you encounter any difficulties with submission, please don't hesitate to reach out to staff prior to the deadline."
   ]
  },
  {
   "cell_type": "markdown",
   "id": "0a205cde",
   "metadata": {
    "deletable": false,
    "editable": false
   },
   "source": [
    "## Submission\n",
    "\n",
    "Make sure you have run all cells in your notebook in order before running the cell below, so that all images/graphs appear in the output. The cell below will generate a zip file for you to submit. **Please save before exporting!**\n",
    "\n",
    "AFTER running the cell below, click on <a href='hw05.pdf' download>this link to download the PDF </a> to upload to Gradescope.  There will be a separate link that appears after running the cell below with a link to download the zip file to upload to Gradescope."
   ]
  },
  {
   "cell_type": "code",
   "execution_count": 349,
   "id": "8dc7af21",
   "metadata": {
    "deletable": false,
    "editable": false
   },
   "outputs": [
    {
     "name": "stdout",
     "output_type": "stream",
     "text": [
      "Running your submission against local test cases...\n",
      "\n",
      "\n",
      "\n",
      "Your submission received the following results when run against available test cases:\n",
      "\n",
      "    q1a results: All test cases passed!\n",
      "\n",
      "    q1b results: All test cases passed!\n",
      "\n",
      "    q1c results: All test cases passed!\n",
      "\n",
      "    q14 results: All test cases passed!\n",
      "\n",
      "    q2acheck results: All test cases passed!\n",
      "\n",
      "    q2bcheck results: All test cases passed!\n",
      "\n",
      "    q3check results: All test cases passed!\n",
      "\n",
      "    q4acheck results: All test cases passed!\n",
      "\n",
      "    q4i results: All test cases passed!\n",
      "\n",
      "    q4ii results: All test cases passed!\n",
      "\n",
      "    q5acheck results: All test cases passed!\n",
      "\n",
      "    q5bcheck results: All test cases passed!\n",
      "\n",
      "    q5ccheck results: All test cases passed!\n",
      "\n",
      "    q6acheck results: All test cases passed!\n",
      "\n",
      "    q7check results: All test cases passed!\n"
     ]
    },
    {
     "data": {
      "text/html": [
       "\n",
       "                    <p>\n",
       "                        Your submission has been exported. Click\n",
       "                        <a href=\"hw05_2023_09_29T05_15_43_658777.zip\" download=\"hw05_2023_09_29T05_15_43_658777.zip\" target=\"_blank\">here</a> to download\n",
       "                        the zip file.\n",
       "                    </p>\n",
       "                "
      ],
      "text/plain": [
       "<IPython.core.display.HTML object>"
      ]
     },
     "metadata": {},
     "output_type": "display_data"
    }
   ],
   "source": [
    "# Save your notebook first, then run this cell to export your submission.\n",
    "grader.export(run_tests=True)"
   ]
  },
  {
   "cell_type": "markdown",
   "id": "099feed6",
   "metadata": {},
   "source": [
    " "
   ]
  },
  {
   "cell_type": "code",
   "execution_count": null,
   "id": "b86db93c-e9a5-4db8-8911-0dda90bb10f9",
   "metadata": {},
   "outputs": [],
   "source": []
  },
  {
   "cell_type": "code",
   "execution_count": null,
   "id": "c3304d52-96cd-4a2c-a9fb-bd2dd893884d",
   "metadata": {},
   "outputs": [],
   "source": []
  },
  {
   "cell_type": "code",
   "execution_count": null,
   "id": "28bdebfd-0d2c-4e25-9a03-cb854da06993",
   "metadata": {},
   "outputs": [],
   "source": []
  },
  {
   "cell_type": "code",
   "execution_count": null,
   "id": "c4ec150c-0553-4847-b58e-810489c0e7f5",
   "metadata": {},
   "outputs": [],
   "source": []
  },
  {
   "cell_type": "code",
   "execution_count": null,
   "id": "a498f2db-4c72-4ced-936f-412c59b50b57",
   "metadata": {},
   "outputs": [],
   "source": []
  },
  {
   "cell_type": "code",
   "execution_count": null,
   "id": "829d5c8c-abfc-44a0-926b-7ae028890800",
   "metadata": {},
   "outputs": [],
   "source": []
  },
  {
   "cell_type": "code",
   "execution_count": null,
   "id": "db4d418c-9429-4c87-b415-13f4d35e3afb",
   "metadata": {},
   "outputs": [],
   "source": []
  },
  {
   "cell_type": "code",
   "execution_count": null,
   "id": "4d861411-6ef3-4bfd-82b7-cd3cd4e0961e",
   "metadata": {},
   "outputs": [],
   "source": []
  },
  {
   "cell_type": "code",
   "execution_count": null,
   "id": "deecd68f-8934-453e-8f93-3754eb09ecf5",
   "metadata": {},
   "outputs": [],
   "source": []
  },
  {
   "cell_type": "code",
   "execution_count": null,
   "id": "bad0d3d7-b7ad-424e-b180-8e1604aa337d",
   "metadata": {},
   "outputs": [],
   "source": []
  },
  {
   "cell_type": "code",
   "execution_count": null,
   "id": "205633d7-6557-49ad-a811-945d4fb3a3be",
   "metadata": {},
   "outputs": [],
   "source": []
  }
 ],
 "metadata": {
  "kernelspec": {
   "display_name": "Python 3 (ipykernel)",
   "language": "python",
   "name": "python3"
  },
  "language_info": {
   "codemirror_mode": {
    "name": "ipython",
    "version": 3
   },
   "file_extension": ".py",
   "mimetype": "text/x-python",
   "name": "python",
   "nbconvert_exporter": "python",
   "pygments_lexer": "ipython3",
<<<<<<< HEAD
   "version": "3.9.12"
=======
   "version": "3.10.8"
>>>>>>> ccb030e52e15c4f2411da34ecac9b892c6aa88f7
  },
  "otter": {
   "OK_FORMAT": true,
   "tests": {
    "q14": {
     "name": "q14",
     "points": 1,
     "suites": [
      {
       "cases": [
        {
         "code": ">>> assert np.isclose(lone_winners,(18/38)**10 + (18/38)**10 + (2/38)**10 )\n",
         "hidden": false,
         "locked": false
        }
       ],
       "scored": true,
       "setup": "",
       "teardown": "",
       "type": "doctest"
      }
     ]
    },
    "q1a": {
     "name": "q1a",
     "points": 1,
     "suites": [
      {
       "cases": [
        {
         "code": ">>> \n>>> assert np.isclose(first_three_black, (18/38)**3 )\n",
         "hidden": false,
         "locked": false
        }
       ],
       "scored": true,
       "setup": "",
       "teardown": "",
       "type": "doctest"
      }
     ]
    },
    "q1b": {
     "name": "q1b",
     "points": 1,
     "suites": [
      {
       "cases": [
        {
         "code": ">>> assert np.isclose(no_green, (36/38)**10)\n",
         "hidden": false,
         "locked": false
        }
       ],
       "scored": true,
       "setup": "",
       "teardown": "",
       "type": "doctest"
      }
     ]
    },
    "q1c": {
     "name": "q1c",
     "points": 1,
     "suites": [
      {
       "cases": [
        {
         "code": ">>> assert np.isclose(at_least_one_green, 1 - (36/38)**10)\n",
         "hidden": false,
         "locked": false
        }
       ],
       "scored": true,
       "setup": "",
       "teardown": "",
       "type": "doctest"
      }
     ]
    },
    "q2acheck": {
     "name": "q2acheck",
     "points": 0,
     "suites": [
      {
       "cases": [
        {
         "code": ">>> assert np.isclose(q2a_answer, 0.1)\n",
         "hidden": false,
         "locked": false
        }
       ],
       "scored": true,
       "setup": "",
       "teardown": "",
       "type": "doctest"
      }
     ]
    },
    "q2bcheck": {
     "name": "q2bcheck",
     "points": 0,
     "suites": [
      {
       "cases": [
        {
         "code": ">>> assert np.isclose(q2b_answer, 5/8)\n",
         "hidden": false,
         "locked": false
        }
       ],
       "scored": true,
       "setup": "",
       "teardown": "",
       "type": "doctest"
      }
     ]
    },
    "q3check": {
     "name": "q3check",
     "points": 0,
     "suites": [
      {
       "cases": [
        {
         "code": ">>> assert np.isclose(q3a_answer, 45/241)\n",
         "hidden": false,
         "locked": false
        }
       ],
       "scored": true,
       "setup": "",
       "teardown": "",
       "type": "doctest"
      }
     ]
    },
    "q4acheck": {
     "name": "q4acheck",
     "points": 0,
     "suites": [
      {
       "cases": [
        {
         "code": ">>> assert np.isclose(q4a_answer, 88/4165)\n",
         "hidden": false,
         "locked": false
        }
       ],
       "scored": true,
       "setup": "",
       "teardown": "",
       "type": "doctest"
      }
     ]
    },
    "q4i": {
     "name": "q4i",
     "points": 2,
     "suites": [
      {
       "cases": [
        {
         "code": ">>> assert len(cards) == 52\n",
         "hidden": false,
         "locked": false
        },
        {
         "code": ">>> a=set(cards)\n>>> \n>>> b=set(['C10','C2','C3','C4','C5','C6','C7','C8','C9','CA','CJ','CK','CQ','D10','D2','D3','D4','D5','D6','D7','D8','D9','DA','DJ','DK','DQ','H10','H2','H3','H4','H5','H6','H7','H8','H9','HA','HJ','HK','HQ','S10','S2','S3','S4','S5','S6','S7','S8','S9','SA','SJ','SK','SQ'])\n>>> \n>>> assert a==b\n",
         "hidden": false,
         "locked": false
        }
       ],
       "scored": true,
       "setup": "",
       "teardown": "",
       "type": "doctest"
      }
     ]
    },
    "q4ii": {
     "name": "q4ii",
     "points": 3,
     "suites": [
      {
       "cases": [
        {
         "code": ">>> assert (three_kind(['H3', 'S3', 'D3', 'H4', 'C5']) == True)\n",
         "hidden": false,
         "locked": false
        },
        {
         "code": ">>> assert (three_kind(['C4', 'D4', 'S4', 'H4', 'H2']) == False)\n",
         "hidden": false,
         "locked": false
        },
        {
         "code": ">>> assert (three_kind(['SA', 'S4', 'S4', 'H5', 'H2']) == False)\n",
         "hidden": false,
         "locked": false
        },
        {
         "code": ">>> assert (three_kind(['SA', 'DA', 'HA', 'C5', 'H5']) == False)\n",
         "hidden": false,
         "locked": false
        }
       ],
       "scored": true,
       "setup": "",
       "teardown": "",
       "type": "doctest"
      }
     ]
    },
    "q5acheck": {
     "name": "q5acheck",
     "points": 0,
     "suites": [
      {
       "cases": [
        {
         "code": ">>> assert np.isclose(q5a_answer, 33/800)\n",
         "hidden": false,
         "locked": false
        }
       ],
       "scored": true,
       "setup": "",
       "teardown": "",
       "type": "doctest"
      }
     ]
    },
    "q5bcheck": {
     "name": "q5bcheck",
     "points": 0,
     "suites": [
      {
       "cases": [
        {
         "code": ">>> assert np.isclose(q5b_answer, 10/11)\n",
         "hidden": false,
         "locked": false
        }
       ],
       "scored": true,
       "setup": "",
       "teardown": "",
       "type": "doctest"
      }
     ]
    },
    "q5ccheck": {
     "name": "q5ccheck",
     "points": 0,
     "suites": [
      {
       "cases": [
        {
         "code": ">>> assert q5c_answer.lower() == 'dependent'\n",
         "hidden": false,
         "locked": false
        }
       ],
       "scored": true,
       "setup": "",
       "teardown": "",
       "type": "doctest"
      }
     ]
    },
    "q6acheck": {
     "name": "q6acheck",
     "points": 0,
     "suites": [
      {
       "cases": [
        {
         "code": ">>> assert np.isclose(q6a_answer, 16/36)\n",
         "hidden": false,
         "locked": false
        }
       ],
       "scored": true,
       "setup": "",
       "teardown": "",
       "type": "doctest"
      }
     ]
    },
    "q7check": {
     "name": "q7check",
     "points": 0,
     "suites": [
      {
       "cases": [
        {
         "code": ">>> assert [x.lower() for x in q7_answer] == ['dependent', 'independent', 'dependent']\n",
         "hidden": false,
         "locked": false
        }
       ],
       "scored": true,
       "setup": "",
       "teardown": "",
       "type": "doctest"
      }
     ]
    }
   }
  }
 },
 "nbformat": 4,
 "nbformat_minor": 5
}
