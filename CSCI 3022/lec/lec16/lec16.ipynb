{
 "cells": [
  {
   "cell_type": "markdown",
   "id": "b3b49008-1dff-4ddc-84c7-fd52e3fb248f",
   "metadata": {},
   "source": [
    "# Lecture 16 Notebook\n",
    "\n",
    "CSCI 3022, Fall 2023\n",
    "\n",
    "[Acknowledgments Page](https://ds100.org/sp23/acks/)"
   ]
  },
  {
   "cell_type": "code",
   "execution_count": 1,
   "id": "0e7875d7-df36-4528-9359-e202662a798e",
   "metadata": {},
   "outputs": [],
   "source": [
    "import seaborn as sns\n",
    "import pandas as pd\n",
    "sns.set(font_scale=1.5)\n",
    "import matplotlib.pyplot as plt\n",
    "import numpy as np\n",
    "from sklearn import linear_model\n",
    "from sklearn.metrics import mean_squared_error\n",
    "from sklearn.metrics import mean_absolute_error\n",
    "import plotly.graph_objects as go\n",
    "import plotly.express as px\n",
    "from sklearn.pipeline import Pipeline\n",
    "from sklearn.preprocessing import PolynomialFeatures\n",
    "from sklearn.linear_model import LinearRegression\n",
    "\n",
    "def adjust_fontsize(size=None):\n",
    "    SMALL_SIZE = 8\n",
    "    MEDIUM_SIZE = 10\n",
    "    BIGGER_SIZE = 12\n",
    "    if size != None:\n",
    "        SMALL_SIZE = MEDIUM_SIZE = BIGGER_SIZE = size\n",
    "\n",
    "    plt.rc('font', size=SMALL_SIZE)          # controls default text sizes\n",
    "    plt.rc('axes', titlesize=SMALL_SIZE)     # fontsize of the axes title\n",
    "    plt.rc('axes', labelsize=MEDIUM_SIZE)    # fontsize of the x and y labels\n",
    "    plt.rc('xtick', labelsize=SMALL_SIZE)    # fontsize of the tick labels\n",
    "    plt.rc('ytick', labelsize=SMALL_SIZE)    # fontsize of the tick labels\n",
    "    plt.rc('legend', fontsize=SMALL_SIZE)    # legend fontsize\n",
    "    plt.rc('figure', titlesize=BIGGER_SIZE)  # fontsize of the figure title\n",
    "\n",
    "plt.style.use('fivethirtyeight')\n",
    "sns.set_context(\"talk\")\n",
    "sns.set_theme()\n",
    "adjust_fontsize(size=20)\n",
    "%matplotlib inline\n",
    "\n",
    "import warnings\n",
    "warnings.filterwarnings('ignore')"
   ]
  },
  {
   "cell_type": "markdown",
   "id": "acab2a9a-20d5-4525-9c21-5e5b6633906e",
   "metadata": {},
   "source": [
    "Plotting helper functions."
   ]
  },
  {
   "cell_type": "code",
   "execution_count": 2,
   "id": "4177d466-1805-4875-b44b-017735794296",
   "metadata": {},
   "outputs": [],
   "source": [
    "# Helper functions to plot and \n",
    "# Compute expectation, variance, standard deviation\n",
    "def plot_dist(dist_df,\n",
    "                      xname=\"x\", pname=\"P(X = x)\", varname=\"X\",\n",
    "                      save=False, mean=False):\n",
    "    \"\"\"\n",
    "    Plot a distribution from a distribution table.\n",
    "    Single-variate.\n",
    "    \"\"\"\n",
    "    expected_value = sum(dist_df[xname]*dist_df[pname])\n",
    "    plt.bar(dist_df[xname], dist_df[pname])\n",
    "    plt.ylabel(pname)\n",
    "    plt.xlabel(xname)\n",
    "    plt.title(f\"Distribution of ${varname}$\")\n",
    "    plt.xticks(sorted(dist_df[xname].unique()))\n",
    "    if mean==True:\n",
    "        plt.scatter(expected_value, -0.015, marker='^', color='red', s=100)\n",
    "    if save:\n",
    "        fig = plt.gcf()\n",
    "        fig.patch.set_alpha(0.0)\n",
    "        plt.savefig(f\"dist{varname}.png\", bbox_inches = 'tight');\n",
    "\n",
    "\n",
    "def simulate_samples(df, xname=\"x\", pname=\"P(X = x)\", size=1):\n",
    "    return np.random.choice(\n",
    "                df[xname], # Draw from these choiecs\n",
    "                size=size, # This many times\n",
    "                p=df[pname]) # According to this distribution\n",
    "\n",
    "def simulate_iid_df(dist_df, nvars, rows, varname=\"X\"):\n",
    "    \"\"\"\n",
    "    Make an (row x nvars) dataframe\n",
    "    by calling simulate_samples for each of the nvars per row\n",
    "    \"\"\"\n",
    "    sample_dict = {}\n",
    "    for i in range(nvars):\n",
    "        # Generate many datapoints \n",
    "        sample_dict[f\"{varname}_{i+1}\"] = \\\n",
    "            simulate_samples(dist_df, size=rows)\n",
    "    return pd.DataFrame(sample_dict)\n",
    "\n",
    "\n",
    "def plot_simulated_dist(df, colname, show_stats=True, save=False, **kwargs):\n",
    "    \"\"\"\n",
    "    Plot a simulated population.\n",
    "    \"\"\"\n",
    "    sns.histplot(data=df, x=colname, stat='probability', discrete=True, **kwargs)\n",
    "    plt.xticks(sorted(df[colname].unique())) # if there are gaps)\n",
    "    if show_stats:\n",
    "        display(stats_df_multi(df, [colname]))\n",
    "    if save:\n",
    "        fig = plt.gcf()\n",
    "        fig.patch.set_alpha(0.0)\n",
    "        plt.savefig(f\"sim{colname}.png\", bbox_inches = 'tight');\n",
    "\n",
    "def stats_df_multi(df, colnames):\n",
    "    means = df[colnames].mean(axis=0)\n",
    "    variances = df[colnames].var(axis=0)\n",
    "    stdevs = df[colnames].std(axis=0)\n",
    "    df_stats = pd.concat([means, variances, stdevs],axis=1).T\n",
    "    df_stats['index_col'] = [\"E[•]\", \"Var(•)\", \"SD(•)\"]\n",
    "    df_stats = df_stats.set_index('index_col', drop=True).rename_axis(None)\n",
    "    return df_stats\n",
    "\n",
    "def plot_simulated_dist_multi(df, colnames, show_stats=True):\n",
    "    \"\"\"\n",
    "    If multiple columns provided, use separate plots.\n",
    "    \"\"\"\n",
    "    ncols = 1\n",
    "    nrows = len(colnames)\n",
    "    plt.figure(figsize=(6, 2*nrows+2))\n",
    "    \n",
    "    for i, colname in enumerate(colnames):\n",
    "        subplot_int = int(100*int(nrows) + 10*int(ncols) + int(i+1))\n",
    "        plt.subplot(subplot_int)\n",
    "        plot_simulated_dist(df, colname, show_stats=False)\n",
    "    plt.tight_layout()\n",
    "    if show_stats:\n",
    "        display(stats_df_multi(df, colnames))"
   ]
  },
  {
   "cell_type": "code",
   "execution_count": 3,
   "id": "a4427e2c",
   "metadata": {},
   "outputs": [],
   "source": [
    "from scipy.stats import expon"
   ]
  },
  {
   "cell_type": "code",
   "execution_count": 4,
   "id": "f051cb11",
   "metadata": {},
   "outputs": [
    {
     "data": {
      "text/plain": [
       "0.9980019986673331"
      ]
     },
     "execution_count": 4,
     "metadata": {},
     "output_type": "execute_result"
    }
   ],
   "source": [
    "#P(X>1) when X~exp(.002)\n",
    "# 1- P(X<=1)  Note:  Scale = 1/lambda\n",
    "\n",
    "1-expon.cdf(1, scale=1/.002)"
   ]
  },
  {
   "cell_type": "code",
   "execution_count": 5,
   "id": "68c88a3a",
   "metadata": {},
   "outputs": [],
   "source": [
    "from scipy.stats import norm"
   ]
  },
  {
   "cell_type": "code",
   "execution_count": 6,
   "id": "6ebc3a17",
   "metadata": {},
   "outputs": [
    {
     "data": {
      "text/plain": [
       "0.07864960352514261"
      ]
     },
     "execution_count": 6,
     "metadata": {},
     "output_type": "execute_result"
    }
   ],
   "source": [
    "#X~N(4, 2)\n",
    "#1-P(X<=6)\n",
    "1-norm.cdf(6, loc=4, scale=np.sqrt(2))"
   ]
  },
  {
   "cell_type": "code",
   "execution_count": 7,
   "id": "3243d75f",
   "metadata": {},
   "outputs": [],
   "source": [
    "from scipy.stats import poisson"
   ]
  },
  {
   "cell_type": "code",
   "execution_count": 8,
   "id": "3562170f",
   "metadata": {},
   "outputs": [
    {
     "data": {
      "text/plain": [
       "0.9980019986673332"
      ]
     },
     "execution_count": 8,
     "metadata": {},
     "output_type": "execute_result"
    }
   ],
   "source": [
    "#P(X=0)  given X~Pois(0.002)\n",
    "poisson.pmf(0, .002)"
   ]
  },
  {
   "cell_type": "markdown",
   "id": "f9dc8d20-a435-4fe4-88db-6e0d6a97e34b",
   "metadata": {},
   "source": [
    "---\n",
    "\n",
    "## A Random Variable: Roulette Example\n",
    "\n",
    "Roulette:  Let X be your winnings if you bet $1 on any particular number and play once.\n",
    "\n"
   ]
  },
  {
   "cell_type": "code",
   "execution_count": 5,
   "id": "cd8a09c3-7aff-4c20-a7e6-dc81c836c481",
   "metadata": {},
   "outputs": [
    {
     "data": {
      "text/html": [
       "<div>\n",
       "<style scoped>\n",
       "    .dataframe tbody tr th:only-of-type {\n",
       "        vertical-align: middle;\n",
       "    }\n",
       "\n",
       "    .dataframe tbody tr th {\n",
       "        vertical-align: top;\n",
       "    }\n",
       "\n",
       "    .dataframe thead th {\n",
       "        text-align: right;\n",
       "    }\n",
       "</style>\n",
       "<table border=\"1\" class=\"dataframe\">\n",
       "  <thead>\n",
       "    <tr style=\"text-align: right;\">\n",
       "      <th></th>\n",
       "      <th>x</th>\n",
       "      <th>P(X = x)</th>\n",
       "    </tr>\n",
       "  </thead>\n",
       "  <tbody>\n",
       "    <tr>\n",
       "      <th>0</th>\n",
       "      <td>-1</td>\n",
       "      <td>0.973684</td>\n",
       "    </tr>\n",
       "    <tr>\n",
       "      <th>1</th>\n",
       "      <td>35</td>\n",
       "      <td>0.026316</td>\n",
       "    </tr>\n",
       "  </tbody>\n",
       "</table>\n",
       "</div>"
      ],
      "text/plain": [
       "    x  P(X = x)\n",
       "0  -1  0.973684\n",
       "1  35  0.026316"
      ]
     },
     "execution_count": 5,
     "metadata": {},
     "output_type": "execute_result"
    }
   ],
   "source": [
    "# Our random variable X\n",
    "dist_df = pd.DataFrame({\"x\": [-1, 35],\n",
    "                        \"P(X = x)\": [37/38, 1/38]})\n",
    "dist_df"
   ]
  },
  {
   "cell_type": "code",
   "execution_count": 10,
   "id": "23195821-dca5-4ec1-b86f-909ca7f3916b",
   "metadata": {},
   "outputs": [
    {
     "data": {
      "image/png": "[encoded data removed]",
      "text/plain": [
       "<Figure size 640x480 with 1 Axes>"
      ]
     },
     "metadata": {
      "needs_background": "light"
     },
     "output_type": "display_data"
    }
   ],
   "source": [
    "plot_dist(dist_df, save=True)"
   ]
  },
  {
   "cell_type": "markdown",
   "id": "34c706d7",
   "metadata": {},
   "source": [
    "## Expected Value of X:"
   ]
  },
  {
   "cell_type": "code",
   "execution_count": 11,
   "id": "95580018",
   "metadata": {},
   "outputs": [
    {
     "data": {
      "text/plain": [
       "-0.052631578947368474"
      ]
     },
     "execution_count": 11,
     "metadata": {},
     "output_type": "execute_result"
    }
   ],
   "source": [
    "expected_value = (dist_df[\"x\"]*dist_df[\"P(X = x)\"]).sum()\n",
    "\n",
    "expected_value\n"
   ]
  },
  {
   "cell_type": "code",
   "execution_count": 12,
   "id": "9a2274cb",
   "metadata": {},
   "outputs": [
    {
     "data": {
      "image/png": "[encoded data removed]",
      "text/plain": [
       "<Figure size 640x480 with 1 Axes>"
      ]
     },
     "metadata": {
      "needs_background": "light"
     },
     "output_type": "display_data"
    }
   ],
   "source": [
    "plot_dist(dist_df, save=True, mean=True)\n"
   ]
  },
  {
   "cell_type": "markdown",
   "id": "72d535d1",
   "metadata": {},
   "source": [
    "## Variance and Standard Deviation of X:"
   ]
  },
  {
   "cell_type": "code",
   "execution_count": 13,
   "id": "44a526a5",
   "metadata": {},
   "outputs": [
    {
     "name": "stdout",
     "output_type": "stream",
     "text": [
      "Variance of X is  33.20775623268698\n",
      "Std deviation of X is  5.762617133966734\n"
     ]
    }
   ],
   "source": [
    "var = ((dist_df[\"x\"]-expected_value)**2*dist_df[\"P(X = x)\"]).sum()\n",
    "\n",
    "print (\"Variance of X is \",var)\n",
    "\n",
    "std = np.sqrt(var)\n",
    "\n",
    "print (\"Std deviation of X is \",std)"
   ]
  },
  {
   "cell_type": "markdown",
   "id": "50c12ae7-d0ea-4814-b12b-780fc59a174c",
   "metadata": {},
   "source": [
    "<br/><br/>\n",
    "\n",
    "---\n",
    "\n",
    "# Die Is the Singular; Dice Is the Plural\n",
    "\n",
    "Let X be the outcome of a single die roll. X is a random variable."
   ]
  },
  {
   "cell_type": "code",
   "execution_count": 14,
   "id": "215c9ef7-07ec-4b27-8e27-f5e35a152342",
   "metadata": {},
   "outputs": [
    {
     "data": {
      "text/html": [
       "<div>\n",
       "<style scoped>\n",
       "    .dataframe tbody tr th:only-of-type {\n",
       "        vertical-align: middle;\n",
       "    }\n",
       "\n",
       "    .dataframe tbody tr th {\n",
       "        vertical-align: top;\n",
       "    }\n",
       "\n",
       "    .dataframe thead th {\n",
       "        text-align: right;\n",
       "    }\n",
       "</style>\n",
       "<table border=\"1\" class=\"dataframe\">\n",
       "  <thead>\n",
       "    <tr style=\"text-align: right;\">\n",
       "      <th></th>\n",
       "      <th>x</th>\n",
       "      <th>P(X = x)</th>\n",
       "    </tr>\n",
       "  </thead>\n",
       "  <tbody>\n",
       "    <tr>\n",
       "      <th>0</th>\n",
       "      <td>1</td>\n",
       "      <td>0.166667</td>\n",
       "    </tr>\n",
       "    <tr>\n",
       "      <th>1</th>\n",
       "      <td>2</td>\n",
       "      <td>0.166667</td>\n",
       "    </tr>\n",
       "    <tr>\n",
       "      <th>2</th>\n",
       "      <td>3</td>\n",
       "      <td>0.166667</td>\n",
       "    </tr>\n",
       "    <tr>\n",
       "      <th>3</th>\n",
       "      <td>4</td>\n",
       "      <td>0.166667</td>\n",
       "    </tr>\n",
       "    <tr>\n",
       "      <th>4</th>\n",
       "      <td>5</td>\n",
       "      <td>0.166667</td>\n",
       "    </tr>\n",
       "    <tr>\n",
       "      <th>5</th>\n",
       "      <td>6</td>\n",
       "      <td>0.166667</td>\n",
       "    </tr>\n",
       "  </tbody>\n",
       "</table>\n",
       "</div>"
      ],
      "text/plain": [
       "   x  P(X = x)\n",
       "0  1  0.166667\n",
       "1  2  0.166667\n",
       "2  3  0.166667\n",
       "3  4  0.166667\n",
       "4  5  0.166667\n",
       "5  6  0.166667"
      ]
     },
     "execution_count": 14,
     "metadata": {},
     "output_type": "execute_result"
    }
   ],
   "source": [
    "# Our random variable X\n",
    "roll_df = pd.DataFrame({\"x\": [1, 2, 3, 4, 5, 6],\n",
    "                        \"P(X = x)\": np.ones(6)/6})\n",
    "roll_df"
   ]
  },
  {
   "cell_type": "code",
   "execution_count": 15,
   "id": "1694be9f-7549-4a16-a4db-7ab256ac0891",
   "metadata": {},
   "outputs": [
    {
     "data": {
      "image/png": "[encoded data removed]",
      "text/plain": [
       "<Figure size 640x480 with 1 Axes>"
      ]
     },
     "metadata": {},
     "output_type": "display_data"
    }
   ],
   "source": [
    "plot_dist(roll_df)"
   ]
  },
  {
   "cell_type": "markdown",
   "id": "d7ba72db-9a35-4dc4-93c2-31a187f30e80",
   "metadata": {
    "tags": []
   },
   "source": [
    "<br/><br/>\n",
    "\n",
    "---\n",
    "\n",
    "# Sum of 2 Dice Rolls\n",
    "\n",
    "Here's the distribution of a single die roll:"
   ]
  },
  {
   "cell_type": "code",
   "execution_count": 16,
   "id": "9a21d743-1f24-407e-b782-f74c5633d599",
   "metadata": {
    "lines_to_next_cell": 2
   },
   "outputs": [
    {
     "data": {
      "text/html": [
       "<div>\n",
       "<style scoped>\n",
       "    .dataframe tbody tr th:only-of-type {\n",
       "        vertical-align: middle;\n",
       "    }\n",
       "\n",
       "    .dataframe tbody tr th {\n",
       "        vertical-align: top;\n",
       "    }\n",
       "\n",
       "    .dataframe thead th {\n",
       "        text-align: right;\n",
       "    }\n",
       "</style>\n",
       "<table border=\"1\" class=\"dataframe\">\n",
       "  <thead>\n",
       "    <tr style=\"text-align: right;\">\n",
       "      <th></th>\n",
       "      <th>x</th>\n",
       "      <th>P(X = x)</th>\n",
       "    </tr>\n",
       "  </thead>\n",
       "  <tbody>\n",
       "    <tr>\n",
       "      <th>0</th>\n",
       "      <td>1</td>\n",
       "      <td>0.166667</td>\n",
       "    </tr>\n",
       "    <tr>\n",
       "      <th>1</th>\n",
       "      <td>2</td>\n",
       "      <td>0.166667</td>\n",
       "    </tr>\n",
       "    <tr>\n",
       "      <th>2</th>\n",
       "      <td>3</td>\n",
       "      <td>0.166667</td>\n",
       "    </tr>\n",
       "    <tr>\n",
       "      <th>3</th>\n",
       "      <td>4</td>\n",
       "      <td>0.166667</td>\n",
       "    </tr>\n",
       "    <tr>\n",
       "      <th>4</th>\n",
       "      <td>5</td>\n",
       "      <td>0.166667</td>\n",
       "    </tr>\n",
       "    <tr>\n",
       "      <th>5</th>\n",
       "      <td>6</td>\n",
       "      <td>0.166667</td>\n",
       "    </tr>\n",
       "  </tbody>\n",
       "</table>\n",
       "</div>"
      ],
      "text/plain": [
       "   x  P(X = x)\n",
       "0  1  0.166667\n",
       "1  2  0.166667\n",
       "2  3  0.166667\n",
       "3  4  0.166667\n",
       "4  5  0.166667\n",
       "5  6  0.166667"
      ]
     },
     "execution_count": 16,
     "metadata": {},
     "output_type": "execute_result"
    }
   ],
   "source": [
    "roll_df = pd.DataFrame({\"x\": [1, 2, 3, 4, 5, 6],\n",
    "                        \"P(X = x)\": np.ones(6)/6})\n",
    "roll_df"
   ]
  },
  {
   "cell_type": "markdown",
   "id": "f44d0eba-4671-420a-93c7-3cce60c0b8c8",
   "metadata": {},
   "source": [
    "Let $X_1, X_2$ are the outcomes of two dice rolls. Note $X_1$ and $X_2$ are i.i.d. (independent and identically distributed)."
   ]
  },
  {
   "cell_type": "markdown",
   "id": "e70994a3-39b6-4813-9198-2736cbbf554f",
   "metadata": {},
   "source": [
    "Below I call a helper function `simulate_iid_df`, which simulates an 80,000-row table of $X_1, X_2$ values. It uses `np.random.choice(arr, size, p)` [link](https://numpy.org/doc/stable/reference/random/generated/numpy.random.choice.html) where `arr` is the array the values and `p` is the probability associated with choosing each value. If you're interested in the implementation details, scroll up."
   ]
  },
  {
   "cell_type": "code",
   "execution_count": 17,
   "id": "ceec826e-409d-4929-b4cf-2572fd0301be",
   "metadata": {},
   "outputs": [
    {
     "data": {
      "text/html": [
       "<div>\n",
       "<style scoped>\n",
       "    .dataframe tbody tr th:only-of-type {\n",
       "        vertical-align: middle;\n",
       "    }\n",
       "\n",
       "    .dataframe tbody tr th {\n",
       "        vertical-align: top;\n",
       "    }\n",
       "\n",
       "    .dataframe thead th {\n",
       "        text-align: right;\n",
       "    }\n",
       "</style>\n",
       "<table border=\"1\" class=\"dataframe\">\n",
       "  <thead>\n",
       "    <tr style=\"text-align: right;\">\n",
       "      <th></th>\n",
       "      <th>X_1</th>\n",
       "      <th>X_2</th>\n",
       "    </tr>\n",
       "  </thead>\n",
       "  <tbody>\n",
       "    <tr>\n",
       "      <th>0</th>\n",
       "      <td>5</td>\n",
       "      <td>6</td>\n",
       "    </tr>\n",
       "    <tr>\n",
       "      <th>1</th>\n",
       "      <td>3</td>\n",
       "      <td>4</td>\n",
       "    </tr>\n",
       "    <tr>\n",
       "      <th>2</th>\n",
       "      <td>2</td>\n",
       "      <td>3</td>\n",
       "    </tr>\n",
       "    <tr>\n",
       "      <th>3</th>\n",
       "      <td>5</td>\n",
       "      <td>1</td>\n",
       "    </tr>\n",
       "    <tr>\n",
       "      <th>4</th>\n",
       "      <td>6</td>\n",
       "      <td>4</td>\n",
       "    </tr>\n",
       "    <tr>\n",
       "      <th>...</th>\n",
       "      <td>...</td>\n",
       "      <td>...</td>\n",
       "    </tr>\n",
       "    <tr>\n",
       "      <th>79995</th>\n",
       "      <td>4</td>\n",
       "      <td>5</td>\n",
       "    </tr>\n",
       "    <tr>\n",
       "      <th>79996</th>\n",
       "      <td>5</td>\n",
       "      <td>5</td>\n",
       "    </tr>\n",
       "    <tr>\n",
       "      <th>79997</th>\n",
       "      <td>1</td>\n",
       "      <td>2</td>\n",
       "    </tr>\n",
       "    <tr>\n",
       "      <th>79998</th>\n",
       "      <td>5</td>\n",
       "      <td>6</td>\n",
       "    </tr>\n",
       "    <tr>\n",
       "      <th>79999</th>\n",
       "      <td>1</td>\n",
       "      <td>6</td>\n",
       "    </tr>\n",
       "  </tbody>\n",
       "</table>\n",
       "<p>80000 rows × 2 columns</p>\n",
       "</div>"
      ],
      "text/plain": [
       "       X_1  X_2\n",
       "0        5    6\n",
       "1        3    4\n",
       "2        2    3\n",
       "3        5    1\n",
       "4        6    4\n",
       "...    ...  ...\n",
       "79995    4    5\n",
       "79996    5    5\n",
       "79997    1    2\n",
       "79998    5    6\n",
       "79999    1    6\n",
       "\n",
       "[80000 rows x 2 columns]"
      ]
     },
     "execution_count": 17,
     "metadata": {},
     "output_type": "execute_result"
    }
   ],
   "source": [
    "N = 80000\n",
    "sim_rolls_df = simulate_iid_df(roll_df, nvars=2, rows=N)\n",
    "sim_rolls_df"
   ]
  },
  {
   "cell_type": "markdown",
   "id": "a75854f6-dd31-4b01-b5fa-c36115a467d8",
   "metadata": {},
   "source": [
    "Define the following random variables, which are functions of $X_1$ and $X_2$:\n",
    "* $Y = X_1 + X_1 = 2 X_1$\n",
    "* $Z = X_1 + X_2$\n",
    "\n",
    "We can use our simulated values of $X_1, X_2$ to create new columns $Y$ and $Z$:"
   ]
  },
  {
   "cell_type": "code",
   "execution_count": 18,
   "id": "f09f6b7d-241b-4fcc-ab72-e4d15da3ea8a",
   "metadata": {},
   "outputs": [
    {
     "data": {
      "text/html": [
       "<div>\n",
       "<style scoped>\n",
       "    .dataframe tbody tr th:only-of-type {\n",
       "        vertical-align: middle;\n",
       "    }\n",
       "\n",
       "    .dataframe tbody tr th {\n",
       "        vertical-align: top;\n",
       "    }\n",
       "\n",
       "    .dataframe thead th {\n",
       "        text-align: right;\n",
       "    }\n",
       "</style>\n",
       "<table border=\"1\" class=\"dataframe\">\n",
       "  <thead>\n",
       "    <tr style=\"text-align: right;\">\n",
       "      <th></th>\n",
       "      <th>X_1</th>\n",
       "      <th>X_2</th>\n",
       "      <th>Y</th>\n",
       "      <th>Z</th>\n",
       "    </tr>\n",
       "  </thead>\n",
       "  <tbody>\n",
       "    <tr>\n",
       "      <th>0</th>\n",
       "      <td>5</td>\n",
       "      <td>6</td>\n",
       "      <td>10</td>\n",
       "      <td>11</td>\n",
       "    </tr>\n",
       "    <tr>\n",
       "      <th>1</th>\n",
       "      <td>3</td>\n",
       "      <td>4</td>\n",
       "      <td>6</td>\n",
       "      <td>7</td>\n",
       "    </tr>\n",
       "    <tr>\n",
       "      <th>2</th>\n",
       "      <td>5</td>\n",
       "      <td>2</td>\n",
       "      <td>10</td>\n",
       "      <td>7</td>\n",
       "    </tr>\n",
       "    <tr>\n",
       "      <th>3</th>\n",
       "      <td>2</td>\n",
       "      <td>3</td>\n",
       "      <td>4</td>\n",
       "      <td>5</td>\n",
       "    </tr>\n",
       "    <tr>\n",
       "      <th>3</th>\n",
       "      <td>5</td>\n",
       "      <td>1</td>\n",
       "      <td>10</td>\n",
       "      <td>6</td>\n",
       "    </tr>\n",
       "    <tr>\n",
       "      <th>4</th>\n",
       "      <td>6</td>\n",
       "      <td>4</td>\n",
       "      <td>12</td>\n",
       "      <td>10</td>\n",
       "    </tr>\n",
       "    <tr>\n",
       "      <th>...</th>\n",
       "      <td>...</td>\n",
       "      <td>...</td>\n",
       "      <td>...</td>\n",
       "      <td>...</td>\n",
       "    </tr>\n",
       "    <tr>\n",
       "      <th>79995</th>\n",
       "      <td>4</td>\n",
       "      <td>5</td>\n",
       "      <td>8</td>\n",
       "      <td>9</td>\n",
       "    </tr>\n",
       "    <tr>\n",
       "      <th>79996</th>\n",
       "      <td>5</td>\n",
       "      <td>5</td>\n",
       "      <td>10</td>\n",
       "      <td>10</td>\n",
       "    </tr>\n",
       "    <tr>\n",
       "      <th>79997</th>\n",
       "      <td>1</td>\n",
       "      <td>2</td>\n",
       "      <td>2</td>\n",
       "      <td>3</td>\n",
       "    </tr>\n",
       "    <tr>\n",
       "      <th>79998</th>\n",
       "      <td>5</td>\n",
       "      <td>6</td>\n",
       "    </tr>\n",
       "    <tr>\n",
       "      <th>79999</th>\n",
       "      <td>1</td>\n",
       "      <td>6</td>\n",
       "      <td>2</td>\n",
       "      <td>7</td>\n",
       "    </tr>\n",
       "  </tbody>\n",
       "</table>\n",
       "<p>80000 rows × 4 columns</p>\n",
       "</div>"
      ],
      "text/plain": [
       "       X_1  X_2   Y   Z\n",
       "0        5    6  10  11\n",
       "1        3    4   6   7\n",
       "2        2    3   4   5\n",
       "3        5    1  10   6\n",
       "4        6    4  12  10\n",
       "...    ...  ...  ..  ..\n",
       "79995    4    5   8   9\n",
       "79996    5    5  10  10\n",
       "79997    1    2   2   3\n",
       "79998    5    6  10  11\n",
       "79999    1    6   2   7\n",
       "\n",
       "[80000 rows x 4 columns]"
      ]
     },
     "execution_count": 18,
     "metadata": {},
     "output_type": "execute_result"
    }
   ],
   "source": [
    "sim_rolls_df['Y'] = 2 * sim_rolls_df['X_1']\n",
    "sim_rolls_df['Z'] = sim_rolls_df['X_1'] + sim_rolls_df['X_2']\n",
    "sim_rolls_df"
   ]
  },
  {
   "cell_type": "markdown",
   "id": "c426ce79-473f-4189-99e4-5f1a6f7a0bc3",
   "metadata": {},
   "source": [
    "Now that we have simulated samples of $Y$ and $Z$, we can plot histograms to see their distributions!\n",
    "\n",
    "<br/>\n",
    "Distribution of $Y$, which was twice the value of our first die roll:"
   ]
  },
  {
   "cell_type": "code",
   "execution_count": 19,
   "id": "2945165f-489a-4a25-8647-80736b01ad89",
   "metadata": {},
   "outputs": [
    {
     "data": {
      "text/html": [
       "<div>\n",
       "<style scoped>\n",
       "    .dataframe tbody tr th:only-of-type {\n",
       "        vertical-align: middle;\n",
       "    }\n",
       "\n",
       "    .dataframe tbody tr th {\n",
       "        vertical-align: top;\n",
       "    }\n",
       "\n",
       "    .dataframe thead th {\n",
       "        text-align: right;\n",
       "    }\n",
       "</style>\n",
       "<table border=\"1\" class=\"dataframe\">\n",
       "  <thead>\n",
       "    <tr style=\"text-align: right;\">\n",
       "      <th></th>\n",
       "      <th>Y</th>\n",
       "    </tr>\n",
       "  </thead>\n",
       "  <tbody>\n",
       "    <tr>\n",
       "      <th>E[•]</th>\n",
       "      <td>7.003475</td>\n",
       "    </tr>\n",
       "    <tr>\n",
       "      <th>Var(•)</th>\n",
       "      <td>11.696934</td>\n",
       "    </tr>\n",
       "    <tr>\n",
       "      <th>SD(•)</th>\n",
       "      <td>3.420078</td>\n",
       "    </tr>\n",
       "  </tbody>\n",
       "</table>\n",
       "</div>"
      ],
      "text/plain": [
       "                Y\n",
       "E[•]     7.003475\n",
       "Var(•)  11.696934\n",
       "SD(•)    3.420078"
      ]
     },
     "metadata": {},
     "output_type": "display_data"
    },
    {
     "data": {
      "image/png": "[encoded data removed]",
      "text/plain": [
       "<Figure size 432x288 with 1 Axes>"
      ]
     },
     "metadata": {
      "needs_background": "light"
     },
     "output_type": "display_data"
    }
   ],
   "source": [
    "plot_simulated_dist(sim_rolls_df, \"Y\", save=True)"
   ]
  },
  {
   "cell_type": "markdown",
   "id": "eb329ea6-b3cf-41bc-bb3d-92c3f42914da",
   "metadata": {},
   "source": [
    "Distribution of $Z$, the sum of two IID dice rolls:"
   ]
  },
  {
   "cell_type": "code",
   "execution_count": 20,
   "id": "fd31235f-929d-4bad-b540-08a5805bc911",
   "metadata": {},
   "outputs": [
    {
     "data": {
      "text/html": [
       "<div>\n",
       "<style scoped>\n",
       "    .dataframe tbody tr th:only-of-type {\n",
       "        vertical-align: middle;\n",
       "    }\n",
       "\n",
       "    .dataframe tbody tr th {\n",
       "        vertical-align: top;\n",
       "    }\n",
       "\n",
       "    .dataframe thead th {\n",
       "        text-align: right;\n",
       "    }\n",
       "</style>\n",
       "<table border=\"1\" class=\"dataframe\">\n",
       "  <thead>\n",
       "    <tr style=\"text-align: right;\">\n",
       "      <th></th>\n",
       "      <th>Z</th>\n",
       "    </tr>\n",
       "  </thead>\n",
       "  <tbody>\n",
       "    <tr>\n",
       "      <th>E[•]</th>\n",
       "      <td>7.005138</td>\n",
       "    </tr>\n",
       "    <tr>\n",
       "      <th>Var(•)</th>\n",
       "      <td>5.895710</td>\n",
       "    </tr>\n",
       "    <tr>\n",
       "      <th>SD(•)</th>\n",
       "      <td>2.428108</td>\n",
       "    </tr>\n",
       "  </tbody>\n",
       "</table>\n",
       "</div>"
      ],
      "text/plain": [
       "               Z\n",
       "E[•]    7.005138\n",
       "Var(•)  5.895710\n",
       "SD(•)   2.428108"
      ]
     },
     "metadata": {},
     "output_type": "display_data"
    },
    {
     "data": {
      "image/png": "[encoded data removed]",
      "text/plain": [
       "<Figure size 432x288 with 1 Axes>"
      ]
     },
     "metadata": {
      "needs_background": "light"
     },
     "output_type": "display_data"
    }
   ],
   "source": [
    "plot_simulated_dist(sim_rolls_df, \"Z\", save=True, color='gold')"
   ]
  },
  {
   "cell_type": "markdown",
   "id": "2de0fc06-82d1-4908-b26f-610324f07422",
   "metadata": {},
   "source": [
    "Let's compare the expectations and variances of these simulated distributions of $Y$ and $Z$.\n",
    "* We computed:\n",
    "    * $\\mathbb{E}[Y]$ as `np.mean(sim_rolls_df['Y'])`\n",
    "    * $\\text{Var}(Y)$ as `np.var(sim_rolls_df['Y']`\n",
    "    * etc.\n",
    "* The larger your simulated rows $N$, the closer the simulated expectation will be to the true expectation.\n",
    "* Our approach is tedious--we have to simulate an entire population, then reduce it down to expectation/variance/standard deviation. It turns out we can calculate the Expected Value and Variance of linear sums of RV using properties of expected value and variance.  See the extra slides at the end of Lec 16 for details!"
   ]
  },
  {
   "cell_type": "code",
   "execution_count": 21,
   "id": "b58bf777-761d-4cd8-889b-fabf98e73fe2",
   "metadata": {},
   "outputs": [
    {
     "data": {
      "text/html": [
       "<div>\n",
       "<style scoped>\n",
       "    .dataframe tbody tr th:only-of-type {\n",
       "        vertical-align: middle;\n",
       "    }\n",
       "\n",
       "    .dataframe tbody tr th {\n",
       "        vertical-align: top;\n",
       "    }\n",
       "\n",
       "    .dataframe thead th {\n",
       "        text-align: right;\n",
       "    }\n",
       "</style>\n",
       "<table border=\"1\" class=\"dataframe\">\n",
       "  <thead>\n",
       "    <tr style=\"text-align: right;\">\n",
       "      <th></th>\n",
       "      <th>Y</th>\n",
       "      <th>Z</th>\n",
       "    </tr>\n",
       "  </thead>\n",
       "  <tbody>\n",
       "    <tr>\n",
       "      <th>E[•]</th>\n",
       "      <td>7.003475</td>\n",
       "      <td>7.005138</td>\n",
       "    </tr>\n",
       "    <tr>\n",
       "      <th>Var(•)</th>\n",
       "      <td>11.696934</td>\n",
       "      <td>5.895710</td>\n",
       "    </tr>\n",
       "    <tr>\n",
       "      <th>SD(•)</th>\n",
       "      <td>3.420078</td>\n",
       "      <td>2.428108</td>\n",
       "    </tr>\n",
       "  </tbody>\n",
       "</table>\n",
       "</div>"
      ],
      "text/plain": [
       "                Y         Z\n",
       "E[•]     7.003475  7.005138\n",
       "Var(•)  11.696934  5.895710\n",
       "SD(•)    3.420078  2.428108"
      ]
     },
     "execution_count": 21,
     "metadata": {},
     "output_type": "execute_result"
    }
   ],
   "source": [
    "stats_df_multi(sim_rolls_df, [\"Y\", \"Z\"])"
   ]
  },
  {
   "cell_type": "markdown",
   "id": "08fe565e-f5bc-48f6-a7e4-2b111f348352",
   "metadata": {
    "tags": []
   },
   "source": [
    "<br/><br/>\n",
    "\n",
    "---\n",
    "\n",
    "# Which would you pick?\n",
    "\n",
    "* $\\large Y_A = 10 X_1 + 10 X_2 $\n",
    "* $\\large Y_B = \\sum\\limits_{i=1}^{20} X_i$\n",
    "* $\\large Y_C = 20 X_1$"
   ]
  },
  {
   "cell_type": "markdown",
   "id": "45805b3b-e965-4992-99e2-4fa2233908ba",
   "metadata": {},
   "source": [
    "First let's construct the probability distribution for a single coin. This will let us flip 20 IID coins later."
   ]
  },
  {
   "cell_type": "code",
   "execution_count": 22,
   "id": "95a3afac-6cf2-4aed-a302-473d94267656",
   "metadata": {},
   "outputs": [
    {
     "data": {
      "text/html": [
       "<div>\n",
       "<style scoped>\n",
       "    .dataframe tbody tr th:only-of-type {\n",
       "        vertical-align: middle;\n",
       "    }\n",
       "\n",
       "    .dataframe tbody tr th {\n",
       "        vertical-align: top;\n",
       "    }\n",
       "\n",
       "    .dataframe thead th {\n",
       "        text-align: right;\n",
       "    }\n",
       "</style>\n",
       "<table border=\"1\" class=\"dataframe\">\n",
       "  <thead>\n",
       "    <tr style=\"text-align: right;\">\n",
       "      <th></th>\n",
       "      <th>x</th>\n",
       "      <th>P(X = x)</th>\n",
       "    </tr>\n",
       "  </thead>\n",
       "  <tbody>\n",
       "    <tr>\n",
       "      <th>0</th>\n",
       "      <td>0</td>\n",
       "      <td>0.5</td>\n",
       "    </tr>\n",
       "    <tr>\n",
       "      <th>1</th>\n",
       "      <td>1</td>\n",
       "      <td>0.5</td>\n",
       "    </tr>\n",
       "  </tbody>\n",
       "</table>\n",
       "</div>"
      ],
      "text/plain": [
       "   x  P(X = x)\n",
       "0  0       0.5\n",
       "1  1       0.5"
      ]
     },
     "execution_count": 22,
     "metadata": {},
     "output_type": "execute_result"
    }
   ],
   "source": [
    "# First construct probability distribution for a single fair coin\n",
    "p = 0.5\n",
    "coin_df = pd.DataFrame({\"x\": [0, 1], # [Tails, Heads]\n",
    "                        \"P(X = x)\": [p, 1 - p]})\n",
    "coin_df"
   ]
  },
  {
   "cell_type": "markdown",
   "id": "a96bc5e4-47b1-4604-8e43-8a694235a170",
   "metadata": {},
   "source": [
    "## Choice A:\n",
    "$\\large Y_A = 10 X_1 + 10 X_2 $"
   ]
  },
  {
   "cell_type": "code",
   "execution_count": 23,
   "id": "173c9cd7-15ca-48f3-852a-3006a5ff21a1",
   "metadata": {},
   "outputs": [
    {
     "name": "stdout",
     "output_type": "stream",
     "text": [
      "Sample of size 1:\n"
     ]
    },
    {
     "data": {
      "text/html": [
       "<div>\n",
       "<style scoped>\n",
       "    .dataframe tbody tr th:only-of-type {\n",
       "        vertical-align: middle;\n",
       "    }\n",
       "\n",
       "    .dataframe tbody tr th {\n",
       "        vertical-align: top;\n",
       "    }\n",
       "\n",
       "    .dataframe thead th {\n",
       "        text-align: right;\n",
       "    }\n",
       "</style>\n",
       "<table border=\"1\" class=\"dataframe\">\n",
       "  <thead>\n",
       "    <tr style=\"text-align: right;\">\n",
       "      <th></th>\n",
       "      <th>X_1</th>\n",
       "      <th>X_2</th>\n",
       "      <th>X_3</th>\n",
       "      <th>X_4</th>\n",
       "      <th>X_5</th>\n",
       "      <th>X_6</th>\n",
       "      <th>X_7</th>\n",
       "      <th>X_8</th>\n",
       "      <th>X_9</th>\n",
       "      <th>X_10</th>\n",
       "      <th>...</th>\n",
       "      <th>X_12</th>\n",
       "      <th>X_13</th>\n",
       "      <th>X_14</th>\n",
       "      <th>X_15</th>\n",
       "      <th>X_16</th>\n",
       "      <th>X_17</th>\n",
       "      <th>X_18</th>\n",
       "      <th>X_19</th>\n",
       "      <th>X_20</th>\n",
       "      <th>Y_A</th>\n",
       "    </tr>\n",
       "  </thead>\n",
       "  <tbody>\n",
       "    <tr>\n",
       "      <th>0</th>\n",
       "      <td>1</td>\n",
       "      <td>0</td>\n",
       "      <td>0</td>\n",
       "      <td>0</td>\n",
       "      <td>0</td>\n",
       "      <td>1</td>\n",
       "      <td>0</td>\n",
       "      <td>1</td>\n",
       "      <td>0</td>\n",
       "      <td>1</td>\n",
       "      <td>...</td>\n",
       "      <td>1</td>\n",
       "      <td>1</td>\n",
       "      <td>1</td>\n",
       "      <td>1</td>\n",
       "      <td>1</td>\n",
       "      <td>1</td>\n",
       "      <td>0</td>\n",
       "      <td>1</td>\n",
       "      <td>1</td>\n",
       "      <td>10</td>\n",
       "    </tr>\n",
       "  </tbody>\n",
       "</table>\n",
       "<p>1 rows × 21 columns</p>\n",
       "</div>"
      ],
      "text/plain": [
       "   X_1  X_2  X_3  X_4  X_5  X_6  X_7  X_8  X_9  X_10  ...  X_12  X_13  X_14  \\\n",
       "0    1    0    0    0    0    1    0    1    0     1  ...     1     1     1   \n",
       "\n",
       "   X_15  X_16  X_17  X_18  X_19  X_20  Y_A  \n",
       "0     1     1     1     0     1     1   10  \n",
       "\n",
       "[1 rows x 21 columns]"
      ]
     },
     "metadata": {},
     "output_type": "display_data"
    },
    {
     "name": "stdout",
     "output_type": "stream",
     "text": [
      "Y_A: 10\n"
     ]
    }
   ],
   "source": [
    "# Flip 20 iid coins, each exactly once\n",
    "flips20_df = simulate_iid_df(coin_df, nvars=20, rows=1)\n",
    "\n",
    "# Construct Y_A from this sample\n",
    "flips20_df[\"Y_A\"] = 10*flips20_df[\"X_1\"] + 10*flips20_df[\"X_2\"]\n",
    "\n",
    "print(\"Sample of size 1:\")\n",
    "display(flips20_df)\n",
    "print(\"Y_A:\", flips20_df.loc[0,\"Y_A\"])"
   ]
  },
  {
   "cell_type": "markdown",
   "id": "96011076-1c3c-41a8-bbb6-df51348d6f8e",
   "metadata": {
    "tags": []
   },
   "source": [
    "## Choice B:\n",
    "\n",
    "$\\large Y_B = \\sum\\limits_{i=1}^{20} X_i$"
   ]
  },
  {
   "cell_type": "code",
   "execution_count": 24,
   "id": "a9f26618-0464-4d86-a6b8-cd5a77879803",
   "metadata": {},
   "outputs": [
    {
     "data": {
      "text/html": [
       "<div>\n",
       "<style scoped>\n",
       "    .dataframe tbody tr th:only-of-type {\n",
       "        vertical-align: middle;\n",
       "    }\n",
       "\n",
       "    .dataframe tbody tr th {\n",
       "        vertical-align: top;\n",
       "    }\n",
       "\n",
       "    .dataframe thead th {\n",
       "        text-align: right;\n",
       "    }\n",
       "</style>\n",
       "<table border=\"1\" class=\"dataframe\">\n",
       "  <thead>\n",
       "    <tr style=\"text-align: right;\">\n",
       "      <th></th>\n",
       "      <th>X_1</th>\n",
       "      <th>X_2</th>\n",
       "      <th>X_3</th>\n",
       "      <th>X_4</th>\n",
       "      <th>X_5</th>\n",
       "      <th>X_6</th>\n",
       "      <th>X_7</th>\n",
       "      <th>X_8</th>\n",
       "      <th>X_9</th>\n",
       "      <th>X_10</th>\n",
       "      <th>...</th>\n",
       "      <th>X_12</th>\n",
       "      <th>X_13</th>\n",
       "      <th>X_14</th>\n",
       "      <th>X_15</th>\n",
       "      <th>X_16</th>\n",
       "      <th>X_17</th>\n",
       "      <th>X_18</th>\n",
       "      <th>X_19</th>\n",
       "      <th>X_20</th>\n",
       "      <th>Y_B</th>\n",
       "    </tr>\n",
       "  </thead>\n",
       "  <tbody>\n",
       "    <tr>\n",
       "      <th>0</th>\n",
       "      <td>0</td>\n",
       "      <td>1</td>\n",
       "      <td>0</td>\n",
       "      <td>0</td>\n",
       "      <td>0</td>\n",
       "      <td>1</td>\n",
       "      <td>0</td>\n",
       "      <td>1</td>\n",
       "      <td>1</td>\n",
       "      <td>1</td>\n",
       "      <td>...</td>\n",
       "      <td>1</td>\n",
       "      <td>1</td>\n",
       "      <td>0</td>\n",
       "      <td>1</td>\n",
       "      <td>0</td>\n",
       "      <td>0</td>\n",
       "      <td>0</td>\n",
       "      <td>1</td>\n",
       "      <td>0</td>\n",
       "      <td>10</td>\n",
       "    </tr>\n",
       "  </tbody>\n",
       "</table>\n",
       "<p>1 rows × 21 columns</p>\n",
       "</div>"
      ],
      "text/plain": [
       "   X_1  X_2  X_3  X_4  X_5  X_6  X_7  X_8  X_9  X_10  ...  X_12  X_13  X_14  \\\n",
       "0    0    1    0    0    0    1    0    1    1     1  ...     1     1     0   \n",
       "\n",
       "   X_15  X_16  X_17  X_18  X_19  X_20  Y_B  \n",
       "0     1     0     0     0     1     0   10  \n",
       "\n",
       "[1 rows x 21 columns]"
      ]
     },
     "metadata": {},
     "output_type": "display_data"
    },
    {
     "name": "stdout",
     "output_type": "stream",
     "text": [
      "Y_B: 10\n"
     ]
    }
   ],
   "source": [
    "# Flip 20 iid coins, each exactly once\n",
    "flips20_df = simulate_iid_df(coin_df, nvars=20, rows=1)\n",
    "\n",
    "# Construct Y_B from this sample\n",
    "flips20_df[\"Y_B\"] = flips20_df.sum(axis=1) # sum all coins\n",
    "\n",
    "display(flips20_df)\n",
    "print(\"Y_B:\", flips20_df.loc[0,\"Y_B\"])"
   ]
  },
  {
   "cell_type": "markdown",
   "id": "643826bd-e107-49ab-a702-2ca3d8de0ba9",
   "metadata": {
    "tags": []
   },
   "source": [
    "## Choice C:\n",
    "\n",
    "$\\large Y_C = 20 X_1$"
   ]
  },
  {
   "cell_type": "code",
   "execution_count": 25,
   "id": "74744d79-bdd2-4a03-9fe9-7d97c6f94ac0",
   "metadata": {},
   "outputs": [
    {
     "data": {
      "text/html": [
       "<div>\n",
       "<style scoped>\n",
       "    .dataframe tbody tr th:only-of-type {\n",
       "        vertical-align: middle;\n",
       "    }\n",
       "\n",
       "    .dataframe tbody tr th {\n",
       "        vertical-align: top;\n",
       "    }\n",
       "\n",
       "    .dataframe thead th {\n",
       "        text-align: right;\n",
       "    }\n",
       "</style>\n",
       "<table border=\"1\" class=\"dataframe\">\n",
       "  <thead>\n",
       "    <tr style=\"text-align: right;\">\n",
       "      <th></th>\n",
       "      <th>X_1</th>\n",
       "      <th>Y_C</th>\n",
       "    </tr>\n",
       "  </thead>\n",
       "  <tbody>\n",
       "    <tr>\n",
       "      <th>0</th>\n",
       "      <td>1</td>\n",
       "      <td>20</td>\n",
       "    </tr>\n",
       "  </tbody>\n",
       "</table>\n",
       "</div>"
      ],
      "text/plain": [
       "   X_1  Y_C\n",
       "0    1   20"
      ]
     },
     "metadata": {},
     "output_type": "display_data"
    },
    {
     "name": "stdout",
     "output_type": "stream",
     "text": [
      "Y_C: 20\n"
     ]
    }
   ],
   "source": [
    "# Flip 20 iid coins, each exactly once\n",
    "flips20_df = simulate_iid_df(coin_df, nvars=20, rows=1)\n",
    "\n",
    "# Construct Y_C from this sample\n",
    "flips20_df[\"Y_C\"] = 20*flips20_df[\"X_1\"]\n",
    "\n",
    "display(flips20_df[[\"X_1\", \"Y_C\"]])\n",
    "print(\"Y_C:\", flips20_df.loc[0,\"Y_C\"])"
   ]
  },
  {
   "cell_type": "markdown",
   "id": "34170d01-b2b1-4f94-a8b5-78aec5a1b36a",
   "metadata": {},
   "source": [
    "<br/>\n",
    "If you're curious as to what these distributions look like, I've simulated some populations:"
   ]
  },
  {
   "cell_type": "code",
   "execution_count": 26,
   "id": "c2fbdb52-c8f4-4908-b9bc-6af806752c70",
   "metadata": {},
   "outputs": [
    {
     "name": "stdout",
     "output_type": "stream",
     "text": [
      "80000 simulated samples\n"
     ]
    },
    {
     "data": {
      "text/html": [
       "<div>\n",
       "<style scoped>\n",
       "    .dataframe tbody tr th:only-of-type {\n",
       "        vertical-align: middle;\n",
       "    }\n",
       "\n",
       "    .dataframe tbody tr th {\n",
       "        vertical-align: top;\n",
       "    }\n",
       "\n",
       "    .dataframe thead th {\n",
       "        text-align: right;\n",
       "    }\n",
       "</style>\n",
       "<table border=\"1\" class=\"dataframe\">\n",
       "  <thead>\n",
       "    <tr style=\"text-align: right;\">\n",
       "      <th></th>\n",
       "      <th>Y_A</th>\n",
       "      <th>Y_B</th>\n",
       "      <th>Y_C</th>\n",
       "    </tr>\n",
       "  </thead>\n",
       "  <tbody>\n",
       "    <tr>\n",
       "      <th>E[•]</th>\n",
       "      <td>9.987500</td>\n",
       "      <td>9.991350</td>\n",
       "      <td>12.504500</td>\n",
       "    </tr>\n",
       "    <tr>\n",
       "      <th>Var(•)</th>\n",
       "      <td>50.027969</td>\n",
       "      <td>5.027713</td>\n",
       "      <td>56.250683</td>\n",
       "    </tr>\n",
       "    <tr>\n",
       "      <th>SD(•)</th>\n",
       "      <td>7.073045</td>\n",
       "      <td>2.242256</td>\n",
       "      <td>7.500046</td>\n",
       "    </tr>\n",
       "  </tbody>\n",
       "</table>\n",
       "</div>"
      ],
      "text/plain": [
       "              Y_A       Y_B        Y_C\n",
       "E[•]     9.987500  9.991350  12.504500\n",
       "Var(•)  50.027969  5.027713  56.250683\n",
       "SD(•)    7.073045  2.242256   7.500046"
      ]
     },
     "metadata": {},
     "output_type": "display_data"
    },
    {
     "data": {
      "image/png": "[encoded data removed]",
      "text/plain": [
       "<Figure size 600x800 with 3 Axes>"
      ]
     },
     "metadata": {},
     "output_type": "display_data"
    }
   ],
   "source": [
    "# Simulate one big population of 20 fair flips, N = 80,000\n",
    "N = 80000\n",
    "df_coins = simulate_iid_df(coin_df, nvars=20, rows=N)\n",
    "print(f\"{N} simulated samples\")\n",
    "\n",
    "\n",
    "# construct Y_A, Y_B, Y_C from this population\n",
    "df_coins[\"Y_A\"] = 10*df_coins[\"X_1\"] + 10*df_coins[\"X_2\"]\n",
    "df_coins[\"Y_B\"] = df_coins.loc[:,\"X_1\":\"X_20\"].sum(axis=1)\n",
    "df_coins[\"Y_C\"] = 5 + 15*df_coins[\"X_1\"]\n",
    "plot_simulated_dist_multi(df_coins, [\"Y_A\", \"Y_B\", \"Y_C\"])\n",
    "\n",
    "# adjust axes for nicer plotting\n",
    "axs = plt.gcf().axes\n",
    "axs[1].set_xlim(axs[0].get_xlim())    # Y_B\n",
    "axs[1].set_xticks([0, 5, 10, 15, 20]) # Y_B\n",
    "axs[2].set_xlim(axs[0].get_xlim())    # Y_C\n",
    "plt.show()"
   ]
  },
  {
   "cell_type": "markdown",
   "id": "2a36eda2-4a9d-4acf-8cde-d7ea46a0cdbd",
   "metadata": {},
   "source": [
    "<br/><br/>\n",
    "\n",
    "If we flipped 100 coins, look how beautiful the Binomial distribution looks:"
   ]
  },
  {
   "cell_type": "code",
   "execution_count": 27,
   "id": "2a7cbb8c-3bff-49eb-9b01-45c010b16fd4",
   "metadata": {},
   "outputs": [
    {
     "data": {
      "text/html": [
       "<div>\n",
       "<style scoped>\n",
       "    .dataframe tbody tr th:only-of-type {\n",
       "        vertical-align: middle;\n",
       "    }\n",
       "\n",
       "    .dataframe tbody tr th {\n",
       "        vertical-align: top;\n",
       "    }\n",
       "\n",
       "    .dataframe thead th {\n",
       "        text-align: right;\n",
       "    }\n",
       "</style>\n",
       "<table border=\"1\" class=\"dataframe\">\n",
       "  <thead>\n",
       "    <tr style=\"text-align: right;\">\n",
       "      <th></th>\n",
       "      <th>Y_100</th>\n",
       "    </tr>\n",
       "  </thead>\n",
       "  <tbody>\n",
       "    <tr>\n",
       "      <th>E[•]</th>\n",
       "      <td>25.028950</td>\n",
       "    </tr>\n",
       "    <tr>\n",
       "      <th>Var(•)</th>\n",
       "      <td>12.502968</td>\n",
       "    </tr>\n",
       "    <tr>\n",
       "      <th>SD(•)</th>\n",
       "      <td>3.535954</td>\n",
       "    </tr>\n",
       "  </tbody>\n",
       "</table>\n",
       "</div>"
      ],
      "text/plain": [
       "            Y_100\n",
       "E[•]    25.028950\n",
       "Var(•)  12.502968\n",
       "SD(•)    3.535954"
      ]
     },
     "metadata": {},
     "output_type": "display_data"
    },
    {
     "data": {
      "image/png": "[encoded data removed]",
      "text/plain": [
       "<Figure size 640x480 with 1 Axes>"
      ]
     },
     "metadata": {},
     "output_type": "display_data"
    }
   ],
   "source": [
    "# Simulate one big population of 100 fair flips, N = 80,000\n",
    "N = 80000\n",
    "df_coins = simulate_iid_df(coin_df, nvars=50, rows=N)\n",
    "df_coins[\"Y_100\"] = df_coins.loc[:,\"X_1\":\"X_50\"].sum(axis=1)\n",
    "plot_simulated_dist(df_coins, \"Y_100\")\n",
    "plt.xticks([0, 10, 20, 30, 40, 50])\n",
    "plt.show()"
   ]
  },
  {
   "cell_type": "markdown",
   "id": "a88ebf7c-41e1-4607-a61e-6b6c13ba9835",
   "metadata": {},
   "source": [
    "<br/><br/><br/>\n",
    "\n",
    "---\n",
    "\n",
    "# From Population to Sample\n",
    "\n",
    "Remember the population distribution we looked at earlier:"
   ]
  },
  {
   "cell_type": "code",
   "execution_count": 28,
   "id": "9d81997a-86d1-4f32-a709-590619064942",
   "metadata": {},
   "outputs": [
    {
     "data": {
      "text/html": [
       "<div>\n",
       "<style scoped>\n",
       "    .dataframe tbody tr th:only-of-type {\n",
       "        vertical-align: middle;\n",
       "    }\n",
       "\n",
       "    .dataframe tbody tr th {\n",
       "        vertical-align: top;\n",
       "    }\n",
       "\n",
       "    .dataframe thead th {\n",
       "        text-align: right;\n",
       "    }\n",
       "</style>\n",
       "<table border=\"1\" class=\"dataframe\">\n",
       "  <thead>\n",
       "    <tr style=\"text-align: right;\">\n",
       "      <th></th>\n",
       "      <th>x</th>\n",
       "      <th>P(X = x)</th>\n",
       "    </tr>\n",
       "  </thead>\n",
       "  <tbody>\n",
       "    <tr>\n",
       "      <th>0</th>\n",
       "      <td>-1</td>\n",
       "      <td>0.973684</td>\n",
       "    </tr>\n",
       "    <tr>\n",
       "      <th>1</th>\n",
       "      <td>35</td>\n",
       "      <td>0.026316</td>\n",
       "    </tr>\n",
       "  </tbody>\n",
       "</table>\n",
       "</div>"
      ],
      "text/plain": [
       "    x  P(X = x)\n",
       "0  -1  0.973684\n",
       "1  35  0.026316"
      ]
     },
     "execution_count": 28,
     "metadata": {},
     "output_type": "execute_result"
    }
   ],
   "source": [
    "dist_df"
   ]
  },
  {
   "cell_type": "code",
   "execution_count": 29,
   "id": "872523a7-21ed-4003-b0cc-10c41b1d405f",
   "metadata": {},
   "outputs": [
    {
     "data": {
      "text/html": [
       "<div>\n",
       "<style scoped>\n",
       "    .dataframe tbody tr th:only-of-type {\n",
       "        vertical-align: middle;\n",
       "    }\n",
       "\n",
       "    .dataframe tbody tr th {\n",
       "        vertical-align: top;\n",
       "    }\n",
       "\n",
       "    .dataframe thead th {\n",
       "        text-align: right;\n",
       "    }\n",
       "</style>\n",
       "<table border=\"1\" class=\"dataframe\">\n",
       "  <thead>\n",
       "    <tr style=\"text-align: right;\">\n",
       "      <th></th>\n",
       "      <th>X(s)</th>\n",
       "    </tr>\n",
       "  </thead>\n",
       "  <tbody>\n",
       "    <tr>\n",
       "      <th>0</th>\n",
       "      <td>-1</td>\n",
       "    </tr>\n",
       "    <tr>\n",
       "      <th>1</th>\n",
       "      <td>-1</td>\n",
       "    </tr>\n",
       "    <tr>\n",
       "      <th>2</th>\n",
       "      <td>-1</td>\n",
       "    </tr>\n",
       "    <tr>\n",
       "      <th>3</th>\n",
       "      <td>-1</td>\n",
       "    </tr>\n",
       "    <tr>\n",
       "      <th>4</th>\n",
       "      <td>-1</td>\n",
       "    </tr>\n",
       "    <tr>\n",
       "      <th>...</th>\n",
       "      <td>...</td>\n",
       "    </tr>\n",
       "    <tr>\n",
       "      <th>99995</th>\n",
       "      <td>-1</td>\n",
       "    </tr>\n",
       "    <tr>\n",
       "      <th>99996</th>\n",
       "      <td>-1</td>\n",
       "    </tr>\n",
       "    <tr>\n",
       "      <th>99997</th>\n",
       "      <td>-1</td>\n",
       "    </tr>\n",
       "    <tr>\n",
       "      <th>99998</th>\n",
       "      <td>-1</td>\n",
       "    </tr>\n",
       "    <tr>\n",
       "      <th>99999</th>\n",
       "      <td>-1</td>\n",
       "    </tr>\n",
       "  </tbody>\n",
       "</table>\n",
       "<p>100000 rows × 1 columns</p>\n",
       "</div>"
      ],
      "text/plain": [
       "       X(s)\n",
       "0        -1\n",
       "1        -1\n",
       "2        -1\n",
       "3        -1\n",
       "4        -1\n",
       "...     ...\n",
       "99995    -1\n",
       "99996    -1\n",
       "99997    -1\n",
       "99998    -1\n",
       "99999    -1\n",
       "\n",
       "[100000 rows x 1 columns]"
      ]
     },
     "execution_count": 29,
     "metadata": {},
     "output_type": "execute_result"
    }
   ],
   "source": [
    "(4/5)*(3/4)/((4/5)*(3/4)+(1/4)*(2/5))"
   ]
  },
  {
   "cell_type": "code",
   "execution_count": 30,
   "id": "ad63c3b3-bc4d-4bde-ae82-03e3121806ae",
   "metadata": {},
   "outputs": [
    {
     "data": {
      "text/html": [
       "<div>\n",
       "<style scoped>\n",
       "    .dataframe tbody tr th:only-of-type {\n",
       "        vertical-align: middle;\n",
       "    }\n",
       "\n",
       "    .dataframe tbody tr th {\n",
       "        vertical-align: top;\n",
       "    }\n",
       "\n",
       "    .dataframe thead th {\n",
       "        text-align: right;\n",
       "    }\n",
       "</style>\n",
       "<table border=\"1\" class=\"dataframe\">\n",
       "  <thead>\n",
       "    <tr style=\"text-align: right;\">\n",
       "      <th></th>\n",
       "      <th>X</th>\n",
       "    </tr>\n",
       "  </thead>\n",
       "  <tbody>\n",
       "    <tr>\n",
       "      <th>0</th>\n",
       "      <td>-1</td>\n",
       "    </tr>\n",
       "    <tr>\n",
       "      <th>1</th>\n",
       "      <td>-1</td>\n",
       "    </tr>\n",
       "    <tr>\n",
       "      <th>2</th>\n",
       "      <td>-1</td>\n",
       "    </tr>\n",
       "    <tr>\n",
       "      <th>3</th>\n",
       "      <td>-1</td>\n",
       "    </tr>\n",
       "    <tr>\n",
       "      <th>4</th>\n",
       "      <td>-1</td>\n",
       "    </tr>\n",
       "    <tr>\n",
       "      <th>...</th>\n",
       "      <td>...</td>\n",
       "    </tr>\n",
       "    <tr>\n",
       "      <th>95</th>\n",
       "      <td>-1</td>\n",
       "    </tr>\n",
       "    <tr>\n",
       "      <th>96</th>\n",
       "      <td>-1</td>\n",
       "    </tr>\n",
       "    <tr>\n",
       "      <th>97</th>\n",
       "      <td>-1</td>\n",
       "    </tr>\n",
       "    <tr>\n",
       "      <th>98</th>\n",
       "      <td>35</td>\n",
       "    </tr>\n",
       "    <tr>\n",
       "      <th>99</th>\n",
       "      <td>-1</td>\n",
       "    </tr>\n",
       "  </tbody>\n",
       "</table>\n",
       "<p>100 rows × 1 columns</p>\n",
       "</div>"
      ],
      "text/plain": [
       "     X\n",
       "0   -1\n",
       "1   -1\n",
       "2   -1\n",
       "3   -1\n",
       "4   -1\n",
       "..  ..\n",
       "95  -1\n",
       "96  -1\n",
       "97  -1\n",
       "98  35\n",
       "99  -1\n",
       "\n",
       "[100 rows x 1 columns]"
      ]
     },
     "execution_count": 30,
     "metadata": {},
     "output_type": "execute_result"
    }
   ],
   "source": [
    "3/7"
   ]
  },
  {
   "cell_type": "code",
   "execution_count": 31,
   "id": "11316920-5538-48fe-94df-16ac7bba810c",
   "metadata": {},
   "outputs": [
    {
     "data": {
      "image/png": "[encoded data removed]",
      "text/plain": [
       "0.8571428571428571"
      ]
     },
     "execution_count": 39,
     "metadata": {},
     "output_type": "display_data"
    },
    {
     "name": "stdout",
     "output_type": "stream",
     "text": [
      "Mean of Sample: 1.16\n"
     ]
    }
   ],
   "source": [
    "sns.histplot(data=sample_df, x='X', stat='probability')\n",
    "plt.xticks([3, 4, 6, 8])\n",
    "plt.title(f\"Sample (n = 100)\")\n",
    "plt.show()\n",
    "\n",
    "print(\"Mean of Sample:\", np.mean(sample_df['X']))"
   ]
  },
  {
   "cell_type": "markdown",
   "id": "dadbeb02-3d04-41dd-93e7-f4333a00b5d8",
   "metadata": {},
   "source": [
    "<br/>\n",
    "\n",
    "Compare this to our **original population** (N = 80,000):"
   ]
  },
  {
   "cell_type": "code",
   "execution_count": 32,
   "id": "231eecae-9f83-4fb7-bc50-94db69ee286a",
   "metadata": {},
   "outputs": [
    {
     "ename": "NameError",
     "evalue": "name 'sim_df' is not defined",
     "output_type": "error",
     "traceback": [
      "\u001b[0;31m---------------------------------------------------------------------------\u001b[0m",
      "\u001b[0;31mNameError\u001b[0m                                 Traceback (most recent call last)",
      "Cell \u001b[0;32mIn[32], line 1\u001b[0m\n\u001b[0;32m----> 1\u001b[0m plot_simulated_dist(\u001b[43msim_df\u001b[49m, \u001b[38;5;124m\"\u001b[39m\u001b[38;5;124mX(s)\u001b[39m\u001b[38;5;124m\"\u001b[39m)\n\u001b[1;32m      2\u001b[0m plt\u001b[38;5;241m.\u001b[39mtitle(\u001b[38;5;124m\"\u001b[39m\u001b[38;5;124mPopulation of $X$\u001b[39m\u001b[38;5;124m\"\u001b[39m)\n\u001b[1;32m      3\u001b[0m plt\u001b[38;5;241m.\u001b[39mshow()\n",
      "\u001b[0;31mNameError\u001b[0m: name 'sim_df' is not defined"
     ]
    }
   ],
   "source": [
    "plot_simulated_dist(sim_df, \"X(s)\")\n",
    "plt.title(\"Population of $X$\")\n",
    "plt.show()"
   ]
  },
  {
   "cell_type": "code",
   "execution_count": null,
   "id": "d0996539",
   "metadata": {},
   "outputs": [],
   "source": []
  },
  {
   "cell_type": "code",
   "execution_count": null,
   "id": "b263b555-e82d-4412-bc4b-732b0b2c20ad",
   "metadata": {},
   "outputs": [],
   "source": []
  }
 ],
 "metadata": {
  "kernelspec": {
   "display_name": "Python 3 (ipykernel)",
   "language": "python",
   "name": "python3"
  },
  "language_info": {
   "codemirror_mode": {
    "name": "ipython",
    "version": 3
   },
   "file_extension": ".py",
   "mimetype": "text/x-python",
   "name": "python",
   "nbconvert_exporter": "python",
   "pygments_lexer": "ipython3",
   "version": "3.10.8"
  }
 },
 "nbformat": 4,
 "nbformat_minor": 5
}
